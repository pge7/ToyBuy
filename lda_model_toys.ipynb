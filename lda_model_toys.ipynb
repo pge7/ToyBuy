{
 "cells": [
  {
   "cell_type": "markdown",
   "metadata": {},
   "source": [
    "# LDA TOPIC MODELING \n",
    "\n",
    "This notebook applies LDA modeling to a dataset from a Kaggle dataset of news headlines:\n",
    "\n",
    "https://www.kaggle.com/therohk/million-headlines\n",
    "\n",
    "using GENSIM toolkit:\n",
    "\n",
    "https://radimrehurek.com/gensim/\n",
    "\n",
    "and following a really useful tutorial from machinelearningplus website:\n",
    "\n",
    "https://www.machinelearningplus.com/nlp/topic-modeling-gensim-python/\n",
    "\n"
   ]
  },
  {
   "cell_type": "markdown",
   "metadata": {},
   "source": [
    "__Steps__\n",
    "\n",
    "- Text porcessing\n",
    "- Bulding the model"
   ]
  },
  {
   "cell_type": "markdown",
   "metadata": {},
   "source": [
    "__Other interesting links:__\n",
    "\n",
    "- https://en.wikipedia.org/wiki/Latent_Dirichlet_allocation\n",
    "\n",
    "- https://www.analyticsvidhya.com/blog/2016/08/beginners-guide-to-topic-modeling-in-python/\n",
    "\n",
    "- https://medium.com/@lettier/how-does-lda-work-ill-explain-using-emoji-108abf40fa7d\n",
    "\n",
    "- https://stackoverflow.com/questions/20984841/topic-distribution-how-do-we-see-which-document-belong-to-which-topic-after-doi\n",
    "\n",
    "- https://datascienceplus.com/evaluation-of-topic-modeling-topic-coherence/"
   ]
  },
  {
   "cell_type": "markdown",
   "metadata": {},
   "source": [
    "__Required Libraries__"
   ]
  },
  {
   "cell_type": "code",
   "execution_count": 1,
   "metadata": {},
   "outputs": [],
   "source": [
    "import pandas as pd\n",
    "import numpy as np\n",
    "\n",
    "\n",
    "import string\n",
    "import re\n",
    "from pprint import pprint\n",
    "\n",
    "# NLTK \n",
    "from nltk.corpus import stopwords\n",
    "from nltk.stem.wordnet import WordNetLemmatizer\n",
    "from nltk.corpus import stopwords\n",
    "stop_words = stopwords.words('english') #this depends on each language\n",
    "\n",
    "# Gensim\n",
    "import gensim\n",
    "import gensim.corpora as corpora\n",
    "from gensim.utils import simple_preprocess\n",
    "from gensim.models import CoherenceModel\n",
    "\n",
    "# spacy for lemmatization\n",
    "import spacy\n",
    "\n",
    "# Plotting tools\n",
    "import pyLDAvis\n",
    "import pyLDAvis.gensim  \n",
    "import matplotlib.pyplot as plt\n",
    "%matplotlib inline\n",
    "\n",
    "# Enable logging for gensim - optional\n",
    "import logging\n",
    "logging.basicConfig(format='%(asctime)s : %(levelname)s : %(message)s', level=logging.ERROR)\n",
    "\n",
    "import warnings\n",
    "warnings.filterwarnings(\"ignore\",category=DeprecationWarning)"
   ]
  },
  {
   "cell_type": "markdown",
   "metadata": {},
   "source": [
    "__Loading data__"
   ]
  },
  {
   "cell_type": "code",
   "execution_count": 8,
   "metadata": {},
   "outputs": [
    {
     "name": "stderr",
     "output_type": "stream",
     "text": [
      "C:\\Users\\yulier\\Anaconda3\\envs\\insight\\lib\\site-packages\\IPython\\core\\interactiveshell.py:3058: DtypeWarning: Columns (29,37,41,42,43,45,47,50,53) have mixed types. Specify dtype option on import or set low_memory=False.\n",
      "  interactivity=interactivity, compiler=compiler, result=result)\n"
     ]
    }
   ],
   "source": [
    "df = pd.read_csv(\"./listing_207900withimages_927.csv\", index_col = 0) "
   ]
  },
  {
   "cell_type": "code",
   "execution_count": 9,
   "metadata": {},
   "outputs": [
    {
     "data": {
      "text/plain": [
       "207900"
      ]
     },
     "execution_count": 9,
     "metadata": {},
     "output_type": "execute_result"
    }
   ],
   "source": [
    "df.shape[0]"
   ]
  },
  {
   "cell_type": "code",
   "execution_count": 10,
   "metadata": {},
   "outputs": [
    {
     "data": {
      "text/html": [
       "<div>\n",
       "<style scoped>\n",
       "    .dataframe tbody tr th:only-of-type {\n",
       "        vertical-align: middle;\n",
       "    }\n",
       "\n",
       "    .dataframe tbody tr th {\n",
       "        vertical-align: top;\n",
       "    }\n",
       "\n",
       "    .dataframe thead th {\n",
       "        text-align: right;\n",
       "    }\n",
       "</style>\n",
       "<table border=\"1\" class=\"dataframe\">\n",
       "  <thead>\n",
       "    <tr style=\"text-align: right;\">\n",
       "      <th></th>\n",
       "      <th>listing_id</th>\n",
       "      <th>state</th>\n",
       "      <th>user_id</th>\n",
       "      <th>category_id</th>\n",
       "      <th>title</th>\n",
       "      <th>description</th>\n",
       "      <th>creation_tsz</th>\n",
       "      <th>ending_tsz</th>\n",
       "      <th>original_creation_tsz</th>\n",
       "      <th>last_modified_tsz</th>\n",
       "      <th>...</th>\n",
       "      <th>file_data</th>\n",
       "      <th>should_auto_renew</th>\n",
       "      <th>language</th>\n",
       "      <th>has_variations</th>\n",
       "      <th>taxonomy_id</th>\n",
       "      <th>taxonomy_path</th>\n",
       "      <th>used_manufacturer</th>\n",
       "      <th>Images</th>\n",
       "      <th>suggested_taxonomy_id</th>\n",
       "      <th>error_messages</th>\n",
       "    </tr>\n",
       "  </thead>\n",
       "  <tbody>\n",
       "    <tr>\n",
       "      <td>0</td>\n",
       "      <td>663885606</td>\n",
       "      <td>active</td>\n",
       "      <td>10324319.0</td>\n",
       "      <td>69150393.0</td>\n",
       "      <td>St. Martin de Porres Dominican saint crochet a...</td>\n",
       "      <td>Handmade crochet doll of saint Martin de Porre...</td>\n",
       "      <td>1.569560e+09</td>\n",
       "      <td>1.580104e+09</td>\n",
       "      <td>1.548395e+09</td>\n",
       "      <td>1.569560e+09</td>\n",
       "      <td>...</td>\n",
       "      <td>NaN</td>\n",
       "      <td>True</td>\n",
       "      <td>en-US</td>\n",
       "      <td>False</td>\n",
       "      <td>1607.0</td>\n",
       "      <td>['Toys &amp; Games', 'Toys', 'Dolls &amp; Action Figur...</td>\n",
       "      <td>False</td>\n",
       "      <td>[{'listing_image_id': 1804970019, 'hex_code': ...</td>\n",
       "      <td>NaN</td>\n",
       "      <td>NaN</td>\n",
       "    </tr>\n",
       "  </tbody>\n",
       "</table>\n",
       "<p>1 rows × 53 columns</p>\n",
       "</div>"
      ],
      "text/plain": [
       "   listing_id   state     user_id  category_id  \\\n",
       "0   663885606  active  10324319.0   69150393.0   \n",
       "\n",
       "                                               title  \\\n",
       "0  St. Martin de Porres Dominican saint crochet a...   \n",
       "\n",
       "                                         description  creation_tsz  \\\n",
       "0  Handmade crochet doll of saint Martin de Porre...  1.569560e+09   \n",
       "\n",
       "     ending_tsz  original_creation_tsz  last_modified_tsz  ...  file_data  \\\n",
       "0  1.580104e+09           1.548395e+09       1.569560e+09  ...        NaN   \n",
       "\n",
       "  should_auto_renew  language has_variations taxonomy_id  \\\n",
       "0              True     en-US          False      1607.0   \n",
       "\n",
       "                                       taxonomy_path used_manufacturer  \\\n",
       "0  ['Toys & Games', 'Toys', 'Dolls & Action Figur...             False   \n",
       "\n",
       "                                              Images  suggested_taxonomy_id  \\\n",
       "0  [{'listing_image_id': 1804970019, 'hex_code': ...                    NaN   \n",
       "\n",
       "   error_messages  \n",
       "0             NaN  \n",
       "\n",
       "[1 rows x 53 columns]"
      ]
     },
     "execution_count": 10,
     "metadata": {},
     "output_type": "execute_result"
    }
   ],
   "source": [
    "df.head(1)"
   ]
  },
  {
   "cell_type": "code",
   "execution_count": 12,
   "metadata": {},
   "outputs": [],
   "source": [
    "data=df['title'].values.tolist()"
   ]
  },
  {
   "cell_type": "code",
   "execution_count": 13,
   "metadata": {},
   "outputs": [
    {
     "name": "stdout",
     "output_type": "stream",
     "text": [
      "['St. Martin de Porres Dominican saint crochet amigurumi kokeshi doll, '\n",
      " 'catholic, kids gift, Easter basket stuffer, baby toy, nursery decor']\n"
     ]
    }
   ],
   "source": [
    "pprint(data[:1])"
   ]
  },
  {
   "cell_type": "markdown",
   "metadata": {},
   "source": [
    "__Tokenize words and Clean-up text__"
   ]
  },
  {
   "cell_type": "code",
   "execution_count": 14,
   "metadata": {},
   "outputs": [
    {
     "name": "stdout",
     "output_type": "stream",
     "text": [
      "[['st', 'martin', 'de', 'porres', 'dominican', 'saint', 'crochet', 'amigurumi', 'kokeshi', 'doll', 'catholic', 'kids', 'gift', 'easter', 'basket', 'stuffer', 'baby', 'toy', 'nursery', 'decor']]\n"
     ]
    }
   ],
   "source": [
    "def sent_to_words(sentences):\n",
    "    for sentence in sentences:\n",
    "        yield(gensim.utils.simple_preprocess(str(sentence), deacc=True))  # deacc=True removes punctuations\n",
    "\n",
    "data_words = list(sent_to_words(data))\n",
    "\n",
    "print(data_words[:1])"
   ]
  },
  {
   "cell_type": "markdown",
   "metadata": {},
   "source": [
    "__Bigrams & Trigrams__\n",
    "\n",
    "Bigrams are two words frequently occurring together in the document. Trigrams are 3 words frequently occurring."
   ]
  },
  {
   "cell_type": "code",
   "execution_count": 15,
   "metadata": {},
   "outputs": [
    {
     "name": "stdout",
     "output_type": "stream",
     "text": [
      "['st', 'martin_de_porres', 'dominican', 'saint', 'crochet', 'amigurumi', 'kokeshi', 'doll', 'catholic', 'kids', 'gift', 'easter', 'basket_stuffer', 'baby', 'toy', 'nursery', 'decor']\n"
     ]
    }
   ],
   "source": [
    "# Build the bigram and trigram models\n",
    "bigram = gensim.models.Phrases(data_words, min_count=5, threshold=100) # higher threshold fewer phrases.\n",
    "trigram = gensim.models.Phrases(bigram[data_words], threshold=100)  \n",
    "\n",
    "# Faster way to get a sentence clubbed as a trigram/bigram\n",
    "bigram_mod = gensim.models.phrases.Phraser(bigram)\n",
    "trigram_mod = gensim.models.phrases.Phraser(trigram)\n",
    "\n",
    "# See trigram example\n",
    "print(trigram_mod[bigram_mod[data_words[0]]])"
   ]
  },
  {
   "cell_type": "markdown",
   "metadata": {},
   "source": [
    "__Remove Stopwords, Make Bigrams and Lemmatize__"
   ]
  },
  {
   "cell_type": "code",
   "execution_count": 16,
   "metadata": {},
   "outputs": [],
   "source": [
    "# Define functions for stopwords, bigrams, trigrams and lemmatization\n",
    "def remove_stopwords(texts):\n",
    "    return [[word for word in simple_preprocess(str(doc)) if word not in stop_words] for doc in texts]\n",
    "\n",
    "def make_bigrams(texts):\n",
    "    return [bigram_mod[doc] for doc in texts]\n",
    "\n",
    "def make_trigrams(texts):\n",
    "    return [trigram_mod[bigram_mod[doc]] for doc in texts]\n",
    "\n",
    "def lemmatization(texts, allowed_postags=['NOUN', 'ADJ', 'VERB', 'ADV']):\n",
    "    \"\"\"https://spacy.io/api/annotation\"\"\"\n",
    "    texts_out = []\n",
    "    for sent in texts:\n",
    "        doc = nlp(\" \".join(sent)) \n",
    "        texts_out.append([token.lemma_ for token in doc if token.pos_ in allowed_postags])\n",
    "    return texts_out"
   ]
  },
  {
   "cell_type": "markdown",
   "metadata": {},
   "source": [
    "__Let’s call the functions in order__"
   ]
  },
  {
   "cell_type": "code",
   "execution_count": 17,
   "metadata": {},
   "outputs": [
    {
     "name": "stdout",
     "output_type": "stream",
     "text": [
      "[['martin', 'dominican', 'saint', 'crochet', 'amigurumi', 'kokeshi', 'doll', 'catholic', 'kid', 'gift', 'easter', 'basket', 'stuffer', 'baby', 'toy', 'nursery', 'decor']]\n"
     ]
    }
   ],
   "source": [
    "#To run this code it is necessary to get the spacy moidel: \"!python - m spacy download en\", last depends on the used language \n",
    "\n",
    "# Remove Stop Words\n",
    "data_words_nostops = remove_stopwords(data_words)\n",
    "\n",
    "# Form Bigrams\n",
    "data_words_bigrams = make_bigrams(data_words_nostops)\n",
    "\n",
    "# Initialize spacy 'es' model, keeping only tagger component (for efficiency)\n",
    "# python3 -m spacy download es\n",
    "nlp = spacy.load('en', disable=['parser', 'ner'])\n",
    "\n",
    "# Do lemmatization keeping only noun, adj, vb, adv\n",
    "data_lemmatized = lemmatization(data_words_bigrams, allowed_postags=['NOUN', 'ADJ', 'VERB', 'ADV'])\n",
    "\n",
    "print(data_lemmatized[:1])"
   ]
  },
  {
   "cell_type": "markdown",
   "metadata": {},
   "source": [
    "__Create the Dictionary and Corpus needed for Topic Modeling__"
   ]
  },
  {
   "cell_type": "code",
   "execution_count": 18,
   "metadata": {},
   "outputs": [
    {
     "name": "stdout",
     "output_type": "stream",
     "text": [
      "[[(0, 1), (1, 1), (2, 1), (3, 1), (4, 1), (5, 1), (6, 1), (7, 1), (8, 1), (9, 1), (10, 1), (11, 1), (12, 1), (13, 1), (14, 1), (15, 1), (16, 1)]]\n"
     ]
    }
   ],
   "source": [
    "# Create Dictionary\n",
    "id2word = corpora.Dictionary(data_lemmatized)\n",
    "\n",
    "# Create Corpus\n",
    "texts = data_lemmatized\n",
    "\n",
    "# Term Document Frequency\n",
    "corpus = [id2word.doc2bow(text) for text in texts]\n",
    "\n",
    "# View\n",
    "print(corpus[:1])"
   ]
  },
  {
   "cell_type": "markdown",
   "metadata": {},
   "source": [
    "If you want to see what word a given id corresponds to, pass the id as a key to the dictionary"
   ]
  },
  {
   "cell_type": "code",
   "execution_count": 19,
   "metadata": {},
   "outputs": [
    {
     "data": {
      "text/plain": [
       "'amigurumi'"
      ]
     },
     "execution_count": 19,
     "metadata": {},
     "output_type": "execute_result"
    }
   ],
   "source": [
    "id2word[0]"
   ]
  },
  {
   "cell_type": "markdown",
   "metadata": {},
   "source": [
    "Or, you can see a human-readable form of the corpus itself."
   ]
  },
  {
   "cell_type": "code",
   "execution_count": 20,
   "metadata": {},
   "outputs": [
    {
     "data": {
      "text/plain": [
       "[[('amigurumi', 1),\n",
       "  ('baby', 1),\n",
       "  ('basket', 1),\n",
       "  ('catholic', 1),\n",
       "  ('crochet', 1),\n",
       "  ('decor', 1),\n",
       "  ('doll', 1),\n",
       "  ('dominican', 1),\n",
       "  ('easter', 1),\n",
       "  ('gift', 1),\n",
       "  ('kid', 1),\n",
       "  ('kokeshi', 1),\n",
       "  ('martin', 1),\n",
       "  ('nursery', 1),\n",
       "  ('saint', 1),\n",
       "  ('stuffer', 1),\n",
       "  ('toy', 1)],\n",
       " [('baby', 1),\n",
       "  ('kid', 1),\n",
       "  ('toy', 2),\n",
       "  ('accessory', 1),\n",
       "  ('animal', 1),\n",
       "  ('cute', 1),\n",
       "  ('deer', 1),\n",
       "  ('knit', 2),\n",
       "  ('new', 1),\n",
       "  ('newborn', 1),\n",
       "  ('photo', 1),\n",
       "  ('photography', 1),\n",
       "  ('prop', 1),\n",
       "  ('ready', 1),\n",
       "  ('ship', 1),\n",
       "  ('shoot', 1),\n",
       "  ('umigurumi', 1),\n",
       "  ('year', 1)]]"
      ]
     },
     "execution_count": 20,
     "metadata": {},
     "output_type": "execute_result"
    }
   ],
   "source": [
    "# Human readable format of corpus (term-frequency)\n",
    "[[(id2word[id], freq) for id, freq in cp] for cp in corpus[:2]]"
   ]
  },
  {
   "cell_type": "markdown",
   "metadata": {},
   "source": [
    "__Building the Topic Model__"
   ]
  },
  {
   "cell_type": "code",
   "execution_count": 21,
   "metadata": {},
   "outputs": [],
   "source": [
    "# Build LDA model\n",
    "lda_model = gensim.models.ldamodel.LdaModel(corpus=corpus,\n",
    "                                           id2word=id2word,\n",
    "                                           num_topics=20, \n",
    "                                           random_state=100,\n",
    "                                           update_every=1,\n",
    "                                           chunksize=100,\n",
    "                                           passes=4,\n",
    "                                           alpha='auto',\n",
    "                                           per_word_topics=True)"
   ]
  },
  {
   "cell_type": "markdown",
   "metadata": {},
   "source": [
    "__View the topics in LDA model__"
   ]
  },
  {
   "cell_type": "code",
   "execution_count": 22,
   "metadata": {
    "scrolled": true
   },
   "outputs": [
    {
     "name": "stdout",
     "output_type": "stream",
     "text": [
      "[(0,\n",
      "  '0.421*\"mask\" + 0.204*\"box\" + 0.171*\"card\" + 0.105*\"inspire\" + 0.042*\"face\" '\n",
      "  '+ 0.020*\"fall\" + 0.007*\"yoga\" + 0.000*\"cpsc_compliant\" + 0.000*\"machine\" + '\n",
      "  '0.000*\"stitch\"'),\n",
      " (1,\n",
      "  '0.633*\"kid\" + 0.170*\"make\" + 0.157*\"pink\" + 0.008*\"apple\" + 0.007*\"cherry\" '\n",
      "  '+ 0.003*\"etsy\" + 0.002*\"science\" + 0.002*\"pie\" + 0.000*\"teepee\" + '\n",
      "  '0.000*\"tent\"'),\n",
      " (2,\n",
      "  '0.224*\"knit\" + 0.212*\"board\" + 0.107*\"accessory\" + 0.073*\"new\" + '\n",
      "  '0.064*\"ship\" + 0.062*\"mini\" + 0.061*\"ready\" + 0.048*\"photo\" + 0.033*\"deer\" '\n",
      "  '+ 0.033*\"gray\"'),\n",
      " (3,\n",
      "  '0.297*\"play\" + 0.212*\"feel\" + 0.088*\"pretend\" + 0.087*\"children\" + '\n",
      "  '0.078*\"food\" + 0.055*\"kitchen\" + 0.040*\"halloween\" + 0.033*\"tea\" + '\n",
      "  '0.026*\"costume\" + 0.017*\"fruit\"'),\n",
      " (4,\n",
      "  '0.232*\"soft\" + 0.156*\"hand\" + 0.103*\"cat\" + 0.094*\"piece\" + 0.092*\"unicorn\" '\n",
      "  '+ 0.054*\"jigsaw\" + 0.036*\"big\" + 0.035*\"table\" + 0.034*\"crayon\" + '\n",
      "  '0.033*\"bird\"'),\n",
      " (5,\n",
      "  '0.651*\"set\" + 0.238*\"puppet\" + 0.080*\"finger\" + 0.000*\"teepee\" + '\n",
      "  '0.000*\"chess\" + 0.000*\"glove\" + 0.000*\"theatre\" + 0.000*\"bear\" + '\n",
      "  '0.000*\"tent\" + 0.000*\"sock\"'),\n",
      " (6,\n",
      "  '0.619*\"baby\" + 0.096*\"shower\" + 0.047*\"present\" + 0.038*\"unique\" + '\n",
      "  '0.033*\"stroller\" + 0.027*\"necklace\" + 0.026*\"heart\" + 0.017*\"beautiful\" + '\n",
      "  '0.012*\"bead\" + 0.010*\"donkey\"'),\n",
      " (7,\n",
      "  '0.287*\"blue\" + 0.227*\"red\" + 0.168*\"green\" + 0.110*\"old\" + 0.047*\"lion\" + '\n",
      "  '0.030*\"cow\" + 0.027*\"playing\" + 0.016*\"sweater\" + 0.016*\"coral\" + '\n",
      "  '0.011*\"hoop\"'),\n",
      " (8,\n",
      "  '0.455*\"turtle\" + 0.118*\"stress\" + 0.000*\"ball\" + 0.000*\"cotton\" + '\n",
      "  '0.000*\"tortoise\" + 0.000*\"print\" + 0.000*\"ring\" + 0.000*\"spoon\" + '\n",
      "  '0.000*\"pull\" + 0.000*\"ep\"'),\n",
      " (9,\n",
      "  '0.184*\"wooden\" + 0.170*\"puzzle\" + 0.088*\"name\" + 0.073*\"personalize\" + '\n",
      "  '0.071*\"wood\" + 0.064*\"toddler\" + 0.051*\"montessori\" + 0.043*\"educational\" + '\n",
      "  '0.035*\"custom\" + 0.029*\"personalized\"'),\n",
      " (10,\n",
      "  '0.169*\"handmade\" + 0.166*\"animal\" + 0.160*\"crochet\" + 0.139*\"stuff\" + '\n",
      "  '0.121*\"plush\" + 0.088*\"amigurumi\" + 0.037*\"small\" + 0.025*\"decoration\" + '\n",
      "  '0.021*\"easter\" + 0.020*\"monkey\"'),\n",
      " (11,\n",
      "  '0.538*\"quot\" + 0.107*\"free\" + 0.081*\"shipping\" + 0.071*\"hair\" + '\n",
      "  '0.055*\"good\" + 0.045*\"complete\" + 0.032*\"condition\" + 0.016*\"hot\" + '\n",
      "  '0.010*\"parker_brother\" + 0.010*\"symbol\"'),\n",
      " (12,\n",
      "  '0.549*\"toy\" + 0.321*\"child\" + 0.030*\"waldorf\" + 0.023*\"natural\" + '\n",
      "  '0.020*\"travel\" + 0.019*\"car\" + 0.007*\"tray\" + 0.006*\"imagination\" + '\n",
      "  '0.004*\"airplane\" + 0.003*\"open_ende\"'),\n",
      " (13,\n",
      "  '0.511*\"gift\" + 0.149*\"girl\" + 0.116*\"birthday\" + 0.086*\"boy\" + '\n",
      "  '0.082*\"christmas\" + 0.019*\"newborn\" + 0.014*\"baptism\" + 0.013*\"frog\" + '\n",
      "  '0.000*\"bear\" + 0.000*\"personalise\"'),\n",
      " (14,\n",
      "  '0.117*\"bunny\" + 0.080*\"activity\" + 0.073*\"rabbit\" + 0.063*\"quiet\" + '\n",
      "  '0.059*\"busy\" + 0.056*\"inch\" + 0.054*\"cute\" + 0.051*\"sensory\" + '\n",
      "  '0.050*\"fairy\" + 0.045*\"tooth\"'),\n",
      " (15,\n",
      "  '0.443*\"game\" + 0.148*\"little\" + 0.104*\"miniature\" + 0.051*\"match\" + '\n",
      "  '0.043*\"memory\" + 0.038*\"price\" + 0.037*\"pig\" + 0.036*\"fisher\" + '\n",
      "  '0.024*\"piggy\" + 0.021*\"forest\"'),\n",
      " (16,\n",
      "  '0.184*\"pillow\" + 0.178*\"white\" + 0.114*\"story\" + 0.078*\"organic\" + '\n",
      "  '0.073*\"original\" + 0.064*\"purple\" + 0.048*\"flannel\" + 0.046*\"time\" + '\n",
      "  '0.030*\"sea\" + 0.029*\"fleece\"'),\n",
      " (17,\n",
      "  '0.953*\"doll\" + 0.011*\"money\" + 0.010*\"marble\" + 0.007*\"hardwood\" + '\n",
      "  '0.004*\"solid\" + 0.000*\"rag\" + 0.000*\"cloth\" + 0.000*\"clothe\" + '\n",
      "  '0.000*\"fabric\" + 0.000*\"bear\"'),\n",
      " (18,\n",
      "  '0.169*\"decor\" + 0.122*\"block\" + 0.108*\"dress\" + 0.107*\"nursery\" + '\n",
      "  '0.090*\"party\" + 0.072*\"room\" + 0.061*\"size\" + 0.048*\"rainbow\" + 0.044*\"kit\" '\n",
      "  '+ 0.042*\"favor\"'),\n",
      " (19,\n",
      "  '0.507*\"vintage\" + 0.179*\"book\" + 0.068*\"color\" + 0.035*\"american\" + '\n",
      "  '0.030*\"great\" + 0.026*\"ussr\" + 0.026*\"soviet\" + 0.023*\"tool\" + '\n",
      "  '0.020*\"picture\" + 0.020*\"russian\"')]\n"
     ]
    }
   ],
   "source": [
    "# Print the Keyword in the 10 topics\n",
    "pprint(lda_model.print_topics())\n",
    "doc_lda = lda_model[corpus]"
   ]
  },
  {
   "cell_type": "markdown",
   "metadata": {},
   "source": [
    "__Compute Model Perplexity and Coherence Score__"
   ]
  },
  {
   "cell_type": "code",
   "execution_count": 23,
   "metadata": {},
   "outputs": [
    {
     "name": "stdout",
     "output_type": "stream",
     "text": [
      "\n",
      "Perplexity:  -16.151604619544063\n",
      "\n",
      "Coherence Score:  0.36055390408561866\n"
     ]
    }
   ],
   "source": [
    "# Compute Perplexity\n",
    "print('\\nPerplexity: ', lda_model.log_perplexity(corpus))  # a measure of how good the model is. lower the better.\n",
    "\n",
    "# Compute Coherence Score\n",
    "coherence_model_lda = CoherenceModel(model=lda_model, texts=data_lemmatized, dictionary=id2word, coherence='c_v')\n",
    "coherence_lda = coherence_model_lda.get_coherence()\n",
    "print('\\nCoherence Score: ', coherence_lda)"
   ]
  },
  {
   "cell_type": "markdown",
   "metadata": {},
   "source": [
    "__Visualize the topics-keywords__"
   ]
  },
  {
   "cell_type": "code",
   "execution_count": 24,
   "metadata": {},
   "outputs": [
    {
     "name": "stderr",
     "output_type": "stream",
     "text": [
      "C:\\Users\\yulier\\Anaconda3\\envs\\insight\\lib\\site-packages\\pyLDAvis\\_prepare.py:257: FutureWarning: Sorting because non-concatenation axis is not aligned. A future version\n",
      "of pandas will change to not sort by default.\n",
      "\n",
      "To accept the future behavior, pass 'sort=False'.\n",
      "\n",
      "To retain the current behavior and silence the warning, pass 'sort=True'.\n",
      "\n",
      "  return pd.concat([default_term_info] + list(topic_dfs))\n"
     ]
    },
    {
     "data": {
      "text/html": [
       "\n",
       "<link rel=\"stylesheet\" type=\"text/css\" href=\"https://cdn.rawgit.com/bmabey/pyLDAvis/files/ldavis.v1.0.0.css\">\n",
       "\n",
       "\n",
       "<div id=\"ldavis_el1186422854521498329731621656\"></div>\n",
       "<script type=\"text/javascript\">\n",
       "\n",
       "var ldavis_el1186422854521498329731621656_data = {\"mdsDat\": {\"x\": [0.205686163635573, 0.15033968756515262, 0.19115888198247122, 0.1283142875357592, 0.10152630990225335, 0.0369377777078175, 0.0711309604214903, 0.015213668622549782, 0.024631311494637882, -0.018156367745790544, -0.012781485739367012, 0.004245507938871856, -0.030206280831188894, -0.041214218052053796, -0.0973930394022351, -0.12340725770411319, -0.10802207953218908, -0.15717984793402542, -0.11724737958093315, -0.22357660028467954], \"y\": [0.14733543150176076, 0.08073780364145777, -0.2754660926945692, 0.061835803254114786, -0.2317592026972144, 0.010768640558101873, 0.02617272850010647, 0.0031418602385244717, 0.21531162647180166, -0.008085628069093513, -0.005971314861806088, -0.0011681655440196014, -0.011104275492506258, 0.16355670187431953, -0.026048950751879067, -0.02968213184184048, -0.027547118113902626, -0.034526156779875236, -0.028889638715704973, -0.028611920477776186], \"topics\": [1, 2, 3, 4, 5, 6, 7, 8, 9, 10, 11, 12, 13, 14, 15, 16, 17, 18, 19, 20], \"cluster\": [1, 1, 1, 1, 1, 1, 1, 1, 1, 1, 1, 1, 1, 1, 1, 1, 1, 1, 1, 1], \"Freq\": [15.676909446716309, 10.107898712158203, 10.034828186035156, 7.693327903747559, 5.875176429748535, 5.374603748321533, 5.06875467300415, 4.757307529449463, 4.653656005859375, 4.330417156219482, 4.235459327697754, 4.211390495300293, 3.4112770557403564, 3.1357593536376953, 2.843782901763916, 2.3503708839416504, 2.3291003704071045, 2.1163442134857178, 1.6701794862747192, 0.12345685064792633]}, \"tinfo\": {\"Category\": [\"Default\", \"Default\", \"Default\", \"Default\", \"Default\", \"Default\", \"Default\", \"Default\", \"Default\", \"Default\", \"Default\", \"Default\", \"Default\", \"Default\", \"Default\", \"Default\", \"Default\", \"Default\", \"Default\", \"Default\", \"Default\", \"Default\", \"Default\", \"Default\", \"Default\", \"Default\", \"Default\", \"Default\", \"Default\", \"Default\", \"Topic1\", \"Topic1\", \"Topic1\", \"Topic1\", \"Topic1\", \"Topic1\", \"Topic1\", \"Topic1\", \"Topic1\", \"Topic1\", \"Topic1\", \"Topic1\", \"Topic1\", \"Topic1\", \"Topic1\", \"Topic1\", \"Topic1\", \"Topic1\", \"Topic1\", \"Topic1\", \"Topic1\", \"Topic1\", \"Topic1\", \"Topic1\", \"Topic1\", \"Topic1\", \"Topic1\", \"Topic1\", \"Topic1\", \"Topic1\", \"Topic1\", \"Topic1\", \"Topic1\", \"Topic1\", \"Topic1\", \"Topic1\", \"Topic2\", \"Topic2\", \"Topic2\", \"Topic2\", \"Topic2\", \"Topic2\", \"Topic2\", \"Topic2\", \"Topic2\", \"Topic2\", \"Topic2\", \"Topic2\", \"Topic2\", \"Topic2\", \"Topic2\", \"Topic2\", \"Topic2\", \"Topic2\", \"Topic2\", \"Topic2\", \"Topic2\", \"Topic2\", \"Topic2\", \"Topic2\", \"Topic2\", \"Topic2\", \"Topic2\", \"Topic2\", \"Topic2\", \"Topic2\", \"Topic2\", \"Topic2\", \"Topic2\", \"Topic2\", \"Topic3\", \"Topic3\", \"Topic3\", \"Topic3\", \"Topic3\", \"Topic3\", \"Topic3\", \"Topic3\", \"Topic3\", \"Topic3\", \"Topic3\", \"Topic3\", \"Topic3\", \"Topic3\", \"Topic3\", \"Topic3\", \"Topic3\", \"Topic3\", \"Topic3\", \"Topic3\", \"Topic3\", \"Topic3\", \"Topic3\", \"Topic3\", \"Topic3\", \"Topic3\", \"Topic3\", \"Topic3\", \"Topic3\", \"Topic3\", \"Topic3\", \"Topic3\", \"Topic4\", \"Topic4\", \"Topic4\", \"Topic4\", \"Topic4\", \"Topic4\", \"Topic4\", \"Topic4\", \"Topic4\", \"Topic4\", \"Topic4\", \"Topic4\", \"Topic4\", \"Topic4\", \"Topic4\", \"Topic4\", \"Topic4\", \"Topic4\", \"Topic4\", \"Topic4\", \"Topic4\", \"Topic4\", \"Topic4\", \"Topic4\", \"Topic4\", \"Topic4\", \"Topic4\", \"Topic4\", \"Topic4\", \"Topic4\", \"Topic4\", \"Topic4\", \"Topic4\", \"Topic4\", \"Topic4\", \"Topic4\", \"Topic4\", \"Topic4\", \"Topic4\", \"Topic5\", \"Topic5\", \"Topic5\", \"Topic5\", \"Topic5\", \"Topic5\", \"Topic5\", \"Topic5\", \"Topic5\", \"Topic5\", \"Topic5\", \"Topic5\", \"Topic5\", \"Topic5\", \"Topic5\", \"Topic5\", \"Topic5\", \"Topic5\", \"Topic5\", \"Topic5\", \"Topic5\", \"Topic5\", \"Topic5\", \"Topic5\", \"Topic5\", \"Topic5\", \"Topic5\", \"Topic5\", \"Topic5\", \"Topic5\", \"Topic5\", \"Topic5\", \"Topic6\", \"Topic6\", \"Topic6\", \"Topic6\", \"Topic6\", \"Topic6\", \"Topic6\", \"Topic6\", \"Topic6\", \"Topic6\", \"Topic6\", \"Topic6\", \"Topic6\", \"Topic6\", \"Topic6\", \"Topic6\", \"Topic6\", \"Topic6\", \"Topic6\", \"Topic6\", \"Topic6\", \"Topic6\", \"Topic6\", \"Topic6\", \"Topic6\", \"Topic6\", \"Topic6\", \"Topic6\", \"Topic6\", \"Topic6\", \"Topic6\", \"Topic6\", \"Topic6\", \"Topic6\", \"Topic6\", \"Topic6\", \"Topic6\", \"Topic6\", \"Topic7\", \"Topic7\", \"Topic7\", \"Topic7\", \"Topic7\", \"Topic7\", \"Topic7\", \"Topic7\", \"Topic7\", \"Topic7\", \"Topic7\", \"Topic7\", \"Topic7\", \"Topic7\", \"Topic7\", \"Topic7\", \"Topic7\", \"Topic7\", \"Topic7\", \"Topic7\", \"Topic7\", \"Topic7\", \"Topic7\", \"Topic7\", \"Topic7\", \"Topic7\", \"Topic7\", \"Topic7\", \"Topic7\", \"Topic7\", \"Topic7\", \"Topic7\", \"Topic7\", \"Topic7\", \"Topic8\", \"Topic8\", \"Topic8\", \"Topic8\", \"Topic8\", \"Topic8\", \"Topic8\", \"Topic8\", \"Topic8\", \"Topic8\", \"Topic8\", \"Topic8\", \"Topic8\", \"Topic8\", \"Topic8\", \"Topic8\", \"Topic8\", \"Topic8\", \"Topic8\", \"Topic8\", \"Topic8\", \"Topic8\", \"Topic8\", \"Topic8\", \"Topic8\", \"Topic8\", \"Topic8\", \"Topic8\", \"Topic8\", \"Topic8\", \"Topic8\", \"Topic8\", \"Topic8\", \"Topic8\", \"Topic9\", \"Topic9\", \"Topic9\", \"Topic9\", \"Topic9\", \"Topic9\", \"Topic9\", \"Topic9\", \"Topic9\", \"Topic9\", \"Topic9\", \"Topic9\", \"Topic9\", \"Topic9\", \"Topic9\", \"Topic9\", \"Topic9\", \"Topic9\", \"Topic9\", \"Topic9\", \"Topic9\", \"Topic9\", \"Topic9\", \"Topic9\", \"Topic9\", \"Topic9\", \"Topic9\", \"Topic9\", \"Topic9\", \"Topic9\", \"Topic9\", \"Topic9\", \"Topic9\", \"Topic9\", \"Topic9\", \"Topic9\", \"Topic9\", \"Topic10\", \"Topic10\", \"Topic10\", \"Topic10\", \"Topic10\", \"Topic10\", \"Topic10\", \"Topic10\", \"Topic10\", \"Topic10\", \"Topic10\", \"Topic10\", \"Topic10\", \"Topic10\", \"Topic10\", \"Topic10\", \"Topic10\", \"Topic10\", \"Topic10\", \"Topic10\", \"Topic10\", \"Topic10\", \"Topic10\", \"Topic10\", \"Topic10\", \"Topic10\", \"Topic10\", \"Topic10\", \"Topic10\", \"Topic10\", \"Topic10\", \"Topic10\", \"Topic10\", \"Topic10\", \"Topic10\", \"Topic10\", \"Topic11\", \"Topic11\", \"Topic11\", \"Topic11\", \"Topic11\", \"Topic11\", \"Topic11\", \"Topic11\", \"Topic11\", \"Topic11\", \"Topic11\", \"Topic11\", \"Topic11\", \"Topic11\", \"Topic11\", \"Topic11\", \"Topic11\", \"Topic11\", \"Topic11\", \"Topic11\", \"Topic11\", \"Topic11\", \"Topic11\", \"Topic11\", \"Topic11\", \"Topic11\", \"Topic11\", \"Topic11\", \"Topic11\", \"Topic11\", \"Topic11\", \"Topic11\", \"Topic11\", \"Topic11\", \"Topic11\", \"Topic11\", \"Topic11\", \"Topic11\", \"Topic11\", \"Topic12\", \"Topic12\", \"Topic12\", \"Topic12\", \"Topic12\", \"Topic12\", \"Topic12\", \"Topic12\", \"Topic12\", \"Topic12\", \"Topic12\", \"Topic12\", \"Topic12\", \"Topic12\", \"Topic12\", \"Topic12\", \"Topic12\", \"Topic12\", \"Topic12\", \"Topic12\", \"Topic12\", \"Topic12\", \"Topic12\", \"Topic12\", \"Topic12\", \"Topic12\", \"Topic12\", \"Topic12\", \"Topic12\", \"Topic12\", \"Topic12\", \"Topic12\", \"Topic13\", \"Topic13\", \"Topic13\", \"Topic13\", \"Topic13\", \"Topic13\", \"Topic13\", \"Topic13\", \"Topic13\", \"Topic13\", \"Topic13\", \"Topic13\", \"Topic13\", \"Topic13\", \"Topic13\", \"Topic13\", \"Topic13\", \"Topic13\", \"Topic13\", \"Topic13\", \"Topic13\", \"Topic13\", \"Topic13\", \"Topic13\", \"Topic13\", \"Topic13\", \"Topic13\", \"Topic13\", \"Topic13\", \"Topic13\", \"Topic13\", \"Topic13\", \"Topic13\", \"Topic13\", \"Topic13\", \"Topic13\", \"Topic14\", \"Topic14\", \"Topic14\", \"Topic14\", \"Topic14\", \"Topic14\", \"Topic14\", \"Topic14\", \"Topic14\", \"Topic14\", \"Topic14\", \"Topic14\", \"Topic14\", \"Topic14\", \"Topic14\", \"Topic14\", \"Topic14\", \"Topic14\", \"Topic14\", \"Topic14\", \"Topic14\", \"Topic14\", \"Topic14\", \"Topic14\", \"Topic14\", \"Topic14\", \"Topic14\", \"Topic14\", \"Topic14\", \"Topic14\", \"Topic14\", \"Topic14\", \"Topic14\", \"Topic14\", \"Topic14\", \"Topic15\", \"Topic15\", \"Topic15\", \"Topic15\", \"Topic15\", \"Topic15\", \"Topic15\", \"Topic15\", \"Topic15\", \"Topic15\", \"Topic15\", \"Topic15\", \"Topic15\", \"Topic15\", \"Topic15\", \"Topic15\", \"Topic15\", \"Topic15\", \"Topic15\", \"Topic15\", \"Topic15\", \"Topic15\", \"Topic15\", \"Topic15\", \"Topic15\", \"Topic15\", \"Topic15\", \"Topic15\", \"Topic15\", \"Topic15\", \"Topic15\", \"Topic15\", \"Topic15\", \"Topic15\", \"Topic16\", \"Topic16\", \"Topic16\", \"Topic16\", \"Topic16\", \"Topic16\", \"Topic16\", \"Topic16\", \"Topic16\", \"Topic16\", \"Topic16\", \"Topic16\", \"Topic16\", \"Topic16\", \"Topic16\", \"Topic16\", \"Topic16\", \"Topic16\", \"Topic16\", \"Topic16\", \"Topic16\", \"Topic16\", \"Topic16\", \"Topic16\", \"Topic16\", \"Topic16\", \"Topic16\", \"Topic16\", \"Topic16\", \"Topic16\", \"Topic16\", \"Topic16\", \"Topic16\", \"Topic16\", \"Topic16\", \"Topic16\", \"Topic16\", \"Topic16\", \"Topic16\", \"Topic16\", \"Topic16\", \"Topic16\", \"Topic16\", \"Topic16\", \"Topic16\", \"Topic16\", \"Topic16\", \"Topic16\", \"Topic17\", \"Topic17\", \"Topic17\", \"Topic17\", \"Topic17\", \"Topic17\", \"Topic17\", \"Topic17\", \"Topic17\", \"Topic17\", \"Topic17\", \"Topic17\", \"Topic17\", \"Topic17\", \"Topic17\", \"Topic17\", \"Topic17\", \"Topic17\", \"Topic17\", \"Topic17\", \"Topic17\", \"Topic17\", \"Topic17\", \"Topic17\", \"Topic17\", \"Topic17\", \"Topic17\", \"Topic17\", \"Topic17\", \"Topic17\", \"Topic17\", \"Topic17\", \"Topic17\", \"Topic17\", \"Topic17\", \"Topic17\", \"Topic17\", \"Topic18\", \"Topic18\", \"Topic18\", \"Topic18\", \"Topic18\", \"Topic18\", \"Topic18\", \"Topic18\", \"Topic18\", \"Topic18\", \"Topic18\", \"Topic18\", \"Topic18\", \"Topic18\", \"Topic18\", \"Topic18\", \"Topic18\", \"Topic18\", \"Topic18\", \"Topic18\", \"Topic18\", \"Topic18\", \"Topic18\", \"Topic18\", \"Topic18\", \"Topic18\", \"Topic18\", \"Topic18\", \"Topic18\", \"Topic18\", \"Topic18\", \"Topic18\", \"Topic18\", \"Topic18\", \"Topic18\", \"Topic18\", \"Topic18\", \"Topic18\", \"Topic18\", \"Topic18\", \"Topic18\", \"Topic18\", \"Topic19\", \"Topic19\", \"Topic19\", \"Topic19\", \"Topic19\", \"Topic19\", \"Topic19\", \"Topic19\", \"Topic19\", \"Topic19\", \"Topic19\", \"Topic19\", \"Topic19\", \"Topic19\", \"Topic19\", \"Topic19\", \"Topic19\", \"Topic19\", \"Topic19\", \"Topic19\", \"Topic19\", \"Topic19\", \"Topic19\", \"Topic19\", \"Topic19\", \"Topic19\", \"Topic19\", \"Topic19\", \"Topic19\", \"Topic19\", \"Topic19\", \"Topic19\", \"Topic19\", \"Topic19\", \"Topic19\", \"Topic19\", \"Topic19\", \"Topic19\", \"Topic19\", \"Topic20\", \"Topic20\", \"Topic20\", \"Topic20\", \"Topic20\", \"Topic20\", \"Topic20\", \"Topic20\", \"Topic20\", \"Topic20\", \"Topic20\", \"Topic20\", \"Topic20\", \"Topic20\", \"Topic20\", \"Topic20\", \"Topic20\", \"Topic20\", \"Topic20\", \"Topic20\", \"Topic20\", \"Topic20\", \"Topic20\", \"Topic20\", \"Topic20\", \"Topic20\", \"Topic20\", \"Topic20\", \"Topic20\", \"Topic20\", \"Topic20\", \"Topic20\", \"Topic20\", \"Topic20\", \"Topic20\", \"Topic20\", \"Topic20\", \"Topic20\"], \"Freq\": [187784.0, 98961.0, 85864.0, 109874.0, 58518.0, 56918.0, 59523.0, 33379.0, 32989.0, 27356.0, 32841.0, 40286.0, 37341.0, 37301.0, 36608.0, 35249.0, 30575.0, 23473.0, 21904.0, 24950.0, 15339.0, 21018.0, 26707.0, 15354.0, 17169.0, 13257.0, 14479.0, 19555.0, 15681.0, 14781.0, 187783.25, 109873.25, 10319.5576171875, 7977.33154296875, 6971.38671875, 6461.6884765625, 2548.15234375, 2016.096923828125, 1291.27490234375, 1176.1961669921875, 1154.240234375, 1134.216064453125, 791.9853515625, 754.2626342773438, 395.7372741699219, 0.08605164289474487, 0.08591194450855255, 0.08590315282344818, 0.08589040488004684, 0.08588403463363647, 0.08587120473384857, 0.08587298542261124, 0.08588104695081711, 0.08589991182088852, 0.0858749970793724, 0.0858801081776619, 0.08586490899324417, 0.08587665855884552, 0.08586092293262482, 0.085868239402771, 0.08587761968374252, 0.08594271540641785, 0.08591321855783463, 0.08587755262851715, 0.0858791321516037, 0.08587914705276489, 37300.4140625, 36606.9296875, 35248.0, 30574.314453125, 26705.90234375, 19470.90625, 8118.08447265625, 5474.484375, 4574.35595703125, 4316.580078125, 4052.35693359375, 3294.525390625, 950.4417724609375, 880.6331787109375, 847.5222778320312, 424.2329406738281, 278.5640869140625, 0.08424816280603409, 0.08407104760408401, 0.08406252413988113, 0.08402832597494125, 0.08401414006948471, 0.08401478081941605, 0.08401180058717728, 0.08401168882846832, 0.08401244133710861, 0.08401325345039368, 0.08400632441043854, 0.08401141315698624, 0.08400090038776398, 0.08401593565940857, 0.0840139091014862, 0.08402878046035767, 0.08401414006948471, 40284.69921875, 37339.4453125, 19308.408203125, 15931.0390625, 15475.953125, 11200.0791015625, 9398.8349609375, 7571.884765625, 6289.01318359375, 6100.08203125, 4966.16455078125, 4132.31884765625, 3845.16455078125, 3695.846435546875, 3257.86572265625, 3156.316162109375, 2653.54150390625, 1653.9755859375, 1441.75634765625, 1290.2750244140625, 1208.45751953125, 1189.3245849609375, 1000.361328125, 927.889892578125, 498.4950256347656, 13959.818359375, 0.07007003575563431, 0.07006987184286118, 0.07005778700113297, 0.07005652040243149, 0.07008913159370422, 0.07008055597543716, 85862.84375, 24949.427734375, 19554.203125, 14522.986328125, 13842.3603515625, 3266.88330078125, 2394.01025390625, 2154.276123046875, 0.07661975920200348, 0.07653680443763733, 0.07653012871742249, 0.07653336226940155, 0.07649984210729599, 0.07649664580821991, 0.07650700211524963, 0.07648375630378723, 0.07649306952953339, 0.07650458812713623, 0.07648632675409317, 0.0764860212802887, 0.07647884637117386, 0.07648904621601105, 0.07649535685777664, 0.07647965848445892, 0.07648512721061707, 0.07648519426584244, 0.07647906988859177, 0.07648231089115143, 0.0764799639582634, 0.07647931575775146, 0.07649031281471252, 0.07650085538625717, 0.07652205973863602, 0.07649748027324677, 0.07650197297334671, 0.07652855664491653, 0.07649270445108414, 0.07649023085832596, 0.07648638635873795, 14997.771484375, 10302.623046875, 9355.3076171875, 8036.3154296875, 7552.34814453125, 7207.20556640625, 6959.98681640625, 6570.92626953125, 6466.48046875, 5796.53955078125, 4925.888671875, 4715.15380859375, 4551.6787109375, 4542.76025390625, 4288.3818359375, 4188.27294921875, 3210.756103515625, 2817.41357421875, 1911.59326171875, 1456.938232421875, 1420.4869384765625, 1196.1839599609375, 1071.9444580078125, 845.6127319335938, 821.1552734375, 411.5836181640625, 397.9375915527344, 176.3330078125, 0.08042057603597641, 0.08039602637290955, 594.74853515625, 0.08044671267271042, 59522.015625, 21017.056640625, 7993.2529296875, 4054.7080078125, 3531.23583984375, 3078.397216796875, 3034.04345703125, 2698.045166015625, 2370.625244140625, 2345.037353515625, 1766.094970703125, 1380.5218505859375, 1241.8243408203125, 658.8418579101562, 478.05462646484375, 412.2545471191406, 141.44017028808594, 0.08808548003435135, 0.08806458115577698, 0.08805987983942032, 0.0880415067076683, 0.08804170042276382, 0.0880398154258728, 0.08804290741682053, 0.08803654462099075, 0.08803550153970718, 0.08803388476371765, 0.08802434802055359, 0.08802483230829239, 0.08802758902311325, 0.08804316818714142, 0.08805348724126816, 0.08811502158641815, 0.08804181963205338, 0.08803985267877579, 0.08804640918970108, 0.08804501593112946, 0.0880422368645668, 32839.5625, 23471.716796875, 9700.6435546875, 9650.8349609375, 8608.857421875, 6044.0859375, 4416.42333984375, 3651.82470703125, 2857.369873046875, 1909.28759765625, 1336.9959716796875, 1251.4405517578125, 1183.7125244140625, 1167.187255859375, 624.5289916992188, 556.5048828125, 125.85570526123047, 0.06909088045358658, 0.06895460188388824, 0.06885387003421783, 0.06880258768796921, 0.06879632920026779, 0.06877471506595612, 0.06877090036869049, 0.06876544654369354, 0.06876569241285324, 0.06876402348279953, 0.06876324117183685, 0.06875492632389069, 0.06875589489936829, 0.06876056641340256, 0.06876122206449509, 0.0687783733010292, 0.0687658041715622, 98959.7109375, 1091.697998046875, 1003.600830078125, 712.8282470703125, 441.1300354003906, 0.09034796804189682, 0.090296670794487, 0.09028632193803787, 0.090262271463871, 0.0902068242430687, 0.0902048647403717, 0.09020334482192993, 0.09018287062644958, 0.09019526094198227, 0.09018418937921524, 0.09017802029848099, 0.0901719331741333, 0.09016750007867813, 0.09016928821802139, 0.09016235917806625, 0.09020069241523743, 0.0901646539568901, 0.0901770293712616, 0.09016140550374985, 0.0901586040854454, 0.09015362709760666, 0.09015218168497086, 0.09015335142612457, 0.09016340970993042, 0.09015558660030365, 0.0901578962802887, 0.09016673266887665, 0.09021102637052536, 0.09016045182943344, 17168.05859375, 12356.9111328125, 10949.6015625, 10831.91015625, 9162.669921875, 7309.095703125, 6148.41162109375, 4867.01904296875, 4503.080078125, 4230.9716796875, 3135.400146484375, 2367.1328125, 2067.022216796875, 1514.5150146484375, 1063.2969970703125, 794.609130859375, 405.18218994140625, 307.0681457519531, 1032.7877197265625, 0.07546738535165787, 0.07546695321798325, 0.0754556655883789, 0.0754426121711731, 0.07543810456991196, 0.07544183731079102, 0.07543975114822388, 0.0754370465874672, 0.07543154060840607, 0.07542970031499863, 0.07543163746595383, 0.07544291764497757, 0.07544367760419846, 0.07549552619457245, 0.07545210421085358, 0.07544571161270142, 0.07545287907123566, 0.07545163482427597, 21902.81640625, 14779.5693359375, 9689.9951171875, 8911.873046875, 8726.783203125, 5088.79345703125, 3362.0859375, 3355.190673828125, 3243.973388671875, 3143.744384765625, 3020.858154296875, 1988.3778076171875, 1256.2662353515625, 1100.7935791015625, 1081.068359375, 867.9884033203125, 769.3973999023438, 409.1248779296875, 127.19733428955078, 0.09380795061588287, 0.09381454437971115, 0.09382490813732147, 0.09389825165271759, 0.09378264099359512, 0.09379522502422333, 0.09379895031452179, 0.0937867984175682, 0.09377975016832352, 0.09379969537258148, 0.09378241747617722, 0.09379449486732483, 0.09379874169826508, 0.09381340444087982, 0.09379763156175613, 0.09380071610212326, 0.09379947185516357, 58517.328125, 15679.9423828125, 14489.728515625, 733.2166748046875, 631.0118408203125, 286.761962890625, 227.67955017089844, 221.27320861816406, 0.09258196502923965, 0.09231570363044739, 0.09209662675857544, 0.09192430227994919, 0.09193398058414459, 0.09189797192811966, 0.09190099686384201, 0.0918818935751915, 0.09188176691532135, 0.09188985824584961, 0.09188830107450485, 0.09186890721321106, 0.09188620001077652, 0.09186748415231705, 0.09186181426048279, 0.09188565611839294, 0.0918659046292305, 0.09186279028654099, 0.0918746367096901, 0.09185628592967987, 0.09185919165611267, 0.09186948090791702, 0.09190037846565247, 0.09187188744544983, 0.0918780118227005, 0.09191785007715225, 0.09187476336956024, 0.09187296777963638, 0.09187328070402145, 0.09187456220388412, 0.09187304973602295, 56916.8046875, 8799.6474609375, 4284.32958984375, 3491.49267578125, 2990.978271484375, 2527.44482421875, 2353.685302734375, 1604.101318359375, 1119.4188232421875, 962.185791015625, 914.6895751953125, 869.370361328125, 711.908447265625, 673.4425659179688, 596.5392456054688, 476.2677307128906, 432.7694091796875, 392.61566162109375, 332.1770324707031, 0.0816526934504509, 0.08160559833049774, 0.08157718926668167, 0.08156847953796387, 0.081654854118824, 0.08155842870473862, 0.08157331496477127, 0.08157037198543549, 0.08155231922864914, 0.08158052712678909, 0.08155229687690735, 0.08155672252178192, 0.08155816048383713, 32987.60546875, 11036.8515625, 7754.8662109375, 3812.265380859375, 3223.374267578125, 2810.228759765625, 2773.805908203125, 2645.886962890625, 1761.117431640625, 1547.4427490234375, 1444.997802734375, 1217.35107421875, 0.07985537499189377, 0.07985375821590424, 0.07982974499464035, 0.07984720915555954, 0.07981706410646439, 0.07980302721261978, 0.07980790734291077, 0.07978896796703339, 0.07978356629610062, 0.07978111505508423, 0.07977727055549622, 0.07978136092424393, 0.0797773227095604, 0.0797894150018692, 0.07977496087551117, 0.07978790998458862, 0.07977501302957535, 0.07977989315986633, 0.07978857308626175, 0.07978274673223495, 0.07983090728521347, 0.07978402823209763, 0.07978460192680359, 0.0797811970114708, 15352.8720703125, 14477.92578125, 7303.9755859375, 5025.951171875, 4374.14453125, 4232.0947265625, 4163.810546875, 2263.426025390625, 2249.0478515625, 2049.267822265625, 1368.95263671875, 661.9029541015625, 194.9891815185547, 3281.96435546875, 0.08000081777572632, 0.0798826739192009, 0.07988270372152328, 0.07988444715738297, 0.07988709211349487, 0.0798845887184143, 0.07988535612821579, 0.07988865673542023, 0.07988669723272324, 0.07988425344228745, 0.07987984269857407, 0.0798678919672966, 0.0798654779791832, 0.07989020645618439, 0.07985498756170273, 0.07985382527112961, 0.07986321300268173, 0.07987053692340851, 0.07993606477975845, 0.07987353950738907, 0.07989269495010376, 11434.669921875, 11046.5732421875, 7061.18212890625, 4822.5205078125, 4539.8623046875, 3997.17626953125, 2965.8037109375, 2857.869140625, 1851.3472900390625, 1826.743408203125, 1343.6903076171875, 1246.106201171875, 1162.4588623046875, 1020.3587646484375, 958.4901123046875, 911.0164794921875, 714.6878662109375, 434.98114013671875, 200.0496368408203, 0.09267770498991013, 0.09265540540218353, 0.09264617413282394, 0.0926608219742775, 0.09264178574085236, 0.09263861924409866, 0.09263648092746735, 0.092649444937706, 0.09263535588979721, 0.09265441447496414, 0.09264939278364182, 0.09272497892379761, 0.09270785003900528, 0.09266823530197144, 0.09265390038490295, 33378.21875, 12186.677734375, 4089.3544921875, 0.0909569039940834, 0.09095099568367004, 0.09095410257577896, 0.09095003455877304, 0.0909343957901001, 0.09093675017356873, 0.09093738347291946, 0.0909312516450882, 0.09093168377876282, 0.09093086421489716, 0.09092921763658524, 0.09093344211578369, 0.09092926979064941, 0.0909343808889389, 0.09093305468559265, 0.09092895686626434, 0.09093913435935974, 0.09093088656663895, 0.0909295454621315, 0.09092795848846436, 0.09092789888381958, 0.09092723578214645, 0.09092846512794495, 0.09092597663402557, 0.09092540293931961, 0.09094168245792389, 0.09092634171247482, 0.09093460440635681, 0.09094106405973434, 0.09093484282493591, 0.09094434231519699, 0.0909440666437149, 0.09093508124351501, 0.09094347804784775, 0.09093721956014633, 0.0909322202205658, 0.0909462422132492, 0.09093130379915237, 0.09095059335231781, 0.09096060693264008, 0.09093690663576126, 0.09093502163887024, 0.09095092862844467, 0.09093525260686874, 0.0909343883395195, 27355.1953125, 5463.5517578125, 4136.89306640625, 3584.391845703125, 2787.0166015625, 2296.103271484375, 1625.317138671875, 812.462158203125, 495.7083740234375, 495.5897521972656, 307.43255615234375, 0.08166363090276718, 0.08167798817157745, 0.08164390176534653, 0.08164483308792114, 0.081645667552948, 0.08163610100746155, 0.08166127651929855, 0.08164239674806595, 0.08164061605930328, 0.08165467530488968, 0.08163874596357346, 0.08163224160671234, 0.08162930607795715, 0.08163425326347351, 0.08164417743682861, 0.08162552863359451, 0.08162227272987366, 0.08162203431129456, 0.08162573724985123, 0.08163224905729294, 0.0816369354724884, 0.08169817179441452, 0.08164780586957932, 0.08164288103580475, 0.08163698762655258, 0.08163367956876755, 13255.9765625, 10468.880859375, 7774.36376953125, 5083.0625, 2148.95751953125, 1401.6448974609375, 1224.9227294921875, 754.44677734375, 723.6112060546875, 490.5585632324219, 423.0618591308594, 347.07940673828125, 329.73004150390625, 0.0975898951292038, 0.09757927060127258, 0.09758016467094421, 0.0975954532623291, 0.09756597131490707, 0.09758337587118149, 0.09756649285554886, 0.09757345914840698, 0.09756241738796234, 0.09756617248058319, 0.09756287187337875, 0.09756656736135483, 0.09757526963949203, 0.09756574034690857, 0.09756074100732803, 0.09756241738796234, 0.09757556766271591, 0.0975693017244339, 0.09757953882217407, 0.09758799523115158, 0.0975780114531517, 0.09757673740386963, 0.09757304191589355, 0.09757060557603836, 0.09760896116495132, 0.09757539629936218, 0.09757421910762787, 0.09757556021213531, 0.09757480770349503, 15337.779296875, 7450.69189453125, 6219.9716796875, 3831.67578125, 1515.7802734375, 720.0866088867188, 256.693359375, 0.06208927184343338, 0.06201266869902611, 0.06201491504907608, 0.06200859323143959, 0.062004733830690384, 0.062004443258047104, 0.06198561564087868, 0.06198519095778465, 0.061986442655324936, 0.06199553981423378, 0.061983976513147354, 0.06198147311806679, 0.06197992339730263, 0.061979252845048904, 0.06198403239250183, 0.06197788193821907, 0.06197842210531235, 0.06198011711239815, 0.06198699399828911, 0.06198010966181755, 0.06197713315486908, 0.0619778148829937, 0.06197407469153404, 0.061986248940229416, 0.06198342517018318, 0.06198328360915184, 0.061985425651073456, 0.061983872205019, 0.06198054924607277, 0.06198315694928169, 0.06198320910334587, 0.06198033317923546, 1224.953857421875, 317.15045166015625, 0.06357768923044205, 0.06351560354232788, 0.06349486112594604, 0.06348742544651031, 0.06348469853401184, 0.06348469853401184, 0.06348469853401184, 0.06349033862352371, 0.06348372995853424, 0.06348185986280441, 0.06348175555467606, 0.06348206847906113, 0.06348095089197159, 0.06348046660423279, 0.0634804517030716, 0.0634804517030716, 0.0634908601641655, 0.06348166614770889, 0.06348154693841934, 0.06347886472940445, 0.06347886472940445, 0.06347886472940445, 0.06347886472940445, 0.06348645687103271, 0.06347844749689102, 0.06348192691802979, 0.06348007917404175, 0.06347748637199402, 0.06347861886024475, 0.06348338723182678, 0.0634826123714447, 0.06348469853401184, 0.06348063796758652, 0.06348276883363724, 0.06348192691802979, 0.06348036974668503], \"Term\": [\"toy\", \"doll\", \"gift\", \"child\", \"kid\", \"baby\", \"vintage\", \"set\", \"game\", \"quot\", \"play\", \"wooden\", \"puzzle\", \"handmade\", \"animal\", \"crochet\", \"stuff\", \"feel\", \"soft\", \"girl\", \"mask\", \"book\", \"plush\", \"knit\", \"decor\", \"blue\", \"board\", \"birthday\", \"make\", \"hand\", \"toy\", \"child\", \"waldorf\", \"natural\", \"travel\", \"car\", \"tray\", \"imagination\", \"airplane\", \"open_ende\", \"draw\", \"camera\", \"desk\", \"heirloom\", \"portable\", \"bear\", \"teddy\", \"dog\", \"truck\", \"horse\", \"teether\", \"holder\", \"collectible\", \"bag\", \"mat\", \"birth\", \"pacifi\", \"dollhouse\", \"stylish\", \"silicone\", \"personalise\", \"teepee\", \"tent\", \"elephant\", \"tipi\", \"fabric\", \"handmade\", \"animal\", \"crochet\", \"stuff\", \"plush\", \"amigurumi\", \"small\", \"decoration\", \"easter\", \"monkey\", \"monster\", \"fun\", \"outdoor\", \"bat\", \"sport\", \"soldier\", \"snap\", \"bear\", \"teddy\", \"dog\", \"elephant\", \"giraffe\", \"pattern\", \"softie\", \"fox\", \"cuddly\", \"owl\", \"order\", \"horse\", \"interior\", \"rag\", \"cloth\", \"teepee\", \"fabric\", \"wooden\", \"puzzle\", \"name\", \"personalize\", \"wood\", \"montessori\", \"educational\", \"custom\", \"personalized\", \"learn\", \"mouse\", \"preschool\", \"alphabet\", \"peg\", \"first\", \"letter\", \"year\", \"mickey\", \"butterfly\", \"stick\", \"pack\", \"character\", \"button\", \"sign\", \"motor_skill\", \"toddler\", \"truck\", \"personalise\", \"swing\", \"shape\", \"bear\", \"teepee\", \"gift\", \"girl\", \"birthday\", \"boy\", \"christmas\", \"newborn\", \"baptism\", \"frog\", \"bear\", \"personalise\", \"birth\", \"teddy\", \"angel\", \"keepsake\", \"elephant\", \"engrave\", \"embroider\", \"cloth\", \"pacifi\", \"bank\", \"christening\", \"holder\", \"craft\", \"personalised\", \"teether\", \"day\", \"wedding\", \"holiday\", \"stylish\", \"personal_teether\", \"cuddly\", \"fabric\", \"tent\", \"rag\", \"bag\", \"teepee\", \"dog\", \"clothe\", \"collectible\", \"bunny\", \"activity\", \"rabbit\", \"quiet\", \"busy\", \"inch\", \"cute\", \"sensory\", \"fairy\", \"tooth\", \"plushie\", \"brown\", \"plastic\", \"page\", \"yellow\", \"friendly\", \"eco\", \"idea\", \"customize\", \"head\", \"kawaii\", \"door\", \"pastel\", \"magic\", \"mom\", \"ghost\", \"fuzzy\", \"developmental\", \"bag\", \"craft\", \"toddler\", \"bear\", \"vintage\", \"book\", \"color\", \"american\", \"great\", \"ussr\", \"soviet\", \"tool\", \"picture\", \"russian\", \"cube\", \"usa\", \"choose\", \"illustration\", \"primary\", \"union\", \"genuine\", \"collectible\", \"barbie\", \"retro\", \"chess\", \"rubber\", \"rare\", \"figure\", \"metal\", \"tin\", \"number\", \"brain_teaser\", \"mattel\", \"french\", \"craft\", \"fabric\", \"bear\", \"art\", \"dollhouse\", \"bag\", \"teddy\", \"dog\", \"play\", \"feel\", \"pretend\", \"children\", \"food\", \"kitchen\", \"halloween\", \"tea\", \"costume\", \"fruit\", \"pc\", \"theater\", \"count\", \"cookie\", \"man\", \"interactive\", \"bakery\", \"teepee\", \"tent\", \"tipi\", \"mat\", \"mobile\", \"wigwam\", \"playhouse\", \"vegetable\", \"canopy\", \"cake\", \"shop\", \"donut\", \"enfant\", \"cpsc_compliant\", \"house\", \"bear\", \"bag\", \"doll\", \"money\", \"marble\", \"hardwood\", \"solid\", \"rag\", \"cloth\", \"clothe\", \"fabric\", \"textile\", \"angel\", \"cm\", \"fit\", \"art\", \"barbie\", \"paper\", \"outfit\", \"tilda\", \"sock\", \"diaper\", \"bag\", \"interior\", \"collectible\", \"bed\", \"blonde\", \"guardian\", \"nest\", \"mermaid\", \"house\", \"sleep\", \"hat\", \"black\", \"bear\", \"family\", \"decor\", \"block\", \"dress\", \"nursery\", \"party\", \"room\", \"size\", \"rainbow\", \"kit\", \"favor\", \"theme\", \"adult\", \"sew\", \"work\", \"imaginary\", \"shoot\", \"easy\", \"insect\", \"photo\", \"craft\", \"mobile\", \"home\", \"diy\", \"building\", \"machine\", \"swing\", \"wand\", \"abc\", \"playroom\", \"canopy\", \"horse\", \"art\", \"bear\", \"bag\", \"clothe\", \"tent\", \"teepee\", \"soft\", \"hand\", \"cat\", \"piece\", \"unicorn\", \"jigsaw\", \"big\", \"table\", \"crayon\", \"bird\", \"eye\", \"basket\", \"top\", \"playskool\", \"jack\", \"fluffy\", \"sesame_street\", \"sculpture\", \"crazy\", \"paint\", \"personalise\", \"teddy\", \"bear\", \"kitty\", \"holder\", \"cuddly\", \"spy\", \"kitten\", \"owl\", \"hare\", \"fox\", \"black\", \"bag\", \"art\", \"dog\", \"fabric\", \"kid\", \"make\", \"pink\", \"apple\", \"cherry\", \"etsy\", \"science\", \"pie\", \"teepee\", \"tent\", \"tipi\", \"wigwam\", \"chart\", \"playhouse\", \"order\", \"chore\", \"canopy\", \"apron\", \"printable\", \"enfant\", \"mat\", \"reward\", \"playhoue\", \"art\", \"magnet\", \"indian\", \"grey\", \"artwork\", \"indoor\", \"star\", \"bag\", \"large\", \"craft\", \"bear\", \"elephant\", \"ball\", \"mobile\", \"dog\", \"fabric\", \"baby\", \"shower\", \"present\", \"unique\", \"stroller\", \"necklace\", \"heart\", \"beautiful\", \"bead\", \"donkey\", \"wagon\", \"tractor\", \"gym\", \"pendant\", \"maxi_cosi\", \"option\", \"rug\", \"grip\", \"homemade\", \"mobile\", \"chain\", \"rattle\", \"teething\", \"bear\", \"keepsake\", \"elephant\", \"birth\", \"ring\", \"teddy\", \"swing\", \"fabric\", \"teepee\", \"game\", \"little\", \"miniature\", \"match\", \"memory\", \"price\", \"pig\", \"fisher\", \"piggy\", \"forest\", \"witch\", \"people\", \"toe\", \"dollhouse\", \"spy\", \"bag\", \"family\", \"bank\", \"printable\", \"furniture\", \"scale\", \"domino\", \"tic_tac\", \"milton_bradley\", \"seek\", \"retro\", \"broom\", \"house\", \"bingo\", \"stocking_stuffer\", \"school\", \"collection\", \"bear\", \"black\", \"teddy\", \"craft\", \"knit\", \"board\", \"accessory\", \"new\", \"ship\", \"mini\", \"ready\", \"deer\", \"gray\", \"prop\", \"routine\", \"pajama\", \"bathroom\", \"photo\", \"bear\", \"personal_teether\", \"stylish\", \"pacifi\", \"silicone\", \"teether\", \"holder\", \"chart\", \"birth\", \"dollhouse\", \"fox\", \"wand\", \"interior\", \"teddy\", \"buddy\", \"afghan\", \"wigwam\", \"family\", \"teepee\", \"elephant\", \"tent\", \"pillow\", \"white\", \"story\", \"organic\", \"original\", \"purple\", \"flannel\", \"time\", \"sea\", \"fleece\", \"plate\", \"mint\", \"wall\", \"night\", \"collector\", \"tag\", \"sheet\", \"daily_routine\", \"serve\", \"read\", \"pocket\", \"sheep\", \"cotton\", \"cushion\", \"decorative\", \"speech_therapy\", \"grey\", \"cloud\", \"black\", \"cuddly\", \"bear\", \"teepee\", \"tent\", \"teddy\", \"set\", \"puppet\", \"finger\", \"chess\", \"theatre\", \"glove\", \"sock\", \"marionette\", \"cup\", \"case\", \"peppa\", \"knight\", \"walnut\", \"professional\", \"cake\", \"shield\", \"hare\", \"domino\", \"sockett\", \"woodland\", \"ladybug\", \"china\", \"bibabo\", \"prince\", \"rod\", \"gorgeous\", \"puppetry\", \"ventriloquist\", \"disney\", \"teapot\", \"include\", \"house\", \"farm\", \"family\", \"owl\", \"tin\", \"personalise\", \"home\", \"magnet\", \"bag\", \"iron\", \"tent\", \"teepee\", \"art\", \"truck\", \"bear\", \"collectible\", \"dog\", \"quot\", \"free\", \"shipping\", \"hair\", \"good\", \"complete\", \"condition\", \"hot\", \"parker_brother\", \"symbol\", \"brush\", \"milton_bradley\", \"rag\", \"alive\", \"slime\", \"adorable\", \"reborn\", \"clothe\", \"wool\", \"silicone\", \"cloth\", \"softie\", \"sleep\", \"frame\", \"fit\", \"ball\", \"sticker\", \"brand\", \"pretty\", \"blonde\", \"disney\", \"chart\", \"bear\", \"bag\", \"teddy\", \"fabric\", \"tent\", \"blue\", \"red\", \"green\", \"old\", \"lion\", \"cow\", \"playing\", \"sweater\", \"coral\", \"hoop\", \"playdough\", \"ephemera\", \"maid\", \"apron\", \"light\", \"hat\", \"mobile\", \"riding_hood\", \"truck\", \"moon\", \"pull\", \"abacus\", \"stripe\", \"hula_hoop\", \"slime\", \"collection\", \"skirt\", \"cub\", \"shirt\", \"print\", \"metal\", \"owl\", \"clothe\", \"cotton\", \"cuddly\", \"flower\", \"fit\", \"bear\", \"elephant\", \"craft\", \"dog\", \"rag\", \"mask\", \"box\", \"card\", \"inspire\", \"face\", \"fall\", \"yoga\", \"cpsc_compliant\", \"stitch\", \"machine\", \"flash\", \"tiger\", \"music\", \"devil\", \"cheetah\", \"clown\", \"printable\", \"bee\", \"raccoon\", \"wolf\", \"jewelry\", \"bank\", \"illustrate\", \"koala\", \"pumpkin\", \"orange\", \"elf\", \"digital\", \"creative\", \"hector\", \"fox\", \"school\", \"embroider\", \"elephant\", \"black\", \"dinosaur\", \"bag\", \"bear\", \"personalise\", \"turtle\", \"stress\", \"ball\", \"cotton\", \"tortoise\", \"spoon\", \"ep\", \"dentition\", \"mm\", \"ring\", \"tortue\", \"ninja\", \"anxiety\", \"multi\", \"coloured\", \"underside\", \"trusty\", \"lifelike\", \"print\", \"france\", \"water\", \"panic\", \"skills_toolkit\", \"portable_cope\", \"mental_health\", \"pull\", \"brittany\", \"stripe\", \"moose\", \"anti\", \"pencil\", \"sock\", \"rubber\", \"silicone\", \"long\", \"flower\", \"grey\", \"softie\"], \"Total\": [187784.0, 98961.0, 85864.0, 109874.0, 58518.0, 56918.0, 59523.0, 33379.0, 32989.0, 27356.0, 32841.0, 40286.0, 37341.0, 37301.0, 36608.0, 35249.0, 30575.0, 23473.0, 21904.0, 24950.0, 15339.0, 21018.0, 26707.0, 15354.0, 17169.0, 13257.0, 14479.0, 19555.0, 15681.0, 14781.0, 187784.78125, 109874.796875, 10321.1044921875, 7978.8798828125, 6972.93505859375, 6463.23681640625, 2549.7001953125, 2017.6448974609375, 1292.8228759765625, 1177.744140625, 1155.7882080078125, 1135.7640380859375, 793.5333251953125, 755.8106079101562, 397.28509521484375, 1.6357941627502441, 1.6345161199569702, 1.634353756904602, 1.6341145038604736, 1.6341545581817627, 1.634001612663269, 1.634053349494934, 1.6342087984085083, 1.6345837116241455, 1.6341350078582764, 1.6342359781265259, 1.6339664459228516, 1.6341959238052368, 1.6339106559753418, 1.6340522766113281, 1.6342413425445557, 1.6356301307678223, 1.6350082159042358, 1.6342580318450928, 1.6344046592712402, 1.634425163269043, 37301.96875, 36608.484375, 35249.5546875, 30575.865234375, 26707.453125, 19472.45703125, 8119.634765625, 5476.03466796875, 4575.90625, 4318.13037109375, 4053.90673828125, 3296.0751953125, 951.9915771484375, 882.1829833984375, 849.0720825195312, 425.7826232910156, 280.11376953125, 1.6357941627502441, 1.6345161199569702, 1.634353756904602, 1.6342580318450928, 1.63400399684906, 1.6340832710266113, 1.634031057357788, 1.6341164112091064, 1.634142279624939, 1.6341652870178223, 1.6340527534484863, 1.6341545581817627, 1.6339728832244873, 1.6343903541564941, 1.634348750114441, 1.6356301307678223, 1.634425163269043, 40286.265625, 37341.01171875, 19309.97265625, 15932.6015625, 15477.515625, 11201.6416015625, 9400.3974609375, 7573.44921875, 6290.57763671875, 6101.646484375, 4967.72900390625, 4133.88330078125, 3846.72802734375, 3697.409912109375, 3259.42919921875, 3157.879638671875, 2655.10498046875, 1655.539306640625, 1443.320068359375, 1291.8387451171875, 1210.021240234375, 1190.8883056640625, 1001.9251098632812, 929.4536743164062, 500.0586853027344, 14556.048828125, 1.6341145038604736, 1.6342413425445557, 1.6339693069458008, 1.6339836120605469, 1.6357941627502441, 1.6356301307678223, 85864.3984375, 24950.986328125, 19555.76171875, 14524.54296875, 13843.9169921875, 3268.4404296875, 2395.5673828125, 2155.833251953125, 1.6357941627502441, 1.6342413425445557, 1.6342359781265259, 1.6345161199569702, 1.6340079307556152, 1.6339545249938965, 1.6342580318450928, 1.6338714361190796, 1.6340819597244263, 1.634348750114441, 1.6339664459228516, 1.6339607238769531, 1.6338297128677368, 1.634053349494934, 1.6342062950134277, 1.633884072303772, 1.634001612663269, 1.6340032815933228, 1.633878231048584, 1.6339491605758667, 1.6339106559753418, 1.6339048147201538, 1.634142279624939, 1.634425163269043, 1.6350082159042358, 1.6343903541564941, 1.6345837116241455, 1.6356301307678223, 1.634353756904602, 1.6343592405319214, 1.6342087984085083, 14999.32421875, 10304.17578125, 9356.8603515625, 8037.869140625, 7553.90185546875, 7208.75927734375, 6961.54052734375, 6572.47998046875, 6468.0341796875, 5798.09326171875, 4927.4423828125, 4716.70751953125, 4553.232421875, 4544.31396484375, 4289.935546875, 4189.82666015625, 3212.309326171875, 2818.966796875, 1913.146728515625, 1458.49169921875, 1422.0404052734375, 1197.7374267578125, 1073.4979248046875, 847.1661987304688, 822.708740234375, 413.136962890625, 399.4909362792969, 177.8863983154297, 1.6345837116241455, 1.6342062950134277, 14556.048828125, 1.6357941627502441, 59523.5625, 21018.603515625, 7994.798828125, 4056.25390625, 3532.78173828125, 3079.943115234375, 3035.58935546875, 2699.591064453125, 2372.171142578125, 2346.583251953125, 1767.6407470703125, 1382.067626953125, 1243.3701171875, 660.3876342773438, 479.60028076171875, 413.8002014160156, 142.98590087890625, 1.6342087984085083, 1.6340320110321045, 1.6340492963790894, 1.6338739395141602, 1.6339302062988281, 1.6339136362075806, 1.634018898010254, 1.6339442729949951, 1.6339778900146484, 1.6339678764343262, 1.6337909698486328, 1.6338388919830322, 1.6338984966278076, 1.6342062950134277, 1.634425163269043, 1.6357941627502441, 1.6342222690582275, 1.6341959238052368, 1.6345837116241455, 1.6345161199569702, 1.634353756904602, 32841.125, 23473.283203125, 9702.2080078125, 9652.3994140625, 8610.421875, 6045.6513671875, 4417.98876953125, 3653.3896484375, 2858.934814453125, 1910.8526611328125, 1338.56103515625, 1253.005615234375, 1185.277587890625, 1168.7523193359375, 626.0940551757812, 558.0699462890625, 127.42072296142578, 1.6356301307678223, 1.6350082159042358, 1.6344046592712402, 1.6341350078582764, 1.6342538595199585, 1.633974313735962, 1.633924126625061, 1.6338461637496948, 1.6338868141174316, 1.6338481903076172, 1.6338576078414917, 1.6337835788726807, 1.6338222026824951, 1.633956789970398, 1.6340543031692505, 1.6357941627502441, 1.6345837116241455, 98961.25, 1093.24169921875, 1005.1444702148438, 714.3718872070312, 442.673583984375, 1.6343903541564941, 1.634348750114441, 1.6343592405319214, 1.634425163269043, 1.6339322328567505, 1.6340079307556152, 1.634133219718933, 1.6339935064315796, 1.6342222690582275, 1.6340320110321045, 1.6339894533157349, 1.6339268684387207, 1.6338638067245483, 1.6339529752731323, 1.6338499784469604, 1.6345837116241455, 1.6339728832244873, 1.6342087984085083, 1.6339390277862549, 1.6338883638381958, 1.6338231563568115, 1.6338247060775757, 1.6338711977005005, 1.6340543031692505, 1.6339164972305298, 1.633986473083496, 1.634212851524353, 1.6357941627502441, 1.6341440677642822, 17169.6171875, 12358.4697265625, 10951.16015625, 10833.46875, 9164.228515625, 7310.654296875, 6149.97021484375, 4868.57763671875, 4504.638671875, 4232.5302734375, 3136.95849609375, 2368.691162109375, 2068.58056640625, 1516.0733642578125, 1064.8553466796875, 796.16748046875, 406.740478515625, 308.6264343261719, 4316.23046875, 1.6342062950134277, 1.6342538595199585, 1.6341204643249512, 1.6339324712753296, 1.6338567733764648, 1.6339572668075562, 1.6339693069458008, 1.6339253187179565, 1.633846640586853, 1.6338293552398682, 1.6338868141174316, 1.6341545581817627, 1.6342222690582275, 1.6357941627502441, 1.6345837116241455, 1.6343592405319214, 1.6350082159042358, 1.6356301307678223, 21904.357421875, 14781.109375, 9691.53515625, 8913.4130859375, 8728.3232421875, 5090.33349609375, 3363.6259765625, 3356.730712890625, 3245.513427734375, 3145.284423828125, 3022.398193359375, 1989.9178466796875, 1257.8062744140625, 1102.3336181640625, 1082.6083984375, 869.5283813476562, 770.9373779296875, 410.6648254394531, 128.73728942871094, 1.6340101957321167, 1.6342413425445557, 1.6345161199569702, 1.6357941627502441, 1.6338335275650024, 1.634053349494934, 1.634142279624939, 1.6339378356933594, 1.6338170766830444, 1.6341652870178223, 1.6338709592819214, 1.6341164112091064, 1.634212851524353, 1.6345837116241455, 1.6342222690582275, 1.634353756904602, 1.634425163269043, 58518.8671875, 15681.484375, 14491.2705078125, 734.7586059570312, 632.5537719726562, 288.3038330078125, 229.221435546875, 222.81509399414062, 1.6356301307678223, 1.6350082159042358, 1.6344046592712402, 1.633974313735962, 1.6341688632965088, 1.633924126625061, 1.6340527534484863, 1.6338872909545898, 1.6338868141174316, 1.634047269821167, 1.6341044902801514, 1.6338222026824951, 1.6341350078582764, 1.6338814496994019, 1.6337822675704956, 1.6342222690582275, 1.633910894393921, 1.6338562965393066, 1.6340833902359009, 1.6337785720825195, 1.633841633796692, 1.6340252161026, 1.6345837116241455, 1.6340768337249756, 1.6342062950134277, 1.6357941627502441, 1.6342580318450928, 1.6342194080352783, 1.6342538595199585, 1.634353756904602, 1.634425163269043, 56918.35546875, 8801.2001953125, 4285.8818359375, 3493.044921875, 2992.530517578125, 2528.9970703125, 2355.237548828125, 1605.6536865234375, 1120.97119140625, 963.7379760742188, 916.2417602539062, 870.9225463867188, 713.4606323242188, 674.9947509765625, 598.0914306640625, 477.8199462890625, 434.3216247558594, 394.1678771972656, 333.729248046875, 1.6342538595199585, 1.6339960098266602, 1.6340006589889526, 1.6339161396026611, 1.6357941627502441, 1.6339545249938965, 1.6342580318450928, 1.6342359781265259, 1.6339305639266968, 1.6345161199569702, 1.6339693069458008, 1.634425163269043, 1.6356301307678223, 32989.15625, 11038.40625, 7756.42041015625, 3813.8193359375, 3224.92822265625, 2811.78271484375, 2775.35986328125, 2647.44091796875, 1762.671630859375, 1548.9969482421875, 1446.552001953125, 1218.9052734375, 1.6339446306228638, 1.6341959238052368, 1.6339378356933594, 1.6345837116241455, 1.6341440677642822, 1.6339607238769531, 1.6341044902801514, 1.633931040763855, 1.6338633298873901, 1.6338474750518799, 1.6337801218032837, 1.6338781118392944, 1.633799433708191, 1.6340492963790894, 1.6337735652923584, 1.6340543031692505, 1.633791446685791, 1.6339021921157837, 1.6340827941894531, 1.6340082883834839, 1.6357941627502441, 1.634212851524353, 1.6345161199569702, 1.6342062950134277, 15354.42578125, 14479.4794921875, 7305.52978515625, 5027.50537109375, 4375.69873046875, 4233.64892578125, 4165.36474609375, 2264.979736328125, 2250.6015625, 2050.821533203125, 1370.5067138671875, 663.4568481445312, 196.54307556152344, 4316.23046875, 1.6357941627502441, 1.6339048147201538, 1.6339106559753418, 1.6339664459228516, 1.6340522766113281, 1.634001612663269, 1.634053349494934, 1.6341688632965088, 1.6342359781265259, 1.6341959238052368, 1.6341164112091064, 1.6339253187179565, 1.6339728832244873, 1.6345161199569702, 1.6338022947311401, 1.6337814331054688, 1.633974313735962, 1.6341440677642822, 1.6356301307678223, 1.6342580318450928, 1.6350082159042358, 11436.2109375, 11048.1142578125, 7062.72314453125, 4824.0615234375, 4541.4033203125, 3998.71728515625, 2967.3447265625, 2859.41015625, 1852.8885498046875, 1828.28466796875, 1345.2315673828125, 1247.6474609375, 1164.0001220703125, 1021.89990234375, 960.03125, 912.5576171875, 716.22900390625, 436.5222473144531, 201.5907745361328, 1.6339056491851807, 1.6340086460113525, 1.633908748626709, 1.6341683864593506, 1.6338882446289062, 1.6338545083999634, 1.633819580078125, 1.6340833902359009, 1.6338764429092407, 1.634212851524353, 1.634142279624939, 1.6357941627502441, 1.6356301307678223, 1.6350082159042358, 1.6345161199569702, 33379.76171875, 12188.220703125, 4090.8974609375, 1.6338739395141602, 1.633799433708191, 1.63385808467865, 1.6339529752731323, 1.6337847709655762, 1.6338508129119873, 1.6338828802108765, 1.6337780952453613, 1.6337860822677612, 1.6337807178497314, 1.6337662935256958, 1.6338481903076172, 1.6337782144546509, 1.6338709592819214, 1.6338474750518799, 1.633774995803833, 1.6339613199234009, 1.6338142156600952, 1.6337941884994507, 1.6337696313858032, 1.633775234222412, 1.6337683200836182, 1.633797287940979, 1.6337543725967407, 1.6337538957595825, 1.634047031402588, 1.6337729692459106, 1.6339294910430908, 1.6340543031692505, 1.633934497833252, 1.6341440677642822, 1.6341652870178223, 1.6339778900146484, 1.6342413425445557, 1.6341204643249512, 1.633910894393921, 1.6345837116241455, 1.6338764429092407, 1.6350082159042358, 1.6356301307678223, 1.6342222690582275, 1.6341145038604736, 1.6357941627502441, 1.6342087984085083, 1.634353756904602, 27356.748046875, 5465.10400390625, 4138.4453125, 3585.944091796875, 2788.56884765625, 2297.655517578125, 1626.8692626953125, 814.0142822265625, 497.260498046875, 497.1418762207031, 308.98468017578125, 1.6338781118392944, 1.6343903541564941, 1.6338344812393188, 1.6338598728179932, 1.633921504020691, 1.6338189840316772, 1.6343592405319214, 1.6340465545654297, 1.6340522766113281, 1.634348750114441, 1.634031057357788, 1.6339164972305298, 1.6338672637939453, 1.6339935064315796, 1.6342194080352783, 1.6338611841201782, 1.6337990760803223, 1.6337965726852417, 1.6338883638381958, 1.634047031402588, 1.6341688632965088, 1.6357941627502441, 1.6345837116241455, 1.6345161199569702, 1.634425163269043, 1.6350082159042358, 13257.5126953125, 10470.4169921875, 7775.89990234375, 5084.5986328125, 2150.49365234375, 1403.18115234375, 1226.458984375, 755.9829711914062, 725.1473999023438, 492.0947570800781, 424.5980529785156, 348.6156005859375, 331.2662353515625, 1.634047269821167, 1.6339114904403687, 1.633986473083496, 1.6342538595199585, 1.633794903755188, 1.6341145038604736, 1.6338396072387695, 1.6339601278305054, 1.633782982826233, 1.6338474750518799, 1.6337941884994507, 1.6338598728179932, 1.6340082883834839, 1.6338543891906738, 1.63377046585083, 1.6338129043579102, 1.6340349912643433, 1.6339442729949951, 1.6341652870178223, 1.6343592405319214, 1.6341683864593506, 1.634142279624939, 1.6340653896331787, 1.6339935064315796, 1.6357941627502441, 1.6342580318450928, 1.6342062950134277, 1.634353756904602, 1.6343903541564941, 15339.3515625, 7452.263671875, 6221.54345703125, 3833.24755859375, 1517.35205078125, 721.6583862304688, 258.26513671875, 1.633956789970398, 1.6338317394256592, 1.6339572668075562, 1.6338587999343872, 1.6338467597961426, 1.6339205503463745, 1.6337783336639404, 1.6337743997573853, 1.6338553428649902, 1.6341044902801514, 1.6338212490081787, 1.6338059902191162, 1.6338272094726562, 1.6338207721710205, 1.6339607238769531, 1.6337997913360596, 1.6338194608688354, 1.633872389793396, 1.634054183959961, 1.6338845491409302, 1.6338292360305786, 1.6338533163070679, 1.6337581872940063, 1.6341164112091064, 1.6340827941894531, 1.6340819597244263, 1.6342580318450928, 1.634212851524353, 1.6340229511260986, 1.6345837116241455, 1.6357941627502441, 1.6342413425445557, 1226.524169921875, 318.7207336425781, 1.6342194080352783, 1.6341683864593506, 1.6337790489196777, 1.6338014602661133, 1.633760929107666, 1.6337615251541138, 1.6337701082229614, 1.6339305639266968, 1.6337637901306152, 1.6337720155715942, 1.6337742805480957, 1.6337844133377075, 1.6337683200836182, 1.6337560415267944, 1.6337560415267944, 1.633756399154663, 1.6340349912643433, 1.6338061094284058, 1.6338061094284058, 1.6337579488754272, 1.6337579488754272, 1.6337579488754272, 1.6337579488754272, 1.6339601278305054, 1.6337566375732422, 1.6338474750518799, 1.6338114738464355, 1.6337525844573975, 1.6337889432907104, 1.6339529752731323, 1.6339302062988281, 1.6340522766113281, 1.633863091468811, 1.6340653896331787, 1.6340833902359009, 1.634031057357788], \"loglift\": [30.0, 29.0, 28.0, 27.0, 26.0, 25.0, 24.0, 23.0, 22.0, 21.0, 20.0, 19.0, 18.0, 17.0, 16.0, 15.0, 14.0, 13.0, 12.0, 11.0, 10.0, 9.0, 8.0, 7.0, 6.0, 5.0, 4.0, 3.0, 2.0, 1.0, 1.8530000448226929, 1.8530000448226929, 1.8528000116348267, 1.8528000116348267, 1.8528000116348267, 1.8526999950408936, 1.8523999452590942, 1.8522000312805176, 1.8517999649047852, 1.851699948310852, 1.8516000509262085, 1.8516000509262085, 1.8509999513626099, 1.8509000539779663, 1.8490999937057495, -1.0920000076293945, -1.0928000211715698, -1.0928000211715698, -1.0928000211715698, -1.092900037765503, -1.093000054359436, -1.093000054359436, -1.093000054359436, -1.093000054359436, -1.093000054359436, -1.093000054359436, -1.093000054359436, -1.093000054359436, -1.093000054359436, -1.093000054359436, -1.093000054359436, -1.0930999517440796, -1.0930999517440796, -1.093000054359436, -1.0930999517440796, -1.0930999517440796, 2.291800022125244, 2.291800022125244, 2.291800022125244, 2.291800022125244, 2.291800022125244, 2.291800022125244, 2.2916998863220215, 2.291599988937378, 2.2915000915527344, 2.2915000915527344, 2.2915000915527344, 2.2913999557495117, 2.2901999950408936, 2.29010009765625, 2.2899999618530273, 2.2881999015808105, 2.28629994392395, -0.6743000149726868, -0.675599992275238, -0.675599992275238, -0.6758999824523926, -0.6759999990463257, -0.6759999990463257, -0.6759999990463257, -0.6759999990463257, -0.6761000156402588, -0.6761000156402588, -0.6761000156402588, -0.6761000156402588, -0.6761000156402588, -0.6761999726295471, -0.6761999726295471, -0.676800012588501, -0.6761999726295471, 2.299099922180176, 2.299099922180176, 2.2990000247955322, 2.2990000247955322, 2.2990000247955322, 2.2990000247955322, 2.2988998889923096, 2.2988998889923096, 2.2988998889923096, 2.2988998889923096, 2.298799991607666, 2.2987000942230225, 2.2987000942230225, 2.2987000942230225, 2.2985999584198, 2.2985999584198, 2.2985000610351562, 2.2981998920440674, 2.2980000972747803, 2.2978999614715576, 2.297800064086914, 2.297800064086914, 2.297499895095825, 2.2973999977111816, 2.2960000038146973, 2.2572999000549316, -0.8503000140190125, -0.8503000140190125, -0.8503000140190125, -0.8503999710083008, -0.8510000109672546, -0.8510000109672546, 2.5648000240325928, 2.5648000240325928, 2.56469988822937, 2.56469988822937, 2.56469988822937, 2.564300060272217, 2.564199924468994, 2.5641000270843506, -0.49619999527931213, -0.49630001187324524, -0.49639999866485596, -0.4966000020503998, -0.4966999888420105, -0.4966999888420105, -0.4966999888420105, -0.4968000054359436, -0.4968000054359436, -0.4968000054359436, -0.4968000054359436, -0.4968000054359436, -0.4968999922275543, -0.4968999922275543, -0.4968999922275543, -0.4968999922275543, -0.4968999922275543, -0.4968999922275543, -0.4968999922275543, -0.4968999922275543, -0.4968999922275543, -0.4968999922275543, -0.4968999922275543, -0.4968999922275543, -0.4970000088214874, -0.4970000088214874, -0.4970000088214874, -0.49729999899864197, -0.4970000088214874, -0.4970000088214874, -0.4970000088214874, 2.8343000411987305, 2.8343000411987305, 2.8343000411987305, 2.834199905395508, 2.834199905395508, 2.834199905395508, 2.834199905395508, 2.834199905395508, 2.834199905395508, 2.834199905395508, 2.8341000080108643, 2.8341000080108643, 2.8341000080108643, 2.8341000080108643, 2.8341000080108643, 2.8341000080108643, 2.8340001106262207, 2.833899974822998, 2.8336000442504883, 2.833400011062622, 2.8333001136779785, 2.8331000804901123, 2.8329999446868896, 2.8326001167297363, 2.8324999809265137, 2.830699920654297, 2.8304998874664307, 2.825700044631958, -0.17739999294281006, -0.17749999463558197, -0.36320000886917114, -0.17790000140666962, 2.9235000610351562, 2.9233999252319336, 2.92330002784729, 2.923099994659424, 2.9230000972747803, 2.9230000972747803, 2.9230000972747803, 2.9228999614715576, 2.922800064086914, 2.922800064086914, 2.922600030899048, 2.9223999977111816, 2.9221999645233154, 2.921099901199341, 2.920300006866455, 2.9196999073028564, 2.912600040435791, 0.002899999963119626, 0.0027000000700354576, 0.0027000000700354576, 0.0026000000070780516, 0.0026000000070780516, 0.0024999999441206455, 0.0024999999441206455, 0.0024999999441206455, 0.0024999999441206455, 0.002400000113993883, 0.002400000113993883, 0.002400000113993883, 0.002400000113993883, 0.002400000113993883, 0.002400000113993883, 0.002199999988079071, 0.002400000113993883, 0.002400000113993883, 0.002199999988079071, 0.002199999988079071, 0.002300000051036477, 2.9820001125335693, 2.9820001125335693, 2.9818999767303467, 2.9818999767303467, 2.9818999767303467, 2.981800079345703, 2.9816999435424805, 2.981600046157837, 2.9814999103546143, 2.981300115585327, 2.9809000492095947, 2.980799913406372, 2.980799913406372, 2.9807000160217285, 2.979599952697754, 2.979300022125244, 2.9697000980377197, -0.18230000138282776, -0.18389999866485596, -0.1850000023841858, -0.18559999763965607, -0.18569999933242798, -0.1859000027179718, -0.1859000027179718, -0.1859000027179718, -0.1859000027179718, -0.1859000027179718, -0.1860000044107437, -0.1860000044107437, -0.1860000044107437, -0.18610000610351562, -0.18610000610351562, -0.18690000474452972, -0.18639999628067017, 3.0455000400543213, 3.044100046157837, 3.0439999103546143, 3.043299913406372, 3.0420000553131104, 0.1500999927520752, 0.14959999918937683, 0.14949999749660492, 0.14920000731945038, 0.14880000054836273, 0.14880000054836273, 0.14869999885559082, 0.148499995470047, 0.148499995470047, 0.148499995470047, 0.148499995470047, 0.148499995470047, 0.148499995470047, 0.14839999377727509, 0.14839999377727509, 0.14839999377727509, 0.14839999377727509, 0.14830000698566437, 0.14830000698566437, 0.14830000698566437, 0.14830000698566437, 0.14830000698566437, 0.14830000698566437, 0.14830000698566437, 0.14830000698566437, 0.14830000698566437, 0.14820000529289246, 0.1477999985218048, 0.14820000529289246, 3.0673999786376953, 3.0673999786376953, 3.0673999786376953, 3.0673999786376953, 3.0673000812530518, 3.0673000812530518, 3.0673000812530518, 3.067199945449829, 3.067199945449829, 3.0671000480651855, 3.066999912261963, 3.0669000148773193, 3.066800117492676, 3.066499948501587, 3.0660998821258545, 3.0655999183654785, 3.063699960708618, 3.0625, 1.6374000310897827, -0.007699999958276749, -0.007699999958276749, -0.007799999788403511, -0.007899999618530273, -0.007899999618530273, -0.007899999618530273, -0.007899999618530273, -0.007899999618530273, -0.007899999618530273, -0.00800000037997961, -0.00800000037997961, -0.00800000037997961, -0.00800000037997961, -0.008299999870359898, -0.008100000210106373, -0.008100000210106373, -0.00839999970048666, -0.008799999952316284, 3.139400005340576, 3.139400005340576, 3.1393001079559326, 3.1393001079559326, 3.1393001079559326, 3.13919997215271, 3.1389999389648438, 3.1389999389648438, 3.1389999389648438, 3.1389999389648438, 3.1389999389648438, 3.138700008392334, 3.1382999420166016, 3.1380999088287354, 3.1380999088287354, 3.137700080871582, 3.137500047683716, 3.135699987411499, 3.127500057220459, 0.28200000524520874, 0.28189998865127563, 0.2818000018596649, 0.2818000018596649, 0.2818000018596649, 0.2818000018596649, 0.2818000018596649, 0.2818000018596649, 0.2818000018596649, 0.2818000018596649, 0.2818000018596649, 0.2818000018596649, 0.2816999852657318, 0.2816999852657318, 0.2816999852657318, 0.2816999852657318, 0.2815999984741211, 3.1617000102996826, 3.161600112915039, 3.161600112915039, 3.159600019454956, 3.1591999530792236, 3.1563000679016113, 3.154900074005127, 3.1547000408172607, 0.28999999165534973, 0.2874999940395355, 0.2854999899864197, 0.2838999927043915, 0.2838999927043915, 0.28360000252723694, 0.28360000252723694, 0.28349998593330383, 0.28349998593330383, 0.28349998593330383, 0.2833999991416931, 0.2833999991416931, 0.2833999991416931, 0.2833000123500824, 0.2833000123500824, 0.2833000123500824, 0.2833000123500824, 0.2833000123500824, 0.2833000123500824, 0.2833000123500824, 0.2831999957561493, 0.2831999957561493, 0.2831999957561493, 0.2831999957561493, 0.2831999957561493, 0.2827000021934509, 0.2831999957561493, 0.2831999957561493, 0.2831000089645386, 0.2831000089645386, 0.28299999237060547, 3.1673998832702637, 3.1672000885009766, 3.1670000553131104, 3.1668999195098877, 3.1668999195098877, 3.166800022125244, 3.1666998863220215, 3.1663999557495117, 3.1659998893737793, 3.165800094604492, 3.1656999588012695, 3.165600061416626, 3.1651999950408936, 3.16510009765625, 3.164799928665161, 3.164099931716919, 3.163800001144409, 3.1633999347686768, 3.1626999378204346, 0.17090000212192535, 0.1704999953508377, 0.17010000348091125, 0.17010000348091125, 0.17000000178813934, 0.16990000009536743, 0.16990000009536743, 0.16990000009536743, 0.16990000009536743, 0.16990000009536743, 0.16990000009536743, 0.1695999950170517, 0.1688999980688095, 3.378000020980835, 3.3778998851776123, 3.3778998851776123, 3.377700090408325, 3.3775999546051025, 3.377500057220459, 3.377500057220459, 3.377500057220459, 3.37719988822937, 3.3770999908447266, 3.377000093460083, 3.376800060272217, 0.359499990940094, 0.3594000041484833, 0.35920000076293945, 0.35910001397132874, 0.3589000105857849, 0.3589000105857849, 0.3589000105857849, 0.3587000072002411, 0.3587000072002411, 0.3587000072002411, 0.3587000072002411, 0.3587000072002411, 0.3587000072002411, 0.3587000072002411, 0.358599990606308, 0.358599990606308, 0.358599990606308, 0.358599990606308, 0.358599990606308, 0.358599990606308, 0.3580999970436096, 0.35850000381469727, 0.35830000042915344, 0.35850000381469727, 3.4621999263763428, 3.4621999263763428, 3.462100028991699, 3.4619998931884766, 3.461899995803833, 3.461899995803833, 3.461899995803833, 3.4616000652313232, 3.4616000652313232, 3.4614999294281006, 3.461199998855591, 3.4600000381469727, 3.454400062561035, 3.1884000301361084, 0.44449999928474426, 0.4440999925136566, 0.4440999925136566, 0.4440999925136566, 0.4440999925136566, 0.4440999925136566, 0.4440999925136566, 0.4440000057220459, 0.4440000057220459, 0.4440000057220459, 0.4440000057220459, 0.4438999891281128, 0.4438999891281128, 0.4438000023365021, 0.4438000023365021, 0.4438000023365021, 0.4438000023365021, 0.4438000023365021, 0.44369998574256897, 0.4438000023365021, 0.44359999895095825, 3.5599000453948975, 3.5599000453948975, 3.559799909591675, 3.5597000122070312, 3.5597000122070312, 3.5596001148223877, 3.559499979019165, 3.559499979019165, 3.5592000484466553, 3.5592000484466553, 3.5589001178741455, 3.558799982070923, 3.5587000846862793, 3.558500051498413, 3.5583999156951904, 3.558300018310547, 3.5578999519348145, 3.55649995803833, 3.5524001121520996, 0.6904000043869019, 0.6901000142097473, 0.6901000142097473, 0.6901000142097473, 0.6901000142097473, 0.6899999976158142, 0.6899999976158142, 0.6899999976158142, 0.6899999976158142, 0.6899999976158142, 0.6899999976158142, 0.6898000240325928, 0.6897000074386597, 0.6897000074386597, 0.6898000240325928, 3.7506000995635986, 3.750499963760376, 3.750200033187866, 0.8622999787330627, 0.8622999787330627, 0.8622999787330627, 0.8622000217437744, 0.8621000051498413, 0.8621000051498413, 0.8621000051498413, 0.8621000051498413, 0.8621000051498413, 0.8619999885559082, 0.8619999885559082, 0.8619999885559082, 0.8619999885559082, 0.8619999885559082, 0.8619999885559082, 0.8619999885559082, 0.8619999885559082, 0.8619999885559082, 0.8619999885559082, 0.8619999885559082, 0.8619999885559082, 0.8619999885559082, 0.8619999885559082, 0.8619999885559082, 0.8619999885559082, 0.8619999885559082, 0.8619999885559082, 0.8619999885559082, 0.8619999885559082, 0.8619999885559082, 0.8619999885559082, 0.8619999885559082, 0.8619999885559082, 0.8618999719619751, 0.8618999719619751, 0.8619999885559082, 0.8616999983787537, 0.8619999885559082, 0.8615000247955322, 0.8611999750137329, 0.8618000149726868, 0.8618999719619751, 0.8610000014305115, 0.8618000149726868, 0.8616999983787537, 3.7595999240875244, 3.759399890899658, 3.7592999935150146, 3.7592999935150146, 3.7590999603271484, 3.759000062942505, 3.758699893951416, 3.7578001022338867, 3.7565999031066895, 3.7565999031066895, 3.754699945449829, 0.7635999917984009, 0.7634000182151794, 0.7634000182151794, 0.7634000182151794, 0.7633000016212463, 0.7633000016212463, 0.7633000016212463, 0.7631999850273132, 0.7631999850273132, 0.7631999850273132, 0.7631999850273132, 0.7631999850273132, 0.7631999850273132, 0.7631999850273132, 0.7631000280380249, 0.7631000280380249, 0.7631000280380249, 0.7631000280380249, 0.7631000280380249, 0.7631000280380249, 0.7631000280380249, 0.7627999782562256, 0.7630000114440918, 0.7628999948501587, 0.7628999948501587, 0.762499988079071, 3.8554000854492188, 3.855299949645996, 3.855299949645996, 3.8552000522613525, 3.85479998588562, 3.8543999195098877, 3.8541998863220215, 3.8533999919891357, 3.8533999919891357, 3.852400064468384, 3.851900100708008, 3.851099967956543, 3.850800037384033, 1.0374000072479248, 1.0374000072479248, 1.0374000072479248, 1.0374000072479248, 1.0372999906539917, 1.0372999906539917, 1.0372999906539917, 1.0372999906539917, 1.0372999906539917, 1.0372999906539917, 1.0372999906539917, 1.0372999906539917, 1.0372999906539917, 1.0372999906539917, 1.0372999906539917, 1.0372999906539917, 1.0372999906539917, 1.0372999906539917, 1.0372999906539917, 1.0371999740600586, 1.0371999740600586, 1.0371999740600586, 1.0372999906539917, 1.0372999906539917, 1.0365999937057495, 1.0371999740600586, 1.0371999740600586, 1.0370999574661255, 1.0370999574661255, 4.092100143432617, 4.0920000076293945, 4.0920000076293945, 4.091800212860107, 4.09119987487793, 4.090099811553955, 4.086100101470947, 0.8220999836921692, 0.820900022983551, 0.820900022983551, 0.8208000063896179, 0.8208000063896179, 0.8206999897956848, 0.8205000162124634, 0.8205000162124634, 0.8205000162124634, 0.8205000162124634, 0.8203999996185303, 0.8203999996185303, 0.8203999996185303, 0.8203999996185303, 0.8203999996185303, 0.8203999996185303, 0.8202999830245972, 0.8202999830245972, 0.8202999830245972, 0.8202999830245972, 0.8202999830245972, 0.8202999830245972, 0.8202999830245972, 0.8202999830245972, 0.8202999830245972, 0.8202999830245972, 0.8202000260353088, 0.8202000260353088, 0.8202999830245972, 0.8199999928474426, 0.8191999793052673, 0.8201000094413757, 6.695799827575684, 6.6921000480651855, 3.4504001140594482, 3.449399948120117, 3.4493000507354736, 3.449199914932251, 3.449199914932251, 3.449199914932251, 3.449199914932251, 3.449199914932251, 3.449199914932251, 3.4491000175476074, 3.4491000175476074, 3.4491000175476074, 3.4491000175476074, 3.4491000175476074, 3.4491000175476074, 3.4491000175476074, 3.4491000175476074, 3.4491000175476074, 3.4491000175476074, 3.4491000175476074, 3.4491000175476074, 3.4491000175476074, 3.4491000175476074, 3.4491000175476074, 3.4491000175476074, 3.4491000175476074, 3.4491000175476074, 3.4491000175476074, 3.4491000175476074, 3.4491000175476074, 3.4491000175476074, 3.4489998817443848, 3.4491000175476074, 3.4489998817443848, 3.4489998817443848, 3.4489998817443848], \"logprob\": [30.0, 29.0, 28.0, 27.0, 26.0, 25.0, 24.0, 23.0, 22.0, 21.0, 20.0, 19.0, 18.0, 17.0, 16.0, 15.0, 14.0, 13.0, 12.0, 11.0, 10.0, 9.0, 8.0, 7.0, 6.0, 5.0, 4.0, 3.0, 2.0, 1.0, -0.6000999808311462, -1.1361000537872314, -3.5013999938964844, -3.7588000297546387, -3.8935999870300293, -3.9695000648498535, -4.900000095367432, -5.134300231933594, -5.579800128936768, -5.673099994659424, -5.691999912261963, -5.709499835968018, -6.068600177764893, -6.117400169372559, -6.762400150299072, -15.196000099182129, -15.197600364685059, -15.197699546813965, -15.19789981842041, -15.19789981842041, -15.198100090026855, -15.198100090026855, -15.197999954223633, -15.197699546813965, -15.197999954223633, -15.197999954223633, -15.198200225830078, -15.197999954223633, -15.198200225830078, -15.198100090026855, -15.197999954223633, -15.197199821472168, -15.197600364685059, -15.197999954223633, -15.197999954223633, -15.197999954223633, -1.777500033378601, -1.7963000535964966, -1.8341000080108643, -1.9764000177383423, -2.1117000579833984, -2.4275999069213867, -3.3024001121520996, -3.6963999271392822, -3.8761000633239746, -3.9340999126434326, -3.9972000122070312, -4.2042999267578125, -5.447400093078613, -5.52370023727417, -5.561999797821045, -6.254000186920166, -6.674600124359131, -14.778300285339355, -14.780400276184082, -14.780500411987305, -14.780900001525879, -14.781100273132324, -14.781100273132324, -14.781100273132324, -14.781100273132324, -14.781100273132324, -14.781100273132324, -14.781200408935547, -14.781100273132324, -14.781200408935547, -14.781000137329102, -14.781100273132324, -14.780900001525879, -14.781100273132324, -1.6933000087738037, -1.7691999673843384, -2.4286999702453613, -2.621000051498413, -2.6500000953674316, -2.973400115966797, -3.148699998855591, -3.364799976348877, -3.55049991607666, -3.5810000896453857, -3.786600112915039, -3.970400094985962, -4.042500019073486, -4.082099914550781, -4.208199977874756, -4.2399001121521, -4.413400173187256, -4.886099815368652, -5.023399829864502, -5.134399890899658, -5.199900150299072, -5.21589994430542, -5.388899803161621, -5.464099884033203, -6.085400104522705, -2.7530999183654785, -14.955300331115723, -14.955300331115723, -14.955499649047852, -14.955499649047852, -14.954999923706055, -14.9552001953125, -0.670799970626831, -1.9067000150680542, -2.150399923324585, -2.4477999210357666, -2.495800018310547, -3.93969988822937, -4.2505998611450195, -4.356100082397461, -14.600199699401855, -14.601300239562988, -14.601400375366211, -14.601400375366211, -14.601799964904785, -14.601799964904785, -14.601699829101562, -14.60200023651123, -14.601900100708008, -14.601699829101562, -14.60200023651123, -14.60200023651123, -14.602100372314453, -14.601900100708008, -14.601900100708008, -14.602100372314453, -14.60200023651123, -14.60200023651123, -14.602100372314453, -14.60200023651123, -14.602100372314453, -14.602100372314453, -14.601900100708008, -14.601799964904785, -14.601499557495117, -14.601799964904785, -14.601799964904785, -14.601400375366211, -14.601900100708008, -14.601900100708008, -14.60200023651123, -2.1461000442504883, -2.5216000080108643, -2.618000030517578, -2.7699999809265137, -2.8320999145507812, -2.8789000511169434, -2.913800001144409, -2.971299886703491, -2.987299919128418, -3.0966999530792236, -3.259500026702881, -3.3032000064849854, -3.3385000228881836, -3.340399980545044, -3.398099899291992, -3.4217000007629395, -3.6875, -3.8180999755859375, -4.205999851226807, -4.47760009765625, -4.502999782562256, -4.674799919128418, -4.7845001220703125, -5.021699905395508, -5.051000118255615, -5.741700172424316, -5.775400161743164, -6.589300155639648, -14.28219985961914, -14.282500267028809, -5.373600006103516, -14.281900405883789, -0.678600013256073, -1.719599962234497, -2.686300039291382, -3.365000009536743, -3.5032999515533447, -3.640500068664551, -3.6549999713897705, -3.77239990234375, -3.9017999172210693, -3.912600040435791, -4.196100234985352, -4.442399978637695, -4.548299789428711, -5.182199954986572, -5.502900123596191, -5.651000022888184, -6.720799922943115, -14.102100372314453, -14.102399826049805, -14.102399826049805, -14.10260009765625, -14.10260009765625, -14.10260009765625, -14.10260009765625, -14.102700233459473, -14.102700233459473, -14.102700233459473, -14.102800369262695, -14.102800369262695, -14.102800369262695, -14.10260009765625, -14.102499961853027, -14.101799964904785, -14.10260009765625, -14.10260009765625, -14.10260009765625, -14.10260009765625, -14.10260009765625, -1.2146999835968018, -1.5505000352859497, -2.4340999126434326, -2.439300060272217, -2.553499937057495, -2.9072000980377197, -3.2209999561309814, -3.411099910736084, -3.656399965286255, -4.059599876403809, -4.415900230407715, -4.48199987411499, -4.537700176239014, -4.551700115203857, -5.17710018157959, -5.292399883270264, -6.778900146484375, -14.286399841308594, -14.288399696350098, -14.289799690246582, -14.290599822998047, -14.29069995880127, -14.291000366210938, -14.291000366210938, -14.291099548339844, -14.291099548339844, -14.291199684143066, -14.291199684143066, -14.291299819946289, -14.291299819946289, -14.291199684143066, -14.291199684143066, -14.290900230407715, -14.291099548339844, -0.04820000007748604, -4.555200099945068, -4.6392998695373535, -4.981400012969971, -5.461299896240234, -13.954700469970703, -13.955300331115723, -13.955400466918945, -13.955699920654297, -13.956299781799316, -13.956299781799316, -13.956399917602539, -13.956600189208984, -13.956399917602539, -13.956600189208984, -13.956600189208984, -13.956700325012207, -13.956700325012207, -13.956700325012207, -13.95680046081543, -13.956399917602539, -13.95680046081543, -13.956600189208984, -13.95680046081543, -13.95680046081543, -13.956899642944336, -13.956899642944336, -13.956899642944336, -13.95680046081543, -13.956899642944336, -13.956899642944336, -13.95680046081543, -13.956299781799316, -13.95680046081543, -1.7777999639511108, -2.1066999435424805, -2.22760009765625, -2.2383999824523926, -2.4056999683380127, -2.6317999362945557, -2.8046998977661133, -3.0383999347686768, -3.1161000728607178, -3.1784000396728516, -3.478100061416626, -3.759200096130371, -3.8947999477386475, -4.2058000564575195, -4.559500217437744, -4.850800037384033, -5.5243000984191895, -5.801599979400635, -4.588600158691406, -14.112700462341309, -14.112700462341309, -14.112799644470215, -14.11299991607666, -14.113100051879883, -14.11299991607666, -14.113100051879883, -14.113100051879883, -14.113200187683105, -14.113200187683105, -14.113200187683105, -14.11299991607666, -14.11299991607666, -14.112299919128418, -14.112899780273438, -14.11299991607666, -14.112899780273438, -14.112899780273438, -1.4622999429702759, -1.8555999994277954, -2.2778000831604004, -2.3615000247955322, -2.382499933242798, -2.921799898147583, -3.3362998962402344, -3.338399887084961, -3.3721001148223877, -3.4035000801086426, -3.4433000087738037, -3.861599922180176, -4.320700168609619, -4.452899932861328, -4.470900058746338, -4.690499782562256, -4.810999870300293, -5.442599773406982, -6.610899925231934, -13.823200225830078, -13.823100090026855, -13.822999954223633, -13.822199821472168, -13.823399543762207, -13.8233003616333, -13.823200225830078, -13.823399543762207, -13.823399543762207, -13.823200225830078, -13.823399543762207, -13.8233003616333, -13.823200225830078, -13.823100090026855, -13.8233003616333, -13.823200225830078, -13.823200225830078, -0.45739999413490295, -1.7742999792099, -1.8532999753952026, -4.836999893188477, -4.987100124359131, -5.7758002281188965, -6.006499767303467, -6.035099983215332, -13.81410026550293, -13.817000389099121, -13.8193998336792, -13.82129955291748, -13.821200370788574, -13.821499824523926, -13.821499824523926, -13.821700096130371, -13.821700096130371, -13.821599960327148, -13.821700096130371, -13.821900367736816, -13.821700096130371, -13.821900367736816, -13.821900367736816, -13.821700096130371, -13.821900367736816, -13.821900367736816, -13.821800231933594, -13.821999549865723, -13.821999549865723, -13.821900367736816, -13.821499824523926, -13.821800231933594, -13.821800231933594, -13.82129955291748, -13.821800231933594, -13.821800231933594, -13.821800231933594, -13.821800231933594, -13.821800231933594, -0.47940000891685486, -2.346299886703491, -3.0660998821258545, -3.270699977874756, -3.4254000186920166, -3.5938000679016113, -3.6649999618530273, -4.048500061035156, -4.408199787139893, -4.559599876403809, -4.610199928283691, -4.660999774932861, -4.860799789428711, -4.916399955749512, -5.037600040435791, -5.262800216674805, -5.35860013961792, -5.455900192260742, -5.6230998039245605, -13.934100151062012, -13.934599876403809, -13.9350004196167, -13.935099601745605, -13.934000015258789, -13.935199737548828, -13.9350004196167, -13.935099601745605, -13.93529987335205, -13.934900283813477, -13.93529987335205, -13.935199737548828, -13.935199737548828, -0.8141999840736389, -1.90910005569458, -2.26200008392334, -2.972100019454956, -3.139899969100952, -3.2769999504089355, -3.29010009765625, -3.3373000621795654, -3.7444000244140625, -3.873699903488159, -3.942199945449829, -4.11359977722168, -13.745599746704102, -13.745599746704102, -13.74590015411377, -13.745699882507324, -13.746100425720215, -13.746299743652344, -13.746199607849121, -13.746399879455566, -13.746500015258789, -13.746500015258789, -13.746600151062012, -13.746500015258789, -13.746600151062012, -13.746399879455566, -13.746600151062012, -13.746399879455566, -13.746600151062012, -13.746600151062012, -13.746399879455566, -13.746500015258789, -13.74590015411377, -13.746500015258789, -13.746500015258789, -13.746500015258789, -1.4947999715805054, -1.5535000562667847, -2.2376999855041504, -2.6115000247955322, -2.7504000663757324, -2.783400058746338, -2.7997000217437744, -3.4091999530792236, -3.415600061416626, -3.5085999965667725, -3.912100076675415, -4.638700008392334, -5.860899925231934, -3.0376999378204346, -13.659600257873535, -13.66100025177002, -13.66100025177002, -13.66100025177002, -13.66100025177002, -13.66100025177002, -13.66100025177002, -13.66100025177002, -13.66100025177002, -13.66100025177002, -13.661100387573242, -13.661199569702148, -13.661299705505371, -13.66100025177002, -13.661399841308594, -13.661399841308594, -13.661299705505371, -13.661199569702148, -13.660400390625, -13.661199569702148, -13.660900115966797, -1.6916999816894531, -1.726199984550476, -2.1737000942230225, -2.5550999641418457, -2.615499973297119, -2.742799997329712, -3.0411999225616455, -3.0782999992370605, -3.512399911880493, -3.5257999897003174, -3.832900047302246, -3.9082999229431152, -3.977799892425537, -4.1082000732421875, -4.17080020904541, -4.22160005569458, -4.464300155639648, -4.9608001708984375, -5.737500190734863, -13.41469955444336, -13.414999961853027, -13.41510009765625, -13.414899826049805, -13.41510009765625, -13.415200233459473, -13.415200233459473, -13.414999961853027, -13.415200233459473, -13.414999961853027, -13.414999961853027, -13.414199829101562, -13.414400100708008, -13.414799690246582, -13.414999961853027, -0.42989999055862427, -1.4375, -2.529400110244751, -13.242899894714355, -13.243000030517578, -13.243000030517578, -13.243000030517578, -13.243200302124023, -13.2431001663208, -13.2431001663208, -13.243200302124023, -13.243200302124023, -13.243200302124023, -13.243200302124023, -13.243200302124023, -13.243200302124023, -13.243200302124023, -13.243200302124023, -13.243200302124023, -13.2431001663208, -13.243200302124023, -13.243200302124023, -13.243200302124023, -13.243200302124023, -13.243200302124023, -13.243200302124023, -13.243300437927246, -13.243300437927246, -13.2431001663208, -13.243300437927246, -13.243200302124023, -13.2431001663208, -13.243200302124023, -13.2431001663208, -13.2431001663208, -13.243200302124023, -13.2431001663208, -13.2431001663208, -13.243200302124023, -13.243000030517578, -13.243200302124023, -13.243000030517578, -13.242899894714355, -13.2431001663208, -13.243200302124023, -13.243000030517578, -13.243200302124023, -13.243200302124023, -0.6197999715805054, -2.230600118637085, -2.5088000297546387, -2.652100086212158, -2.903700113296509, -3.0975000858306885, -3.443000078201294, -4.13640022277832, -4.630499839782715, -4.63070011138916, -5.1082000732421875, -13.34160041809082, -13.341400146484375, -13.34179973602295, -13.34179973602295, -13.34179973602295, -13.341899871826172, -13.34160041809082, -13.341899871826172, -13.341899871826172, -13.341699600219727, -13.341899871826172, -13.342000007629395, -13.342000007629395, -13.342000007629395, -13.34179973602295, -13.342100143432617, -13.342100143432617, -13.342100143432617, -13.342100143432617, -13.342000007629395, -13.341899871826172, -13.34119987487793, -13.34179973602295, -13.341899871826172, -13.341899871826172, -13.342000007629395, -1.2484999895095825, -1.4845000505447388, -1.782099962234497, -2.2070000171661377, -3.0678999423980713, -3.495300054550171, -3.630000114440918, -4.114699840545654, -4.156400203704834, -4.545100212097168, -4.69320011138916, -4.89109992980957, -4.942399978637695, -13.067700386047363, -13.06779956817627, -13.06779956817627, -13.06760025024414, -13.067899703979492, -13.067700386047363, -13.067899703979492, -13.06779956817627, -13.067899703979492, -13.067899703979492, -13.067899703979492, -13.067899703979492, -13.06779956817627, -13.067899703979492, -13.067999839782715, -13.067899703979492, -13.06779956817627, -13.067899703979492, -13.06779956817627, -13.067700386047363, -13.06779956817627, -13.06779956817627, -13.06779956817627, -13.06779956817627, -13.067500114440918, -13.06779956817627, -13.06779956817627, -13.06779956817627, -13.06779956817627, -0.8658000230789185, -1.5878000259399414, -1.768399953842163, -2.2528998851776123, -3.1802000999450684, -3.924499988555908, -4.955999851226807, -13.283100128173828, -13.284299850463867, -13.284299850463867, -13.28439998626709, -13.284500122070312, -13.284500122070312, -13.284799575805664, -13.284799575805664, -13.284799575805664, -13.284600257873535, -13.284799575805664, -13.284799575805664, -13.284899711608887, -13.284899711608887, -13.284799575805664, -13.284899711608887, -13.284899711608887, -13.284899711608887, -13.284700393676758, -13.284899711608887, -13.284899711608887, -13.284899711608887, -13.28499984741211, -13.284799575805664, -13.284799575805664, -13.284799575805664, -13.284799575805664, -13.284799575805664, -13.284799575805664, -13.284799575805664, -13.284799575805664, -13.284799575805664, -0.7885000109672546, -2.139699935913086, -10.654600143432617, -10.655599594116211, -10.655900001525879, -10.656000137329102, -10.656100273132324, -10.656100273132324, -10.656100273132324, -10.656000137329102, -10.656100273132324, -10.656100273132324, -10.656100273132324, -10.656100273132324, -10.656100273132324, -10.656100273132324, -10.656100273132324, -10.656100273132324, -10.656000137329102, -10.656100273132324, -10.656100273132324, -10.656200408935547, -10.656200408935547, -10.656200408935547, -10.656200408935547, -10.656000137329102, -10.656200408935547, -10.656100273132324, -10.656100273132324, -10.656200408935547, -10.656200408935547, -10.656100273132324, -10.656100273132324, -10.656100273132324, -10.656100273132324, -10.656100273132324, -10.656100273132324, -10.656100273132324]}, \"token.table\": {\"Topic\": [14, 5, 9, 1, 3, 6, 2, 2, 11, 12, 7, 4, 10, 2, 14, 12, 12, 10, 10, 4, 9, 18, 14, 6, 19, 4, 5, 17, 5, 5, 3, 3, 1, 1, 19, 10, 3, 11, 1, 7, 6, 4, 15, 6, 17, 17, 7, 18, 7, 7, 18, 10, 10, 2, 6, 3, 5, 5, 15, 9, 2, 14, 1, 5, 8, 12, 5, 1, 9, 2, 9, 5, 3, 18, 11, 10, 19, 5, 19, 9, 7, 16, 3, 13, 15, 15, 10, 7, 13, 17, 5, 4, 7, 2, 5, 13, 6, 5, 4, 4, 17, 14, 6, 18, 12, 12, 17, 7, 10, 2, 8, 5, 12, 1, 12, 18, 17, 5, 6, 9, 1, 5, 9, 19, 7, 10, 10, 5, 11, 9, 7, 14, 3, 3, 18, 13, 5, 18, 11, 7, 8, 19, 13, 12, 13, 3, 14, 13, 15, 5, 8, 2, 2, 3, 3, 3, 3, 1, 12, 14, 4, 15, 9, 18, 1, 12, 15, 15, 2, 3, 5, 14, 17, 9, 5, 7, 3, 12, 13, 3, 3, 9, 14, 6, 11, 10, 13, 13, 15, 11, 5, 15, 7, 18, 18, 10, 2, 5, 1, 3, 12, 7, 13, 6, 14, 16, 15, 3, 5, 17, 5, 9, 14, 18, 9, 14, 12, 6, 11, 10, 15, 5, 15, 10, 16, 9, 15, 14, 17, 9, 12, 3, 9, 2, 2, 10, 2, 8, 6, 2, 3, 15, 20, 12, 2, 18, 17, 10, 15, 7, 7, 9, 15, 3, 5, 6, 5, 10, 1, 12, 1, 1, 20, 10, 6, 12, 6, 6, 6, 12, 1, 15, 15, 13, 3, 3, 9, 3, 5, 19], \"Freq\": [0.999790608882904, 0.9998859167098999, 0.9992860555648804, 0.9985899925231934, 0.9995507597923279, 0.9996908903121948, 0.9999251961708069, 0.9999594688415527, 0.9976065754890442, 0.9999761581420898, 0.9888501167297363, 0.9993457198143005, 0.9990361928939819, 0.9986590147018433, 0.9921489357948303, 0.9982415437698364, 0.998970091342926, 0.9995166063308716, 0.9995916485786438, 0.9999099373817444, 0.9998810887336731, 0.9998859167098999, 0.999897837638855, 0.9999237060546875, 0.999830424785614, 0.9998937845230103, 0.9996379613876343, 0.9935767650604248, 0.9999117255210876, 0.9997482299804688, 0.9990853667259216, 0.9980785846710205, 0.9984468221664429, 0.9998086094856262, 0.9997519254684448, 0.999841570854187, 0.9984143972396851, 0.9975436329841614, 0.9999836683273315, 0.9998550415039062, 0.9988980889320374, 0.9998615384101868, 0.9978841543197632, 0.9997749924659729, 0.9992794990539551, 0.9988510012626648, 0.9985007047653198, 0.9984176754951477, 0.9993232488632202, 0.9989221096038818, 0.9991582036018372, 0.9995337128639221, 0.9865051507949829, 0.9999558925628662, 0.9990717768669128, 0.999808669090271, 0.9994006156921387, 0.999778687953949, 0.996512770652771, 0.9999058246612549, 0.9996284246444702, 0.9991259574890137, 0.9980677366256714, 0.9893954992294312, 0.9999873638153076, 0.9981966018676758, 0.9985494017601013, 0.9984528422355652, 0.9998940825462341, 0.9995834231376648, 0.9957209229469299, 0.9995924234390259, 0.9998513460159302, 0.9953656792640686, 0.995477557182312, 0.9995374083518982, 0.9991089701652527, 0.999685525894165, 0.9977020025253296, 0.9996384382247925, 0.999945342540741, 0.9995361566543579, 0.9995615482330322, 0.9994557499885559, 0.9995468258857727, 0.9992973208427429, 0.9982422590255737, 0.9998348951339722, 0.9987108111381531, 0.9997979998588562, 0.9995640516281128, 0.9991496205329895, 0.9990304708480835, 0.9996737837791443, 0.9962679147720337, 0.9999649524688721, 0.9861112236976624, 0.9972479939460754, 0.9999837279319763, 0.9999203681945801, 0.9994373917579651, 0.9992883801460266, 0.9994956851005554, 0.9997556805610657, 0.9970371127128601, 0.9979527592658997, 0.999457836151123, 0.9995498657226562, 0.9999249577522278, 0.9999472498893738, 0.9980795979499817, 0.9989772439002991, 0.9994745254516602, 0.9976044297218323, 0.994818389415741, 0.9977753162384033, 0.9975255131721497, 0.999302327632904, 0.9978987574577332, 0.9982576370239258, 0.9991847276687622, 0.9997559785842896, 0.9947301149368286, 0.9996745586395264, 0.9980827569961548, 0.9985143542289734, 0.9997380375862122, 0.998565137386322, 0.9999681115150452, 0.9996362328529358, 0.9997268319129944, 0.9999071359634399, 0.9997301697731018, 0.999404788017273, 0.9993054270744324, 0.999872624874115, 0.9986234307289124, 0.996177613735199, 0.9999053478240967, 0.9982525706291199, 0.9988613724708557, 0.999911904335022, 0.9995229840278625, 0.9981751441955566, 0.9994021058082581, 0.9990702271461487, 0.9996105432510376, 0.99981689453125, 0.998679518699646, 0.9979230165481567, 0.9988642334938049, 0.9997382164001465, 0.9995296597480774, 0.9998534321784973, 0.9958831071853638, 0.9996519684791565, 0.999897837638855, 0.9997643828392029, 0.9992103576660156, 0.9997005462646484, 0.9995592832565308, 0.998140811920166, 0.999864399433136, 0.9996855854988098, 0.9985190629959106, 0.996191143989563, 0.9997799396514893, 0.9996910095214844, 0.9979079961776733, 0.9983295798301697, 0.9997108578681946, 0.9978041648864746, 0.9974651336669922, 0.9998659491539001, 0.9986046552658081, 0.9988337755203247, 0.999618649482727, 0.9970448017120361, 0.9984368681907654, 0.9998995065689087, 0.9997491836547852, 0.23932920396327972, 0.7603856921195984, 0.9995062947273254, 0.9918538331985474, 0.9998414516448975, 0.9995100498199463, 0.9990516304969788, 0.9998941421508789, 0.9999123215675354, 0.999729335308075, 0.99908447265625, 0.9999657273292542, 0.9962363243103027, 0.9988104104995728, 0.9987902045249939, 0.9999455809593201, 0.9997072815895081, 0.9967653155326843, 0.9995444416999817, 0.9995608925819397, 0.9998754858970642, 0.9993659853935242, 0.9966633319854736, 0.9991118311882019, 0.9998998641967773, 0.9995705485343933, 0.999946117401123, 0.9997674822807312, 0.9999361038208008, 0.9998011589050293, 0.9996759295463562, 0.9996723532676697, 0.9998646378517151, 0.9997737407684326, 0.9989005923271179, 0.9969570636749268, 0.9993252754211426, 0.9946713447570801, 0.9959460496902466, 0.9989807605743408, 0.9997748136520386, 0.9921088814735413, 0.9974870085716248, 0.9999472498893738, 0.9992359280586243, 0.9982840418815613, 0.9996117949485779, 0.999650776386261, 0.9985336065292358, 0.9998636245727539, 0.9984359741210938, 0.9996796250343323, 0.9997986555099487, 0.9960238933563232, 0.9999380111694336, 0.9958133101463318, 0.9962193965911865, 0.999476432800293, 0.9987373352050781, 0.9985766410827637, 0.9997560381889343, 0.9946011304855347, 0.9994885325431824, 0.9999390244483948, 0.9973769783973694, 0.9977031350135803, 0.9994844198226929, 0.9982931017875671, 0.9996196031570435, 0.9983993768692017, 0.9993756413459778, 0.9995068311691284, 0.9590514898300171, 0.04087647795677185, 0.9994106292724609, 0.9998114705085754, 0.9985639452934265, 0.9999905228614807, 0.9977925419807434, 0.9997224807739258, 0.9993332028388977, 0.9987573027610779, 0.9998484253883362, 0.9956495761871338, 0.9994145631790161, 0.9992275238037109, 0.9993690848350525, 0.9999737739562988, 0.9986447095870972, 0.9998930096626282, 0.9982816576957703, 0.99989914894104, 0.998927116394043, 0.999902069568634, 0.9999685883522034, 0.9992920160293579, 0.9995838403701782, 0.9995487928390503, 0.9951013922691345], \"Term\": [\"accessory\", \"activity\", \"adult\", \"airplane\", \"alphabet\", \"american\", \"amigurumi\", \"animal\", \"apple\", \"baby\", \"bakery\", \"baptism\", \"basket\", \"bat\", \"bathroom\", \"bead\", \"beautiful\", \"big\", \"bird\", \"birthday\", \"block\", \"blue\", \"board\", \"book\", \"box\", \"boy\", \"brown\", \"brush\", \"bunny\", \"busy\", \"butterfly\", \"button\", \"camera\", \"car\", \"card\", \"cat\", \"character\", \"cherry\", \"child\", \"children\", \"choose\", \"christmas\", \"collector\", \"color\", \"complete\", \"condition\", \"cookie\", \"coral\", \"costume\", \"count\", \"cow\", \"crayon\", \"crazy\", \"crochet\", \"cube\", \"custom\", \"customize\", \"cute\", \"daily_routine\", \"decor\", \"decoration\", \"deer\", \"desk\", \"developmental\", \"doll\", \"donkey\", \"door\", \"draw\", \"dress\", \"easter\", \"easy\", \"eco\", \"educational\", \"ephemera\", \"etsy\", \"eye\", \"face\", \"fairy\", \"fall\", \"favor\", \"feel\", \"finger\", \"first\", \"fisher\", \"flannel\", \"fleece\", \"fluffy\", \"food\", \"forest\", \"free\", \"friendly\", \"frog\", \"fruit\", \"fun\", \"fuzzy\", \"game\", \"genuine\", \"ghost\", \"gift\", \"girl\", \"good\", \"gray\", \"great\", \"green\", \"grip\", \"gym\", \"hair\", \"halloween\", \"hand\", \"handmade\", \"hardwood\", \"head\", \"heart\", \"heirloom\", \"homemade\", \"hoop\", \"hot\", \"idea\", \"illustration\", \"imaginary\", \"imagination\", \"inch\", \"insect\", \"inspire\", \"interactive\", \"jack\", \"jigsaw\", \"kawaii\", \"kid\", \"kit\", \"kitchen\", \"knit\", \"learn\", \"letter\", \"lion\", \"little\", \"magic\", \"maid\", \"make\", \"man\", \"marble\", \"mask\", \"match\", \"maxi_cosi\", \"memory\", \"mickey\", \"mini\", \"miniature\", \"mint\", \"mom\", \"money\", \"monkey\", \"monster\", \"montessori\", \"motor_skill\", \"mouse\", \"name\", \"natural\", \"necklace\", \"new\", \"newborn\", \"night\", \"nursery\", \"old\", \"open_ende\", \"option\", \"organic\", \"original\", \"outdoor\", \"pack\", \"page\", \"pajama\", \"parker_brother\", \"party\", \"pastel\", \"pc\", \"peg\", \"pendant\", \"people\", \"personalize\", \"personalized\", \"photo\", \"photo\", \"picture\", \"pie\", \"piece\", \"pig\", \"piggy\", \"pillow\", \"pink\", \"plastic\", \"plate\", \"play\", \"playdough\", \"playing\", \"playskool\", \"plush\", \"plushie\", \"portable\", \"preschool\", \"present\", \"pretend\", \"price\", \"primary\", \"prop\", \"puppet\", \"purple\", \"puzzle\", \"quiet\", \"quot\", \"rabbit\", \"rainbow\", \"ready\", \"red\", \"room\", \"routine\", \"rug\", \"russian\", \"science\", \"sculpture\", \"sea\", \"sensory\", \"serve\", \"sesame_street\", \"set\", \"sew\", \"sheet\", \"ship\", \"shipping\", \"shoot\", \"shower\", \"sign\", \"size\", \"small\", \"snap\", \"soft\", \"soldier\", \"solid\", \"soviet\", \"sport\", \"stick\", \"story\", \"stress\", \"stroller\", \"stuff\", \"sweater\", \"symbol\", \"table\", \"tag\", \"tea\", \"theater\", \"theme\", \"time\", \"toddler\", \"toddler\", \"tool\", \"tooth\", \"top\", \"toy\", \"tractor\", \"travel\", \"tray\", \"turtle\", \"unicorn\", \"union\", \"unique\", \"usa\", \"ussr\", \"vintage\", \"wagon\", \"waldorf\", \"wall\", \"white\", \"witch\", \"wood\", \"wooden\", \"work\", \"year\", \"yellow\", \"yoga\"]}, \"R\": 30, \"lambda.step\": 0.01, \"plot.opts\": {\"xlab\": \"PC1\", \"ylab\": \"PC2\"}, \"topic.order\": [13, 11, 10, 14, 15, 20, 4, 18, 19, 5, 2, 7, 16, 3, 17, 6, 12, 8, 1, 9]};\n",
       "\n",
       "function LDAvis_load_lib(url, callback){\n",
       "  var s = document.createElement('script');\n",
       "  s.src = url;\n",
       "  s.async = true;\n",
       "  s.onreadystatechange = s.onload = callback;\n",
       "  s.onerror = function(){console.warn(\"failed to load library \" + url);};\n",
       "  document.getElementsByTagName(\"head\")[0].appendChild(s);\n",
       "}\n",
       "\n",
       "if(typeof(LDAvis) !== \"undefined\"){\n",
       "   // already loaded: just create the visualization\n",
       "   !function(LDAvis){\n",
       "       new LDAvis(\"#\" + \"ldavis_el1186422854521498329731621656\", ldavis_el1186422854521498329731621656_data);\n",
       "   }(LDAvis);\n",
       "}else if(typeof define === \"function\" && define.amd){\n",
       "   // require.js is available: use it to load d3/LDAvis\n",
       "   require.config({paths: {d3: \"https://cdnjs.cloudflare.com/ajax/libs/d3/3.5.5/d3.min\"}});\n",
       "   require([\"d3\"], function(d3){\n",
       "      window.d3 = d3;\n",
       "      LDAvis_load_lib(\"https://cdn.rawgit.com/bmabey/pyLDAvis/files/ldavis.v1.0.0.js\", function(){\n",
       "        new LDAvis(\"#\" + \"ldavis_el1186422854521498329731621656\", ldavis_el1186422854521498329731621656_data);\n",
       "      });\n",
       "    });\n",
       "}else{\n",
       "    // require.js not available: dynamically load d3 & LDAvis\n",
       "    LDAvis_load_lib(\"https://cdnjs.cloudflare.com/ajax/libs/d3/3.5.5/d3.min.js\", function(){\n",
       "         LDAvis_load_lib(\"https://cdn.rawgit.com/bmabey/pyLDAvis/files/ldavis.v1.0.0.js\", function(){\n",
       "                 new LDAvis(\"#\" + \"ldavis_el1186422854521498329731621656\", ldavis_el1186422854521498329731621656_data);\n",
       "            })\n",
       "         });\n",
       "}\n",
       "</script>"
      ],
      "text/plain": [
       "PreparedData(topic_coordinates=              x         y  topics  cluster       Freq\n",
       "topic                                                \n",
       "12     0.205686  0.147335       1        1  15.676909\n",
       "10     0.150340  0.080738       2        1  10.107899\n",
       "9      0.191159 -0.275466       3        1  10.034828\n",
       "13     0.128314  0.061836       4        1   7.693328\n",
       "14     0.101526 -0.231759       5        1   5.875176\n",
       "19     0.036938  0.010769       6        1   5.374604\n",
       "3      0.071131  0.026173       7        1   5.068755\n",
       "17     0.015214  0.003142       8        1   4.757308\n",
       "18     0.024631  0.215312       9        1   4.653656\n",
       "4     -0.018156 -0.008086      10        1   4.330417\n",
       "1     -0.012781 -0.005971      11        1   4.235459\n",
       "6      0.004246 -0.001168      12        1   4.211390\n",
       "15    -0.030206 -0.011104      13        1   3.411277\n",
       "2     -0.041214  0.163557      14        1   3.135759\n",
       "16    -0.097393 -0.026049      15        1   2.843783\n",
       "5     -0.123407 -0.029682      16        1   2.350371\n",
       "11    -0.108022 -0.027547      17        1   2.329100\n",
       "7     -0.157180 -0.034526      18        1   2.116344\n",
       "0     -0.117247 -0.028890      19        1   1.670179\n",
       "8     -0.223577 -0.028612      20        1   0.123457, topic_info=    Category           Freq      Term          Total  loglift  logprob\n",
       "16   Default  187784.000000       toy  187784.000000  30.0000  30.0000\n",
       "6    Default   98961.000000      doll   98961.000000  29.0000  29.0000\n",
       "9    Default   85864.000000      gift   85864.000000  28.0000  28.0000\n",
       "59   Default  109874.000000     child  109874.000000  27.0000  27.0000\n",
       "10   Default   58518.000000       kid   58518.000000  26.0000  26.0000\n",
       "..       ...            ...       ...            ...      ...      ...\n",
       "706  Topic20       0.063485  silicone       1.634052   3.4490 -10.6561\n",
       "630  Topic20       0.063481      long       1.633863   3.4491 -10.6561\n",
       "767  Topic20       0.063483    flower       1.634065   3.4490 -10.6561\n",
       "475  Topic20       0.063482      grey       1.634083   3.4490 -10.6561\n",
       "569  Topic20       0.063480    softie       1.634031   3.4490 -10.6561\n",
       "\n",
       "[762 rows x 6 columns], token_table=      Topic      Freq       Term\n",
       "term                            \n",
       "17       14  0.999791  accessory\n",
       "347       5  0.999886   activity\n",
       "37        9  0.999286      adult\n",
       "154       1  0.998590   airplane\n",
       "319       3  0.999551   alphabet\n",
       "...     ...       ...        ...\n",
       "57        3  0.999969     wooden\n",
       "69        9  0.999292       work\n",
       "31        3  0.999584       year\n",
       "124       5  0.999549     yellow\n",
       "280      19  0.995101       yoga\n",
       "\n",
       "[280 rows x 3 columns], R=30, lambda_step=0.01, plot_opts={'xlab': 'PC1', 'ylab': 'PC2'}, topic_order=[13, 11, 10, 14, 15, 20, 4, 18, 19, 5, 2, 7, 16, 3, 17, 6, 12, 8, 1, 9])"
      ]
     },
     "execution_count": 24,
     "metadata": {},
     "output_type": "execute_result"
    }
   ],
   "source": [
    "# Visualize the topics\n",
    "pyLDAvis.enable_notebook()\n",
    "vis = pyLDAvis.gensim.prepare(lda_model, corpus, id2word)\n",
    "vis"
   ]
  },
  {
   "cell_type": "markdown",
   "metadata": {},
   "source": [
    "__Building LDA Mallet Model__\n",
    "\n",
    "The MALLET topic model package includes an extremely fast and highly scalable implementation of Gibbs sampling, efficient methods for document-topic hyperparameter optimization, and tools for inferring topics for new documents given trained models. "
   ]
  },
  {
   "cell_type": "code",
   "execution_count": 29,
   "metadata": {},
   "outputs": [],
   "source": [
    "import os\n",
    "os.environ.update({'MALLET_HOME':r'C:/Work/Projects/Insight/data/LDA-Topic-Modeling-master/Python/mallet-2.0.8/'})\n",
    "# Download File: http://mallet.cs.umass.edu/dist/mallet-2.0.8.zip\n",
    "mallet_path = 'C:\\\\Work\\\\Projects\\\\Insight\\\\data\\\\LDA-Topic-Modeling-master\\\\Python\\\\mallet-2.0.8\\\\bin\\mallet'#./mallet-2.0.8/bin/mallet' # update this path\n",
    "ldamallet = gensim.models.wrappers.LdaMallet(mallet_path, corpus=corpus, num_topics=20, id2word=id2word)"
   ]
  },
  {
   "cell_type": "code",
   "execution_count": 30,
   "metadata": {},
   "outputs": [
    {
     "name": "stdout",
     "output_type": "stream",
     "text": [
      "[(8,\n",
      "  [('baby', 0.28289381694118965),\n",
      "   ('decor', 0.09486656039971289),\n",
      "   ('nursery', 0.06138314829833049),\n",
      "   ('pillow', 0.05414953811161759),\n",
      "   ('shower', 0.046431201469094026),\n",
      "   ('room', 0.04138818199614083),\n",
      "   ('gift', 0.0346206549400151),\n",
      "   ('owl', 0.028580217567605357),\n",
      "   ('decoration', 0.02545746059267131),\n",
      "   ('mobile', 0.02402192455046282)]),\n",
      " (16,\n",
      "  [('girl', 0.09251670242731774),\n",
      "   ('bag', 0.07020612371490456),\n",
      "   ('fairy', 0.050356420138500495),\n",
      "   ('waldorf', 0.04144845890236834),\n",
      "   ('boy', 0.040268865861967276),\n",
      "   ('angel', 0.028330570780666878),\n",
      "   ('school', 0.02744587600036608),\n",
      "   ('tooth', 0.025249392407895137),\n",
      "   ('child', 0.024578244643529017),\n",
      "   ('flower', 0.024263008572387355)]),\n",
      " (18,\n",
      "  [('crochet', 0.19981054081984154),\n",
      "   ('handmade', 0.11420082673096796),\n",
      "   ('toy', 0.11307268343093352),\n",
      "   ('amigurumi', 0.10584739924216328),\n",
      "   ('knit', 0.08574750258353428),\n",
      "   ('bunny', 0.07952979676197038),\n",
      "   ('rabbit', 0.04605580434033758),\n",
      "   ('soft', 0.03480020668274199),\n",
      "   ('plush', 0.03344815707888391),\n",
      "   ('easter', 0.02741991043747847)]),\n",
      " (2,\n",
      "  [('game', 0.14336164195136275),\n",
      "   ('book', 0.07682737409877363),\n",
      "   ('board', 0.059888568624572085),\n",
      "   ('toddler', 0.0510714258115867),\n",
      "   ('educational', 0.0475476597092893),\n",
      "   ('montessori', 0.042571112845518407),\n",
      "   ('activity', 0.04024511811571244),\n",
      "   ('learn', 0.03384670071943558),\n",
      "   ('busy', 0.03273393247660482),\n",
      "   ('quiet', 0.03093341163924672)]),\n",
      " (15,\n",
      "  [('blue', 0.07221257716049383),\n",
      "   ('white', 0.061988811728395064),\n",
      "   ('pink', 0.057359182098765435),\n",
      "   ('red', 0.0427758487654321),\n",
      "   ('unicorn', 0.038975694444444445),\n",
      "   ('green', 0.03755787037037037),\n",
      "   ('black', 0.032233796296296295),\n",
      "   ('yellow', 0.03004436728395062),\n",
      "   ('fox', 0.027102623456790122),\n",
      "   ('ship', 0.02419945987654321)]),\n",
      " (9,\n",
      "  [('toy', 0.7413445257052275),\n",
      "   ('soft', 0.03382930431963108),\n",
      "   ('truck', 0.020535360449616312),\n",
      "   ('soviet', 0.0188511006232662),\n",
      "   ('rubber', 0.017851352811903302),\n",
      "   ('ussr', 0.014131570414670173),\n",
      "   ('turtle', 0.012438303851280757),\n",
      "   ('handmade', 0.011438556039917858),\n",
      "   ('russian', 0.009817343372842886),\n",
      "   ('toddler', 0.0075026119537413985)]),\n",
      " (6,\n",
      "  [('animal', 0.185013961109532),\n",
      "   ('stuff', 0.1570499423163738),\n",
      "   ('bear', 0.15307060810245948),\n",
      "   ('plush', 0.11715628082730024),\n",
      "   ('teddy', 0.06295875202728686),\n",
      "   ('soft', 0.02971960741694394),\n",
      "   ('cute', 0.027102944372920462),\n",
      "   ('plushie', 0.025288836128341888),\n",
      "   ('cuddly', 0.01870119881623167),\n",
      "   ('softie', 0.01135280643381431)]),\n",
      " (12,\n",
      "  [('make', 0.09196708223300375),\n",
      "   ('hand', 0.09156789289442978),\n",
      "   ('puppet', 0.08312350303998035),\n",
      "   ('elephant', 0.04835308808778071),\n",
      "   ('monkey', 0.029765194783925975),\n",
      "   ('paint', 0.02924317795656001),\n",
      "   ('finger', 0.02853691989600606),\n",
      "   ('order', 0.026786628180720178),\n",
      "   ('monster', 0.024893037728510307),\n",
      "   ('sock', 0.021853057380908515)]),\n",
      " (17,\n",
      "  [('play', 0.1643085269282933),\n",
      "   ('kid', 0.1442271514196964),\n",
      "   ('teepee', 0.07406921293258083),\n",
      "   ('tent', 0.052902830642691516),\n",
      "   ('food', 0.04779279870499191),\n",
      "   ('pretend', 0.04133525834536466),\n",
      "   ('children', 0.03812398827492672),\n",
      "   ('kitchen', 0.03656647854049088),\n",
      "   ('feel', 0.03331145819661373),\n",
      "   ('tipi', 0.03099269370433565)]),\n",
      " (1,\n",
      "  [('vintage', 0.2643597877438569),\n",
      "   ('child', 0.06691695041859473),\n",
      "   ('collectible', 0.04406158144407904),\n",
      "   ('barbie', 0.03351668073300156),\n",
      "   ('plastic', 0.03186752422804924),\n",
      "   ('figure', 0.025115683478362096),\n",
      "   ('collection', 0.024892562304162664),\n",
      "   ('retro', 0.019411542155350542),\n",
      "   ('giraffe', 0.01939214031411581),\n",
      "   ('toy', 0.018063114189536586)])]\n",
      "\n",
      "Coherence Score:  0.43381302403678346\n"
     ]
    }
   ],
   "source": [
    "# Show Topics\n",
    "pprint(ldamallet.show_topics(formatted=False))\n",
    "\n",
    "# Compute Coherence Score\n",
    "coherence_model_ldamallet = CoherenceModel(model=ldamallet, texts=data_lemmatized, dictionary=id2word, coherence='c_v')\n",
    "coherence_ldamallet = coherence_model_ldamallet.get_coherence()\n",
    "print('\\nCoherence Score: ', coherence_ldamallet)"
   ]
  },
  {
   "cell_type": "markdown",
   "metadata": {},
   "source": [
    "__How to find the optimal number of topics for LDA?__"
   ]
  },
  {
   "cell_type": "markdown",
   "metadata": {},
   "source": [
    "My approach to finding the optimal number of topics is to build many LDA models with different values of number of topics (k) and pick the one that gives the highest coherence value.\n",
    "\n",
    "Choosing a ‘k’ that marks the end of a rapid growth of topic coherence usually offers meaningful and interpretable topics. Picking an even higher value can sometimes provide more granular sub-topics.\n",
    "\n",
    "If you see the same keywords being repeated in multiple topics, it’s probably a sign that the ‘k’ is too large.\n",
    "\n",
    "The compute_coherence_values() (see below) trains multiple LDA models and provides the models and their corresponding coherence scores."
   ]
  },
  {
   "cell_type": "code",
   "execution_count": 31,
   "metadata": {},
   "outputs": [],
   "source": [
    "def compute_coherence_values(dictionary, corpus, texts, limit, start=2, step=3):\n",
    "    \"\"\"\n",
    "    Compute c_v coherence for various number of topics\n",
    "\n",
    "    Parameters:\n",
    "    ----------\n",
    "    dictionary : Gensim dictionary\n",
    "    corpus : Gensim corpus\n",
    "    texts : List of input texts\n",
    "    limit : Max num of topics\n",
    "\n",
    "    Returns:\n",
    "    -------\n",
    "    model_list : List of LDA topic models\n",
    "    coherence_values : Coherence values corresponding to the LDA model with respective number of topics\n",
    "    \"\"\"\n",
    "    coherence_values = []\n",
    "    model_list = []\n",
    "    for num_topics in range(start, limit, step):\n",
    "        model = gensim.models.wrappers.LdaMallet(mallet_path, corpus=corpus, num_topics=num_topics, id2word=id2word)\n",
    "        model_list.append(model)\n",
    "        coherencemodel = CoherenceModel(model=model, texts=texts, dictionary=dictionary, coherence='c_v')\n",
    "        coherence_values.append(coherencemodel.get_coherence())\n",
    "\n",
    "    return model_list, coherence_values"
   ]
  },
  {
   "cell_type": "code",
   "execution_count": 32,
   "metadata": {},
   "outputs": [],
   "source": [
    "# Can take a long time to run.\n",
    "model_list, coherence_values = compute_coherence_values(dictionary=id2word, corpus=corpus, texts=data_lemmatized, start=2, limit=40, step=6)"
   ]
  },
  {
   "cell_type": "code",
   "execution_count": 33,
   "metadata": {},
   "outputs": [
    {
     "data": {
      "image/png": "[encoded data removed]",
      "text/plain": [
       "<Figure size 432x288 with 1 Axes>"
      ]
     },
     "metadata": {
      "needs_background": "light"
     },
     "output_type": "display_data"
    }
   ],
   "source": [
    "# Show graph\n",
    "limit=40; start=2; step=6;\n",
    "x = range(start, limit, step)\n",
    "plt.plot(x, coherence_values)\n",
    "plt.xlabel(\"Num Topics\")\n",
    "plt.ylabel(\"Coherence score\")\n",
    "plt.legend((\"coherence_values\"), loc='best')\n",
    "plt.show()"
   ]
  },
  {
   "cell_type": "code",
   "execution_count": 34,
   "metadata": {},
   "outputs": [
    {
     "name": "stdout",
     "output_type": "stream",
     "text": [
      "Num Topics = 2  has Coherence Value of 0.4315\n",
      "Num Topics = 8  has Coherence Value of 0.4456\n",
      "Num Topics = 14  has Coherence Value of 0.4441\n",
      "Num Topics = 20  has Coherence Value of 0.4191\n",
      "Num Topics = 26  has Coherence Value of 0.4062\n",
      "Num Topics = 32  has Coherence Value of 0.429\n",
      "Num Topics = 38  has Coherence Value of 0.4376\n"
     ]
    }
   ],
   "source": [
    "# Print the coherence scores\n",
    "for m, cv in zip(x, coherence_values):\n",
    "    print(\"Num Topics =\", m, \" has Coherence Value of\", round(cv, 4))"
   ]
  },
  {
   "cell_type": "code",
   "execution_count": 35,
   "metadata": {
    "scrolled": true
   },
   "outputs": [
    {
     "name": "stdout",
     "output_type": "stream",
     "text": [
      "[(0,\n",
      "  '0.188*\"gift\" + 0.124*\"baby\" + 0.042*\"birthday\" + 0.038*\"decor\" + '\n",
      "  '0.035*\"child\" + 0.030*\"christmas\" + 0.030*\"boy\" + 0.024*\"nursery\" + '\n",
      "  '0.021*\"custom\" + 0.018*\"shower\"'),\n",
      " (1,\n",
      "  '0.227*\"doll\" + 0.063*\"quot\" + 0.043*\"handmade\" + 0.040*\"girl\" + '\n",
      "  '0.021*\"dress\" + 0.018*\"inch\" + 0.018*\"fabric\" + 0.017*\"clothe\" + '\n",
      "  '0.016*\"pink\" + 0.016*\"chart\"'),\n",
      " (2,\n",
      "  '0.236*\"toy\" + 0.128*\"vintage\" + 0.085*\"wooden\" + 0.036*\"wood\" + '\n",
      "  '0.022*\"block\" + 0.017*\"car\" + 0.016*\"collectible\" + 0.012*\"barbie\" + '\n",
      "  '0.012*\"natural\" + 0.012*\"plastic\"'),\n",
      " (3,\n",
      "  '0.072*\"set\" + 0.070*\"child\" + 0.064*\"play\" + 0.055*\"feel\" + 0.023*\"mask\" + '\n",
      "  '0.022*\"pillow\" + 0.022*\"pretend\" + 0.021*\"food\" + 0.019*\"party\" + '\n",
      "  '0.019*\"fairy\"'),\n",
      " (4,\n",
      "  '0.152*\"toy\" + 0.078*\"crochet\" + 0.074*\"animal\" + 0.064*\"stuff\" + '\n",
      "  '0.061*\"bear\" + 0.060*\"plush\" + 0.041*\"amigurumi\" + 0.040*\"soft\" + '\n",
      "  '0.035*\"handmade\" + 0.033*\"knit\"'),\n",
      " (5,\n",
      "  '0.111*\"kid\" + 0.099*\"child\" + 0.095*\"puzzle\" + 0.033*\"teepee\" + '\n",
      "  '0.024*\"tent\" + 0.023*\"children\" + 0.021*\"miniature\" + 0.020*\"personalize\" + '\n",
      "  '0.018*\"piece\" + 0.016*\"horse\"'),\n",
      " (6,\n",
      "  '0.035*\"make\" + 0.035*\"hand\" + 0.027*\"blue\" + 0.025*\"white\" + 0.022*\"box\" + '\n",
      "  '0.022*\"red\" + 0.020*\"child\" + 0.015*\"mouse\" + 0.015*\"green\" + 0.014*\"pink\"'),\n",
      " (7,\n",
      "  '0.070*\"game\" + 0.038*\"book\" + 0.036*\"toddler\" + 0.031*\"puppet\" + '\n",
      "  '0.029*\"board\" + 0.027*\"montessori\" + 0.026*\"bag\" + 0.024*\"educational\" + '\n",
      "  '0.021*\"card\" + 0.020*\"activity\"')]\n"
     ]
    }
   ],
   "source": [
    "# Select the model and print the topics\n",
    "optimal_model = model_list[1]\n",
    "model_topics = optimal_model.show_topics(formatted=False)\n",
    "pprint(optimal_model.print_topics(num_words=10))"
   ]
  },
  {
   "cell_type": "markdown",
   "metadata": {},
   "source": [
    "__Finding the dominant topic in each sentence__"
   ]
  },
  {
   "cell_type": "code",
   "execution_count": null,
   "metadata": {
    "scrolled": true
   },
   "outputs": [],
   "source": [
    "def format_topics_sentences(ldamodel=lda_model, corpus=corpus, texts=data):\n",
    "    # Init output\n",
    "    sent_topics_df = pd.DataFrame()\n",
    "\n",
    "    # Get main topic in each document\n",
    "    for i, row in enumerate(ldamodel[corpus]):\n",
    "        row = sorted(row, key=lambda x: (x[1]), reverse=True)\n",
    "        # Get the Dominant topic, Perc Contribution and Keywords for each document\n",
    "        for j, (topic_num, prop_topic) in enumerate(row):\n",
    "            if j == 0:  # => dominant topic\n",
    "                wp = ldamodel.show_topic(topic_num)\n",
    "                topic_keywords = \", \".join([word for word, prop in wp])\n",
    "                sent_topics_df = sent_topics_df.append(pd.Series([int(topic_num), round(prop_topic,4), topic_keywords]), ignore_index=True)\n",
    "            else:\n",
    "                break\n",
    "    sent_topics_df.columns = ['Dominant_Topic', 'Perc_Contribution', 'Topic_Keywords']\n",
    "\n",
    "    # Add original text to the end of the output\n",
    "    contents = pd.Series(texts)\n",
    "    sent_topics_df = pd.concat([sent_topics_df, contents], axis=1)\n",
    "    return(sent_topics_df)\n",
    "\n",
    "\n",
    "df_topic_sents_keywords = format_topics_sentences(ldamodel=optimal_model, corpus=corpus, texts=data)\n",
    "\n",
    "# Format\n",
    "df_dominant_topic = df_topic_sents_keywords.reset_index()\n",
    "df_dominant_topic.columns = ['Document_No', 'Dominant_Topic', 'Topic_Perc_Contrib', 'Keywords', 'Text']\n",
    "\n",
    "# Show\n",
    "df_dominant_topic.head(10)"
   ]
  },
  {
   "cell_type": "code",
   "execution_count": 26,
   "metadata": {},
   "outputs": [
    {
     "data": {
      "text/plain": [
       "(1103665, 5)"
      ]
     },
     "execution_count": 26,
     "metadata": {},
     "output_type": "execute_result"
    }
   ],
   "source": [
    "df_dominant_topic.shape"
   ]
  },
  {
   "cell_type": "markdown",
   "metadata": {},
   "source": [
    "__Find the most representative document for each topic__"
   ]
  },
  {
   "cell_type": "code",
   "execution_count": 28,
   "metadata": {},
   "outputs": [
    {
     "data": {
      "text/html": [
       "<div>\n",
       "<style scoped>\n",
       "    .dataframe tbody tr th:only-of-type {\n",
       "        vertical-align: middle;\n",
       "    }\n",
       "\n",
       "    .dataframe tbody tr th {\n",
       "        vertical-align: top;\n",
       "    }\n",
       "\n",
       "    .dataframe thead th {\n",
       "        text-align: right;\n",
       "    }\n",
       "</style>\n",
       "<table border=\"1\" class=\"dataframe\">\n",
       "  <thead>\n",
       "    <tr style=\"text-align: right;\">\n",
       "      <th></th>\n",
       "      <th>Topic_Num</th>\n",
       "      <th>Topic_Perc_Contrib</th>\n",
       "      <th>Keywords</th>\n",
       "      <th>Text</th>\n",
       "    </tr>\n",
       "  </thead>\n",
       "  <tbody>\n",
       "    <tr>\n",
       "      <th>0</th>\n",
       "      <td>0.0</td>\n",
       "      <td>0.1791</td>\n",
       "      <td>farmer, price, china, deal, industry, company,...</td>\n",
       "      <td>glyphosate herbicide crops grain weeds livesto...</td>\n",
       "    </tr>\n",
       "    <tr>\n",
       "      <th>1</th>\n",
       "      <td>1.0</td>\n",
       "      <td>0.1518</td>\n",
       "      <td>hospital, boost, health, service, fund, govt, ...</td>\n",
       "      <td>hospitals to receive extra emergency ward funding</td>\n",
       "    </tr>\n",
       "    <tr>\n",
       "      <th>2</th>\n",
       "      <td>2.0</td>\n",
       "      <td>0.1647</td>\n",
       "      <td>plan, govt, power, nt, mine, vic, tas, decisio...</td>\n",
       "      <td>springsure creek coal mine plan gets environme...</td>\n",
       "    </tr>\n",
       "    <tr>\n",
       "      <th>3</th>\n",
       "      <td>3.0</td>\n",
       "      <td>0.1667</td>\n",
       "      <td>man, charge, court, face, murder, jail, accuse...</td>\n",
       "      <td>jury acquits man accused of ivy nightclub rape</td>\n",
       "    </tr>\n",
       "    <tr>\n",
       "      <th>4</th>\n",
       "      <td>4.0</td>\n",
       "      <td>0.1647</td>\n",
       "      <td>fire, warn, home, fear, house, spark, bushfire...</td>\n",
       "      <td>fire retardant foam engulfs californian airpor...</td>\n",
       "    </tr>\n",
       "  </tbody>\n",
       "</table>\n",
       "</div>"
      ],
      "text/plain": [
       "   Topic_Num  Topic_Perc_Contrib  \\\n",
       "0        0.0              0.1791   \n",
       "1        1.0              0.1518   \n",
       "2        2.0              0.1647   \n",
       "3        3.0              0.1667   \n",
       "4        4.0              0.1647   \n",
       "\n",
       "                                            Keywords  \\\n",
       "0  farmer, price, china, deal, industry, company,...   \n",
       "1  hospital, boost, health, service, fund, govt, ...   \n",
       "2  plan, govt, power, nt, mine, vic, tas, decisio...   \n",
       "3  man, charge, court, face, murder, jail, accuse...   \n",
       "4  fire, warn, home, fear, house, spark, bushfire...   \n",
       "\n",
       "                                                Text  \n",
       "0  glyphosate herbicide crops grain weeds livesto...  \n",
       "1  hospitals to receive extra emergency ward funding  \n",
       "2  springsure creek coal mine plan gets environme...  \n",
       "3     jury acquits man accused of ivy nightclub rape  \n",
       "4  fire retardant foam engulfs californian airpor...  "
      ]
     },
     "execution_count": 28,
     "metadata": {},
     "output_type": "execute_result"
    }
   ],
   "source": [
    "# Group top 5 sentences under each topic\n",
    "sent_topics_sorteddf_mallet = pd.DataFrame()\n",
    "\n",
    "sent_topics_outdf_grpd = df_topic_sents_keywords.groupby('Dominant_Topic')\n",
    "\n",
    "for i, grp in sent_topics_outdf_grpd:\n",
    "    sent_topics_sorteddf_mallet = pd.concat([sent_topics_sorteddf_mallet, \n",
    "                                             grp.sort_values(['Perc_Contribution'], ascending=[0]).head(1)], \n",
    "                                            axis=0)\n",
    "\n",
    "# Reset Index    \n",
    "sent_topics_sorteddf_mallet.reset_index(drop=True, inplace=True)\n",
    "\n",
    "# Format\n",
    "sent_topics_sorteddf_mallet.columns = ['Topic_Num', \"Topic_Perc_Contrib\", \"Keywords\", \"Text\"]\n",
    "\n",
    "# Show\n",
    "sent_topics_sorteddf_mallet.head()"
   ]
  },
  {
   "cell_type": "markdown",
   "metadata": {},
   "source": [
    "__Topic distribution across documents__"
   ]
  },
  {
   "cell_type": "code",
   "execution_count": 29,
   "metadata": {},
   "outputs": [
    {
     "data": {
      "text/html": [
       "<div>\n",
       "<style scoped>\n",
       "    .dataframe tbody tr th:only-of-type {\n",
       "        vertical-align: middle;\n",
       "    }\n",
       "\n",
       "    .dataframe tbody tr th {\n",
       "        vertical-align: top;\n",
       "    }\n",
       "\n",
       "    .dataframe thead th {\n",
       "        text-align: right;\n",
       "    }\n",
       "</style>\n",
       "<table border=\"1\" class=\"dataframe\">\n",
       "  <thead>\n",
       "    <tr style=\"text-align: right;\">\n",
       "      <th></th>\n",
       "      <th>Dominant_Topic</th>\n",
       "      <th>Topic_Keywords</th>\n",
       "      <th>Num_Documents</th>\n",
       "      <th>Perc_Documents</th>\n",
       "    </tr>\n",
       "  </thead>\n",
       "  <tbody>\n",
       "    <tr>\n",
       "      <th>0</th>\n",
       "      <td>2.0</td>\n",
       "      <td>plan, govt, power, nt, mine, vic, tas, decisio...</td>\n",
       "      <td>80643.0</td>\n",
       "      <td>0.0731</td>\n",
       "    </tr>\n",
       "    <tr>\n",
       "      <th>1</th>\n",
       "      <td>4.0</td>\n",
       "      <td>fire, warn, home, fear, house, spark, bushfire...</td>\n",
       "      <td>71120.0</td>\n",
       "      <td>0.0644</td>\n",
       "    </tr>\n",
       "    <tr>\n",
       "      <th>2</th>\n",
       "      <td>1.0</td>\n",
       "      <td>hospital, boost, health, service, fund, govt, ...</td>\n",
       "      <td>62728.0</td>\n",
       "      <td>0.0568</td>\n",
       "    </tr>\n",
       "    <tr>\n",
       "      <th>3</th>\n",
       "      <td>11.0</td>\n",
       "      <td>rise, worker, job, union, pay, cut, rate, offe...</td>\n",
       "      <td>78086.0</td>\n",
       "      <td>0.0708</td>\n",
       "    </tr>\n",
       "    <tr>\n",
       "      <th>4</th>\n",
       "      <td>4.0</td>\n",
       "      <td>fire, warn, home, fear, house, spark, bushfire...</td>\n",
       "      <td>55763.0</td>\n",
       "      <td>0.0505</td>\n",
       "    </tr>\n",
       "  </tbody>\n",
       "</table>\n",
       "</div>"
      ],
      "text/plain": [
       "   Dominant_Topic                                     Topic_Keywords  \\\n",
       "0             2.0  plan, govt, power, nt, mine, vic, tas, decisio...   \n",
       "1             4.0  fire, warn, home, fear, house, spark, bushfire...   \n",
       "2             1.0  hospital, boost, health, service, fund, govt, ...   \n",
       "3            11.0  rise, worker, job, union, pay, cut, rate, offe...   \n",
       "4             4.0  fire, warn, home, fear, house, spark, bushfire...   \n",
       "\n",
       "   Num_Documents  Perc_Documents  \n",
       "0        80643.0          0.0731  \n",
       "1        71120.0          0.0644  \n",
       "2        62728.0          0.0568  \n",
       "3        78086.0          0.0708  \n",
       "4        55763.0          0.0505  "
      ]
     },
     "execution_count": 29,
     "metadata": {},
     "output_type": "execute_result"
    }
   ],
   "source": [
    "# Number of Documents for Each Topic\n",
    "topic_counts = df_topic_sents_keywords['Dominant_Topic'].value_counts()\n",
    "\n",
    "# Percentage of Documents for Each Topic\n",
    "topic_contribution = round(topic_counts/topic_counts.sum(), 4)\n",
    "\n",
    "# Topic Number and Keywords\n",
    "topic_num_keywords = df_topic_sents_keywords[['Dominant_Topic', 'Topic_Keywords']]\n",
    "\n",
    "# Concatenate Column wise\n",
    "df_dominant_topics = pd.concat([topic_num_keywords, topic_counts, topic_contribution], axis=1)\n",
    "\n",
    "# Change Column names\n",
    "df_dominant_topics.columns = ['Dominant_Topic', 'Topic_Keywords', 'Num_Documents', 'Perc_Documents']\n",
    "\n",
    "# Show\n",
    "df_dominant_topics.head()"
   ]
  },
  {
   "cell_type": "code",
   "execution_count": null,
   "metadata": {},
   "outputs": [],
   "source": []
  },
  {
   "cell_type": "code",
   "execution_count": null,
   "metadata": {},
   "outputs": [],
   "source": []
  }
 ],
 "metadata": {
  "kernelspec": {
   "display_name": "Python 3",
   "language": "python",
   "name": "python3"
  },
  "language_info": {
   "codemirror_mode": {
    "name": "ipython",
    "version": 3
   },
   "file_extension": ".py",
   "mimetype": "text/x-python",
   "name": "python",
   "nbconvert_exporter": "python",
   "pygments_lexer": "ipython3",
   "version": "3.7.4"
  }
 },
 "nbformat": 4,
 "nbformat_minor": 2
}

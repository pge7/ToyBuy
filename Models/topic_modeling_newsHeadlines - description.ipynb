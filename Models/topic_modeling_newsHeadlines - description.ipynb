{
 "cells": [
  {
   "cell_type": "markdown",
   "metadata": {},
   "source": [
    "# LDA TOPIC MODELING \n",
    "\n",
    "This notebook applies LDA modeling to a dataset from a Kaggle dataset of news headlines:\n",
    "\n",
    "https://www.kaggle.com/therohk/million-headlines\n",
    "\n",
    "using GENSIM toolkit:\n",
    "\n",
    "https://radimrehurek.com/gensim/\n",
    "\n",
    "and following a really useful tutorial from machinelearningplus website:\n",
    "\n",
    "https://www.machinelearningplus.com/nlp/topic-modeling-gensim-python/\n",
    "\n"
   ]
  },
  {
   "cell_type": "markdown",
   "metadata": {},
   "source": [
    "__Steps__\n",
    "\n",
    "- Text porcessing\n",
    "- Bulding the model"
   ]
  },
  {
   "cell_type": "markdown",
   "metadata": {},
   "source": [
    "__Other interesting links:__\n",
    "\n",
    "- https://en.wikipedia.org/wiki/Latent_Dirichlet_allocation\n",
    "\n",
    "- https://www.analyticsvidhya.com/blog/2016/08/beginners-guide-to-topic-modeling-in-python/\n",
    "\n",
    "- https://medium.com/@lettier/how-does-lda-work-ill-explain-using-emoji-108abf40fa7d\n",
    "\n",
    "- https://stackoverflow.com/questions/20984841/topic-distribution-how-do-we-see-which-document-belong-to-which-topic-after-doi\n",
    "\n",
    "- https://datascienceplus.com/evaluation-of-topic-modeling-topic-coherence/"
   ]
  },
  {
   "cell_type": "markdown",
   "metadata": {},
   "source": [
    "__Required Libraries__"
   ]
  },
  {
   "cell_type": "code",
   "execution_count": 1,
   "metadata": {},
   "outputs": [],
   "source": [
    "import pandas as pd\n",
    "import numpy as np\n",
    "\n",
    "\n",
    "import string\n",
    "import re\n",
    "from pprint import pprint\n",
    "from bs4 import BeautifulSoup\n",
    "\n",
    "# NLTK \n",
    "from nltk.corpus import stopwords\n",
    "from nltk.stem.wordnet import WordNetLemmatizer\n",
    "from nltk.corpus import stopwords\n",
    "stop_words = stopwords.words('english') #this depends on each language\n",
    "\n",
    "# Gensim\n",
    "import gensim\n",
    "import gensim.corpora as corpora\n",
    "from gensim.utils import simple_preprocess\n",
    "from gensim.models import CoherenceModel\n",
    "\n",
    "# spacy for lemmatization\n",
    "import spacy\n",
    "\n",
    "# Plotting tools\n",
    "import pyLDAvis\n",
    "import pyLDAvis.gensim  \n",
    "import matplotlib.pyplot as plt\n",
    "%matplotlib inline\n",
    "\n",
    "# Enable logging for gensim - optional\n",
    "import logging\n",
    "logging.basicConfig(format='%(asctime)s : %(levelname)s : %(message)s', level=logging.ERROR)\n",
    "\n",
    "import warnings\n",
    "warnings.filterwarnings(\"ignore\",category=DeprecationWarning)\n",
    "\n",
    "import html\n",
    "\n",
    "import ast\n",
    "\n",
    "from langdetect import detect"
   ]
  },
  {
   "cell_type": "markdown",
   "metadata": {},
   "source": [
    "__Loading data__"
   ]
  },
  {
   "cell_type": "code",
   "execution_count": 5,
   "metadata": {},
   "outputs": [],
   "source": [
    "df = pd.read_csv(\"./listing_merged2.csv\", index_col = 0) "
   ]
  },
  {
   "cell_type": "code",
   "execution_count": 6,
   "metadata": {},
   "outputs": [
    {
     "data": {
      "text/plain": [
       "75979"
      ]
     },
     "execution_count": 6,
     "metadata": {},
     "output_type": "execute_result"
    }
   ],
   "source": [
    "df.shape[0]"
   ]
  },
  {
   "cell_type": "code",
   "execution_count": 7,
   "metadata": {},
   "outputs": [
    {
     "data": {
      "text/html": [
       "<div>\n",
       "<style scoped>\n",
       "    .dataframe tbody tr th:only-of-type {\n",
       "        vertical-align: middle;\n",
       "    }\n",
       "\n",
       "    .dataframe tbody tr th {\n",
       "        vertical-align: top;\n",
       "    }\n",
       "\n",
       "    .dataframe thead th {\n",
       "        text-align: right;\n",
       "    }\n",
       "</style>\n",
       "<table border=\"1\" class=\"dataframe\">\n",
       "  <thead>\n",
       "    <tr style=\"text-align: right;\">\n",
       "      <th></th>\n",
       "      <th>category_id</th>\n",
       "      <th>listing_id</th>\n",
       "      <th>title</th>\n",
       "      <th>description</th>\n",
       "      <th>user_id</th>\n",
       "      <th>tags</th>\n",
       "      <th>price</th>\n",
       "      <th>url</th>\n",
       "      <th>img1</th>\n",
       "    </tr>\n",
       "  </thead>\n",
       "  <tbody>\n",
       "    <tr>\n",
       "      <td>0</td>\n",
       "      <td>69150393.0</td>\n",
       "      <td>663885606</td>\n",
       "      <td>St. Martin de Porres Dominican saint crochet a...</td>\n",
       "      <td>Handmade crochet doll of saint Martin de Porre...</td>\n",
       "      <td>10324319.0</td>\n",
       "      <td>['Catholic saint', 'crochet doll', 'catholic b...</td>\n",
       "      <td>18.0</td>\n",
       "      <td>https://www.etsy.com/listing/663885606/st-mart...</td>\n",
       "      <td>https://i.etsystatic.com/5930941/c/699/555/0/5...</td>\n",
       "    </tr>\n",
       "  </tbody>\n",
       "</table>\n",
       "</div>"
      ],
      "text/plain": [
       "   category_id  listing_id                                              title  \\\n",
       "0   69150393.0   663885606  St. Martin de Porres Dominican saint crochet a...   \n",
       "\n",
       "                                         description     user_id  \\\n",
       "0  Handmade crochet doll of saint Martin de Porre...  10324319.0   \n",
       "\n",
       "                                                tags  price  \\\n",
       "0  ['Catholic saint', 'crochet doll', 'catholic b...   18.0   \n",
       "\n",
       "                                                 url  \\\n",
       "0  https://www.etsy.com/listing/663885606/st-mart...   \n",
       "\n",
       "                                                img1  \n",
       "0  https://i.etsystatic.com/5930941/c/699/555/0/5...  "
      ]
     },
     "execution_count": 7,
     "metadata": {},
     "output_type": "execute_result"
    }
   ],
   "source": [
    "df.head(1)"
   ]
  },
  {
   "cell_type": "code",
   "execution_count": 8,
   "metadata": {},
   "outputs": [],
   "source": [
    "data = df[['listing_id', 'description', 'title', 'tags', 'url', 'img1']]"
   ]
  },
  {
   "cell_type": "code",
   "execution_count": 9,
   "metadata": {},
   "outputs": [],
   "source": [
    "data = data.dropna()"
   ]
  },
  {
   "cell_type": "code",
   "execution_count": 10,
   "metadata": {},
   "outputs": [
    {
     "data": {
      "text/plain": [
       "(75979, 6)"
      ]
     },
     "execution_count": 10,
     "metadata": {},
     "output_type": "execute_result"
    }
   ],
   "source": [
    "data.shape"
   ]
  },
  {
   "cell_type": "code",
   "execution_count": 11,
   "metadata": {},
   "outputs": [
    {
     "data": {
      "text/plain": [
       "Index(['listing_id', 'description', 'title', 'tags', 'url', 'img1'], dtype='object')"
      ]
     },
     "execution_count": 11,
     "metadata": {},
     "output_type": "execute_result"
    }
   ],
   "source": [
    "data.columns"
   ]
  },
  {
   "cell_type": "code",
   "execution_count": 12,
   "metadata": {},
   "outputs": [
    {
     "data": {
      "text/plain": [
       "listing_id     0\n",
       "description    0\n",
       "title          0\n",
       "tags           0\n",
       "url            0\n",
       "img1           0\n",
       "dtype: int64"
      ]
     },
     "execution_count": 12,
     "metadata": {},
     "output_type": "execute_result"
    }
   ],
   "source": [
    "data.isnull().sum(axis = 0)"
   ]
  },
  {
   "cell_type": "code",
   "execution_count": 13,
   "metadata": {},
   "outputs": [],
   "source": [
    "def escape(texts): \n",
    "    return [html.unescape(str(text)) for text in texts]"
   ]
  },
  {
   "cell_type": "code",
   "execution_count": 14,
   "metadata": {},
   "outputs": [],
   "source": [
    "data.description = data.description.apply(lambda x: html.unescape(x))\n",
    "data.title = data.title.apply(lambda x: html.unescape(x))\n",
    "data.tags = data.tags.apply(lambda x: ast.literal_eval(x))                                                                                               "
   ]
  },
  {
   "cell_type": "code",
   "execution_count": 15,
   "metadata": {},
   "outputs": [],
   "source": [
    "#flatten list\n",
    "data.tags = [','.join(x) for x in data.tags]"
   ]
  },
  {
   "cell_type": "code",
   "execution_count": 16,
   "metadata": {},
   "outputs": [],
   "source": [
    "data.tags = data.tags.apply(lambda x: html.unescape(x))"
   ]
  },
  {
   "cell_type": "code",
   "execution_count": 17,
   "metadata": {},
   "outputs": [],
   "source": [
    "mask = data.tags.apply(lambda x: len(x) > 3)\n",
    "data = data.loc[mask, ]"
   ]
  },
  {
   "cell_type": "code",
   "execution_count": 885,
   "metadata": {},
   "outputs": [],
   "source": [
    "# try not use filter of en\n",
    "#mask1 = data['tags'].apply(lambda x: detect(x) == 'en')"
   ]
  },
  {
   "cell_type": "code",
   "execution_count": 886,
   "metadata": {},
   "outputs": [
    {
     "data": {
      "text/plain": [
       "0        True\n",
       "1        True\n",
       "2        True\n",
       "3        True\n",
       "4        True\n",
       "         ... \n",
       "75974    True\n",
       "75975    True\n",
       "75976    True\n",
       "75977    True\n",
       "75978    True\n",
       "Name: tags, Length: 75212, dtype: bool"
      ]
     },
     "execution_count": 886,
     "metadata": {},
     "output_type": "execute_result"
    }
   ],
   "source": [
    "#mask1"
   ]
  },
  {
   "cell_type": "code",
   "execution_count": 18,
   "metadata": {},
   "outputs": [],
   "source": [
    "mk = data.tags.apply(lambda x: \"ROSENKNOPF,PUPPENKÜCHE\" not in x)"
   ]
  },
  {
   "cell_type": "code",
   "execution_count": 19,
   "metadata": {},
   "outputs": [
    {
     "data": {
      "text/plain": [
       "'en'"
      ]
     },
     "execution_count": 19,
     "metadata": {},
     "output_type": "execute_result"
    }
   ],
   "source": [
    "detect(data.loc[mk, 'tags'].iloc[0])"
   ]
  },
  {
   "cell_type": "code",
   "execution_count": 929,
   "metadata": {},
   "outputs": [],
   "source": [
    "#data = data.loc[mask1, ]\n",
    "# save data to \n",
    "#data_en = data"
   ]
  },
  {
   "cell_type": "code",
   "execution_count": 20,
   "metadata": {},
   "outputs": [
    {
     "data": {
      "text/plain": [
       "(75212, 6)"
      ]
     },
     "execution_count": 20,
     "metadata": {},
     "output_type": "execute_result"
    }
   ],
   "source": [
    "data.shape"
   ]
  },
  {
   "cell_type": "code",
   "execution_count": 21,
   "metadata": {},
   "outputs": [],
   "source": [
    "data = data.loc[mk, ] #fine remove german"
   ]
  },
  {
   "cell_type": "code",
   "execution_count": 22,
   "metadata": {},
   "outputs": [],
   "source": [
    "ds = data['description'].values.tolist()\n",
    "tl = data['title'].values.tolist()\n",
    "tag = data['tags'].values.tolist()"
   ]
  },
  {
   "cell_type": "code",
   "execution_count": 23,
   "metadata": {
    "scrolled": true
   },
   "outputs": [],
   "source": [
    "def remove_html(texts):\n",
    "    return [ re.sub(r\"https?:\\S+\", \"\", str(text)) for text in texts]\n",
    "\n",
    "ds = remove_html(ds)\n",
    "tl = remove_html(tl)\n",
    "tag = remove_html(tag)"
   ]
  },
  {
   "cell_type": "code",
   "execution_count": 25,
   "metadata": {},
   "outputs": [
    {
     "name": "stdout",
     "output_type": "stream",
     "text": [
      "['Knitted kids Toy Umigurumi Deer - Knit baby toys - Cute animals- new year- '\n",
      " 'Photo shoot props- Newborn photography accessories- READY TO SHIP']\n"
     ]
    }
   ],
   "source": [
    "pprint(tl[1:2])"
   ]
  },
  {
   "cell_type": "markdown",
   "metadata": {},
   "source": [
    "__Tokenize words and Clean-up text__"
   ]
  },
  {
   "cell_type": "code",
   "execution_count": 26,
   "metadata": {},
   "outputs": [
    {
     "name": "stdout",
     "output_type": "stream",
     "text": [
      "[['handmade', 'crochet', 'doll', 'of', 'saint', 'martin', 'de', 'porres', 'this', 'doll', 'makes', 'great', 'baby', 'shower', 'or', 'baptism', 'gift', 'all', 'details', 'including', 'the', 'eyes', 'and', 'the', 'mouse', 'at', 'his', 'feet', 'are', 'embroidered', 'making', 'this', 'doll', 'safe', 'for', 'babies', 'and', 'toddlers', 'the', 'materials', 'used', 'are', 'sturdy', 'medium', 'weight', 'acrylic', 'yarn', 'and', 'polyester', 'stuffing', 'the', 'doll', 'cannot', 'stand', 'on', 'its', 'own', 'but', 'can', 'be', 'propped', 'up', 'if', 'desired', 'saint', 'martin', 'de', 'porres', 'is', 'the', 'patron', 'saint', 'of', 'mixed', 'race', 'barbers', 'public', 'health', 'workers', 'and', 'innkeepers', 'size', 'tall']]\n",
      "[['st', 'martin', 'de', 'porres', 'dominican', 'saint', 'crochet', 'amigurumi', 'kokeshi', 'doll', 'catholic', 'kids', 'gift', 'easter', 'basket', 'stuffer', 'baby', 'toy', 'nursery', 'decor']]\n",
      "[['catholic', 'saint', 'crochet', 'doll', 'catholic', 'baby', 'shower', 'catholic', 'baptism', 'white', 'male', 'saint', 'baby', 'boy', 'child', 'safe', 'soft', 'toy', 'softie', 'boy', 'saint']]\n"
     ]
    }
   ],
   "source": [
    "def sent_to_words(sentences):\n",
    "    for sentence in sentences:\n",
    "        yield(gensim.utils.simple_preprocess(str(sentence), deacc=True))\n",
    "ds_words = list(sent_to_words(ds))\n",
    "tl_words = list(sent_to_words(tl))\n",
    "tag_words = list(sent_to_words(tag))\n",
    "print(ds_words[:1])\n",
    "print(tl_words[:1])\n",
    "print(tag_words[:1])"
   ]
  },
  {
   "cell_type": "code",
   "execution_count": 27,
   "metadata": {},
   "outputs": [],
   "source": [
    "stop_words = stopwords.words('english')\n",
    "stop_words.extend(['toy', 'children', 'child', 'kid'])"
   ]
  },
  {
   "cell_type": "code",
   "execution_count": 28,
   "metadata": {},
   "outputs": [
    {
     "data": {
      "text/plain": [
       "['i',\n",
       " 'me',\n",
       " 'my',\n",
       " 'myself',\n",
       " 'we',\n",
       " 'our',\n",
       " 'ours',\n",
       " 'ourselves',\n",
       " 'you',\n",
       " \"you're\",\n",
       " \"you've\",\n",
       " \"you'll\",\n",
       " \"you'd\",\n",
       " 'your',\n",
       " 'yours',\n",
       " 'yourself',\n",
       " 'yourselves',\n",
       " 'he',\n",
       " 'him',\n",
       " 'his',\n",
       " 'himself',\n",
       " 'she',\n",
       " \"she's\",\n",
       " 'her',\n",
       " 'hers',\n",
       " 'herself',\n",
       " 'it',\n",
       " \"it's\",\n",
       " 'its',\n",
       " 'itself',\n",
       " 'they',\n",
       " 'them',\n",
       " 'their',\n",
       " 'theirs',\n",
       " 'themselves',\n",
       " 'what',\n",
       " 'which',\n",
       " 'who',\n",
       " 'whom',\n",
       " 'this',\n",
       " 'that',\n",
       " \"that'll\",\n",
       " 'these',\n",
       " 'those',\n",
       " 'am',\n",
       " 'is',\n",
       " 'are',\n",
       " 'was',\n",
       " 'were',\n",
       " 'be',\n",
       " 'been',\n",
       " 'being',\n",
       " 'have',\n",
       " 'has',\n",
       " 'had',\n",
       " 'having',\n",
       " 'do',\n",
       " 'does',\n",
       " 'did',\n",
       " 'doing',\n",
       " 'a',\n",
       " 'an',\n",
       " 'the',\n",
       " 'and',\n",
       " 'but',\n",
       " 'if',\n",
       " 'or',\n",
       " 'because',\n",
       " 'as',\n",
       " 'until',\n",
       " 'while',\n",
       " 'of',\n",
       " 'at',\n",
       " 'by',\n",
       " 'for',\n",
       " 'with',\n",
       " 'about',\n",
       " 'against',\n",
       " 'between',\n",
       " 'into',\n",
       " 'through',\n",
       " 'during',\n",
       " 'before',\n",
       " 'after',\n",
       " 'above',\n",
       " 'below',\n",
       " 'to',\n",
       " 'from',\n",
       " 'up',\n",
       " 'down',\n",
       " 'in',\n",
       " 'out',\n",
       " 'on',\n",
       " 'off',\n",
       " 'over',\n",
       " 'under',\n",
       " 'again',\n",
       " 'further',\n",
       " 'then',\n",
       " 'once',\n",
       " 'here',\n",
       " 'there',\n",
       " 'when',\n",
       " 'where',\n",
       " 'why',\n",
       " 'how',\n",
       " 'all',\n",
       " 'any',\n",
       " 'both',\n",
       " 'each',\n",
       " 'few',\n",
       " 'more',\n",
       " 'most',\n",
       " 'other',\n",
       " 'some',\n",
       " 'such',\n",
       " 'no',\n",
       " 'nor',\n",
       " 'not',\n",
       " 'only',\n",
       " 'own',\n",
       " 'same',\n",
       " 'so',\n",
       " 'than',\n",
       " 'too',\n",
       " 'very',\n",
       " 's',\n",
       " 't',\n",
       " 'can',\n",
       " 'will',\n",
       " 'just',\n",
       " 'don',\n",
       " \"don't\",\n",
       " 'should',\n",
       " \"should've\",\n",
       " 'now',\n",
       " 'd',\n",
       " 'll',\n",
       " 'm',\n",
       " 'o',\n",
       " 're',\n",
       " 've',\n",
       " 'y',\n",
       " 'ain',\n",
       " 'aren',\n",
       " \"aren't\",\n",
       " 'couldn',\n",
       " \"couldn't\",\n",
       " 'didn',\n",
       " \"didn't\",\n",
       " 'doesn',\n",
       " \"doesn't\",\n",
       " 'hadn',\n",
       " \"hadn't\",\n",
       " 'hasn',\n",
       " \"hasn't\",\n",
       " 'haven',\n",
       " \"haven't\",\n",
       " 'isn',\n",
       " \"isn't\",\n",
       " 'ma',\n",
       " 'mightn',\n",
       " \"mightn't\",\n",
       " 'mustn',\n",
       " \"mustn't\",\n",
       " 'needn',\n",
       " \"needn't\",\n",
       " 'shan',\n",
       " \"shan't\",\n",
       " 'shouldn',\n",
       " \"shouldn't\",\n",
       " 'wasn',\n",
       " \"wasn't\",\n",
       " 'weren',\n",
       " \"weren't\",\n",
       " 'won',\n",
       " \"won't\",\n",
       " 'wouldn',\n",
       " \"wouldn't\",\n",
       " 'toy',\n",
       " 'children',\n",
       " 'child',\n",
       " 'kid']"
      ]
     },
     "execution_count": 28,
     "metadata": {},
     "output_type": "execute_result"
    }
   ],
   "source": [
    "stop_words"
   ]
  },
  {
   "cell_type": "markdown",
   "metadata": {},
   "source": [
    "__Bigrams & Trigrams__\n",
    "\n",
    "Bigrams are two words frequently occurring together in the document. Trigrams are 3 words frequently occurring."
   ]
  },
  {
   "cell_type": "code",
   "execution_count": 30,
   "metadata": {},
   "outputs": [
    {
     "name": "stdout",
     "output_type": "stream",
     "text": [
      "['handmade', 'crochet', 'doll', 'of', 'saint', 'martin_de', 'porres', 'this', 'doll', 'makes', 'great', 'baby', 'shower', 'or', 'baptism', 'gift', 'all', 'details', 'including', 'the', 'eyes', 'and', 'the', 'mouse', 'at', 'his', 'feet', 'are', 'embroidered', 'making', 'this', 'doll', 'safe', 'for', 'babies', 'and', 'toddlers', 'the', 'materials', 'used', 'are', 'sturdy', 'medium', 'weight', 'acrylic', 'yarn', 'and', 'polyester', 'stuffing', 'the', 'doll', 'cannot', 'stand', 'on', 'its', 'own', 'but', 'can', 'be', 'propped', 'up', 'if', 'desired', 'saint', 'martin_de', 'porres', 'is', 'the', 'patron_saint', 'of', 'mixed', 'race', 'barbers', 'public', 'health_workers', 'and', 'innkeepers', 'size', 'tall']\n",
      "['st', 'martin', 'de', 'porres', 'dominican', 'saint', 'crochet', 'amigurumi', 'kokeshi', 'doll', 'catholic', 'kids', 'gift', 'easter', 'basket_stuffer', 'baby', 'toy', 'nursery', 'decor']\n",
      "['catholic', 'saint', 'crochet', 'doll', 'catholic', 'baby', 'shower', 'catholic', 'baptism', 'white', 'male', 'saint', 'baby', 'boy', 'child', 'safe', 'soft', 'toy', 'softie', 'boy', 'saint']\n"
     ]
    }
   ],
   "source": [
    "def process_words(data_words):   \n",
    "    # Build the bigram and trigram models\n",
    "    bigram = gensim.models.Phrases(data_words, min_count=5, threshold=100) # higher threshold fewer phrases.\n",
    "    trigram = gensim.models.Phrases(bigram[data_words], threshold=100)  \n",
    "\n",
    "    # Faster way to get a sentence clubbed as a trigram/bigram\n",
    "    bigram_mod = gensim.models.phrases.Phraser(bigram)\n",
    "    trigram_mod = gensim.models.phrases.Phraser(trigram)\n",
    "\n",
    "    # See trigram example\n",
    "    print(trigram_mod[bigram_mod[data_words[0]]])\n",
    "\n",
    "\n",
    "    #Remove Stopwords, Make Bigrams and Lemmatize\n",
    "    # Define functions for stopwords, bigrams, trigrams and lemmatization\n",
    "    \n",
    "\n",
    "    def remove_stopwords(texts):\n",
    "        return [[word for word in simple_preprocess(str(doc)) if word not in stop_words] for doc in texts]\n",
    "\n",
    "    def make_bigrams(texts):\n",
    "        return [bigram_mod[doc] for doc in texts]\n",
    "\n",
    "    def make_trigrams(texts):\n",
    "        return [trigram_mod[bigram_mod[doc]] for doc in texts]\n",
    "\n",
    "    def lemmatization(texts, allowed_postags=['NOUN', 'ADJ', 'VERB', 'ADV']):\n",
    "        \"\"\"https://spacy.io/api/annotation\"\"\"\n",
    "        texts_out = []\n",
    "        for sent in texts:\n",
    "            doc = nlp(\" \".join(sent)) \n",
    "            texts_out.append([token.lemma_ for token in doc if token.pos_ in allowed_postags])\n",
    "        return texts_out\n",
    "    \n",
    "    # Remove Stop Words\n",
    "    data_words_nostops = remove_stopwords(data_words)\n",
    "\n",
    "    # Form Bigrams\n",
    "    data_words_bigrams = make_bigrams(data_words_nostops)\n",
    "\n",
    "    # Initialize spacy 'es' model, keeping only tagger component (for efficiency)\n",
    "    # python3 -m spacy download es\n",
    "    nlp = spacy.load('en', disable=['parser', 'ner'])\n",
    "\n",
    "    # Do lemmatization keeping only noun, adj, vb, adv\n",
    "    data_lemmatized = lemmatization(data_words_bigrams, allowed_postags=['NOUN', 'ADJ', 'VERB', 'ADV'])\n",
    "\n",
    "    # Create Dictionary\n",
    "    id2word = corpora.Dictionary(data_lemmatized)\n",
    "\n",
    "    # Create Corpus\n",
    "    texts = data_lemmatized\n",
    "\n",
    "    # Term Document Frequency\n",
    "    corpus = [id2word.doc2bow(text) for text in texts]\n",
    "    \n",
    "    return data_lemmatized, corpus, id2word\n",
    "\n",
    "ds_data_lemmatized, ds_corpus, ds_id2word = process_words(ds_words)\n",
    "tl_data_lemmatized, tl_corpus, tl_id2word = process_words(tl_words)\n",
    "tag_data_lemmatized, tag_corpus, tag_id2word = process_words(tag_words)"
   ]
  },
  {
   "cell_type": "markdown",
   "metadata": {},
   "source": [
    "__Create the Dictionary and Corpus needed for Topic Modeling__"
   ]
  },
  {
   "cell_type": "markdown",
   "metadata": {},
   "source": [
    "If you want to see what word a given id corresponds to, pass the id as a key to the dictionary"
   ]
  },
  {
   "cell_type": "code",
   "execution_count": 836,
   "metadata": {},
   "outputs": [
    {
     "data": {
      "text/plain": [
       "'acrylic'"
      ]
     },
     "execution_count": 836,
     "metadata": {},
     "output_type": "execute_result"
    }
   ],
   "source": [
    "id2word[0]"
   ]
  },
  {
   "cell_type": "markdown",
   "metadata": {},
   "source": [
    "Or, you can see a human-readable form of the corpus itself."
   ]
  },
  {
   "cell_type": "code",
   "execution_count": null,
   "metadata": {},
   "outputs": [],
   "source": [
    "# Human readable format of corpus (term-frequency)\n",
    "[[(id2word[id], freq) for id, freq in cp] for cp in corpus[:2]]"
   ]
  },
  {
   "cell_type": "markdown",
   "metadata": {},
   "source": [
    "__Building the Topic Model__"
   ]
  },
  {
   "cell_type": "code",
   "execution_count": 308,
   "metadata": {},
   "outputs": [],
   "source": [
    "# Build LDA model\n",
    "def build_model(corpus, id2word, num_topics):\n",
    "    lda_model = gensim.models.ldamodel.LdaModel(corpus=corpus,\n",
    "                                               id2word=id2word,\n",
    "                                               num_topics=20, \n",
    "                                               random_state=100,\n",
    "                                               update_every=1,\n",
    "                                               chunksize=100,\n",
    "                                               passes=4,\n",
    "                                               alpha='auto',\n",
    "                                               per_word_topics=True)\n",
    "    return lda_model\n",
    "\n",
    "#model_ds_20 = build_model(ds_corpus, ds_id2word, 20)\n",
    "# model_tl_20 = build_model(tl_corpus, tl_id2word, 20)\n",
    "# model_tag_20 = build_model(tag_corpus, tag_id2word, 20)\n",
    "\n",
    "#ds_lda_model = gensim.models.LdaMulticore(ds_corpus, num_topics=3, id2word=ds_id2word, eval_every =1, passes=4, workers=5)\n",
    "#tl_lda_model = gensim.models.LdaMulticore(tl_corpus, num_topics=9, id2word=tl_id2word, eval_every = 1, passes=2, workers=6)\n",
    "tag_lda_model = gensim.models.LdaMulticore(tag_corpus, num_topics = 2, id2word=tag_id2word, eval_every=1, passes=2, workers=6)"
   ]
  },
  {
   "cell_type": "code",
   "execution_count": 327,
   "metadata": {
    "scrolled": false
   },
   "outputs": [
    {
     "name": "stdout",
     "output_type": "stream",
     "text": [
      "[(0,\n",
      "  '0.083*\"baby\" + 0.047*\"gift\" + 0.036*\"toy\" + 0.032*\"doll\" + 0.022*\"gym\" + '\n",
      "  '0.018*\"wooden\" + 0.016*\"block\" + 0.015*\"crochet\" + 0.011*\"vintage\" + '\n",
      "  '0.011*\"game\"'),\n",
      " (1,\n",
      "  '0.042*\"book\" + 0.035*\"gift\" + 0.028*\"activity\" + 0.027*\"play\" + 0.026*\"kid\" '\n",
      "  '+ 0.025*\"toy\" + 0.021*\"feel\" + 0.019*\"puzzle\" + 0.018*\"quiet\" + '\n",
      "  '0.018*\"toddler\"')]\n"
     ]
    }
   ],
   "source": [
    "#pprint(ds_lda_model.print_topics())\n",
    "pprint(tag_lda_model.print_topics())\n",
    "#pprint(tl_lda_model.print_topics())"
   ]
  },
  {
   "cell_type": "code",
   "execution_count": 314,
   "metadata": {
    "scrolled": true
   },
   "outputs": [
    {
     "name": "stdout",
     "output_type": "stream",
     "text": [
      "[(1, 0.7530213), (2, 0.12964052), (0, 0.117338195)]\n",
      "[(0, 0.75882804), (2, 0.12591636), (1, 0.11525562)]\n"
     ]
    }
   ],
   "source": [
    "test = [['toddler', 'color'], ['free', 'shipping']]\n",
    "from gensim.corpora import Dictionary\n",
    "#dt = Dictionary.load('ds_id2word.dict')\n",
    "corpus_test = [ds_id2word.doc2bow(text) for text in test]\n",
    "for n in range(len(corpus_test)):\n",
    "#     top_topics = tag_lda_model.get_document_topics(corpus_test[n], minimum_probability=0.0, per_word_topics=True)\n",
    "#     top_topics = tag_lda_model[corpus_test[n]]\n",
    "#     topic_vec = [top_topics[i][1] for i in range(20)] \n",
    "    row = ds_lda_model[corpus_test[n]]\n",
    "    row = sorted(row, key=lambda x: (x[1]), reverse=True)\n",
    "    print(row)"
   ]
  },
  {
   "cell_type": "code",
   "execution_count": null,
   "metadata": {},
   "outputs": [],
   "source": [
    "from gensim.models import HdpModel\n",
    "# ds_corpus, ds_id2word\n",
    "# tl_corpus, tl_id2word\n",
    "# tag_corpus, tag_id2word\n",
    "def hdp_topic(corpus, id2word):\n",
    "    hdp = HdpModel(corpus, id2word, chunksize=10000)\n",
    "    return hdp\n",
    "hdp_ds = hdp_topic(ds_corpus, ds_id2word)\n",
    "hdp_tl = hdp_topic(tl_corpus, tl_id2word)\n",
    "hdp_tag = hdp_topic(tag_corpus, tag_id2word)\n",
    "print(\"ds:\", len(hdp_ds.print_topics()))\n",
    "print(\"tl:\", len(hdp_tl.print_topics()))\n",
    "print(\"tag:\", len(hdp_tag.print_topics()))\n",
    "# hdp.print_topics(num_topics=20)"
   ]
  },
  {
   "cell_type": "code",
   "execution_count": null,
   "metadata": {},
   "outputs": [],
   "source": [
    "len(hdp.print_topics())"
   ]
  },
  {
   "cell_type": "code",
   "execution_count": null,
   "metadata": {},
   "outputs": [],
   "source": [
    "hdp.print_topics(num_topics=20)"
   ]
  },
  {
   "cell_type": "code",
   "execution_count": null,
   "metadata": {},
   "outputs": [],
   "source": [
    "ds_corpus[1]\n",
    "sorted(model_ds_20[ds_corpus[1]], key=lambda : -1*tup[1])\n",
    "\n",
    "# for index, score in sorted(model_ds_20[ds_corpus[4310]], key=lambda tup: -1*tup[1]):\n",
    "#     print(\"\\nScore: {}\\t \\nTopic: {}\".format(score, model_ds_20.print_topic(index, 10)))"
   ]
  },
  {
   "cell_type": "code",
   "execution_count": null,
   "metadata": {},
   "outputs": [],
   "source": [
    "pprint(model_ds_20.print_topics())"
   ]
  },
  {
   "cell_type": "markdown",
   "metadata": {},
   "source": [
    "__View the topics in LDA model__"
   ]
  },
  {
   "cell_type": "code",
   "execution_count": null,
   "metadata": {
    "scrolled": false
   },
   "outputs": [],
   "source": [
    "# Print the Keyword in the 10 topics\n",
    "pprint(lda_model.print_topics())\n",
    "doc_lda = lda_model[corpus]"
   ]
  },
  {
   "cell_type": "markdown",
   "metadata": {},
   "source": [
    "__Compute Model Perplexity and Coherence Score__"
   ]
  },
  {
   "cell_type": "code",
   "execution_count": null,
   "metadata": {},
   "outputs": [],
   "source": [
    "# Compute Perplexity\n",
    "print('\\nPerplexity: ', lda_model.log_perplexity(corpus))  # a measure of how good the model is. lower the better.\n",
    "\n",
    "# Compute Coherence Score\n",
    "coherence_model_lda = CoherenceModel(model=lda_model, texts=data_lemmatized, dictionary=id2word, coherence='c_v')\n",
    "coherence_lda = coherence_model_lda.get_coherence()\n",
    "print('\\nCoherence Score: ', coherence_lda)"
   ]
  },
  {
   "cell_type": "markdown",
   "metadata": {},
   "source": [
    "__Visualize the topics-keywords__"
   ]
  },
  {
   "cell_type": "code",
   "execution_count": null,
   "metadata": {},
   "outputs": [],
   "source": [
    "# Visualize the topics\n",
    "pyLDAvis.enable_notebook()\n",
    "vis = pyLDAvis.gensim.prepare(lda_model, corpus, id2word)\n",
    "vis"
   ]
  },
  {
   "cell_type": "markdown",
   "metadata": {},
   "source": [
    "__Building LDA Mallet Model__\n",
    "\n",
    "The MALLET topic model package includes an extremely fast and highly scalable implementation of Gibbs sampling, efficient methods for document-topic hyperparameter optimization, and tools for inferring topics for new documents given trained models. "
   ]
  },
  {
   "cell_type": "code",
   "execution_count": null,
   "metadata": {},
   "outputs": [],
   "source": [
    "import os\n",
    "os.environ.update({'MALLET_HOME':r'C:/Work/Projects/Insight/data/LDA-Topic-Modeling-master/Python/mallet-2.0.8/'})\n",
    "# Download File: http://mallet.cs.umass.edu/dist/mallet-2.0.8.zip\n",
    "mallet_path = 'C:\\\\Work\\\\Projects\\\\Insight\\\\data\\\\LDA-Topic-Modeling-master\\\\Python\\\\mallet-2.0.8\\\\bin\\mallet'#./mallet-2.0.8/bin/mallet' # update this path\n",
    "ldamallet = gensim.models.wrappers.LdaMallet(mallet_path, corpus=ds_corpus, num_topics=20, id2word=ds_id2word)"
   ]
  },
  {
   "cell_type": "code",
   "execution_count": null,
   "metadata": {},
   "outputs": [],
   "source": [
    "ldamallet_tag = gensim.models.wrappers.LdaMallet(mallet_path, corpus=tag_corpus, num_topics=20, id2word=tag_id2word)"
   ]
  },
  {
   "cell_type": "code",
   "execution_count": null,
   "metadata": {},
   "outputs": [],
   "source": [
    "# ds_lda_model.save('ds_lda_model.model')\n",
    "# tag_lda_model.save('tag_lda_model.model')\n",
    "ds_id2word.save('ds_id2word.dict')\n",
    "tag_id2word.save('tag_id2word.dict')"
   ]
  },
  {
   "cell_type": "code",
   "execution_count": null,
   "metadata": {},
   "outputs": [],
   "source": [
    "# Show Topics\n",
    "pprint(ldamallet.show_topics(formatted=False))\n",
    "# Compute Coherence Score\n",
    "coherence_model_ldamallet = CoherenceModel(model=ldamallet, texts=data_lemmatized, dictionary=id2word, coherence='c_v')\n",
    "coherence_ldamallet = coherence_model_ldamallet.get_coherence()\n",
    "print('\\nCoherence Score: ', coherence_ldamallet)"
   ]
  },
  {
   "cell_type": "markdown",
   "metadata": {},
   "source": [
    "__How to find the optimal number of topics for LDA?__"
   ]
  },
  {
   "cell_type": "markdown",
   "metadata": {},
   "source": [
    "My approach to finding the optimal number of topics is to build many LDA models with different values of number of topics (k) and pick the one that gives the highest coherence value.\n",
    "\n",
    "Choosing a ‘k’ that marks the end of a rapid growth of topic coherence usually offers meaningful and interpretable topics. Picking an even higher value can sometimes provide more granular sub-topics.\n",
    "\n",
    "If you see the same keywords being repeated in multiple topics, it’s probably a sign that the ‘k’ is too large.\n",
    "\n",
    "The compute_coherence_values() (see below) trains multiple LDA models and provides the models and their corresponding coherence scores."
   ]
  },
  {
   "cell_type": "code",
   "execution_count": null,
   "metadata": {},
   "outputs": [],
   "source": [
    "def compute_coherence_values(dictionary, corpus, texts, limit, start=2, step=3):\n",
    "    \"\"\"\n",
    "    Compute c_v coherence for various number of topics\n",
    "\n",
    "    Parameters:\n",
    "    ----------\n",
    "    dictionary : Gensim dictionary\n",
    "    corpus : Gensim corpus\n",
    "    texts : List of input texts\n",
    "    limit : Max num of topics\n",
    "\n",
    "    Returns:\n",
    "    -------\n",
    "    model_list : List of LDA topic models\n",
    "    coherence_values : Coherence values corresponding to the LDA model with respective number of topics\n",
    "    \"\"\"\n",
    "    coherence_values = []\n",
    "    model_list = []\n",
    "    for num_topics in range(start, limit, step):\n",
    "        model = gensim.models.wrappers.LdaMallet(mallet_path, corpus=corpus, num_topics=num_topics, id2word=id2word)\n",
    "        model_list.append(model)\n",
    "        coherencemodel = CoherenceModel(model=model, texts=texts, dictionary=dictionary, coherence='c_v')\n",
    "        coherence_values.append(coherencemodel.get_coherence())\n",
    "\n",
    "    return model_list, coherence_values"
   ]
  },
  {
   "cell_type": "code",
   "execution_count": null,
   "metadata": {},
   "outputs": [],
   "source": [
    "# Can take a long time to run.\n",
    "model_list_ds, coherence_values_ds = compute_coherence_values(dictionary=ds_id2word, corpus=ds_corpus, texts=ds_data_lemmatized, start=2, limit=40, step=6)"
   ]
  },
  {
   "cell_type": "code",
   "execution_count": null,
   "metadata": {},
   "outputs": [],
   "source": [
    "model_list_1, coherence_values_1 = compute_coherence_values(dictionary=id2word, corpus=corpus, texts=data_lemmatized, start=2, limit=40, step=2)"
   ]
  },
  {
   "cell_type": "code",
   "execution_count": null,
   "metadata": {},
   "outputs": [],
   "source": [
    "# Show graph\n",
    "limit=40; start=2; step=6;\n",
    "x = range(start, limit, step)\n",
    "plt.plot(x, coherence_values)\n",
    "plt.xlabel(\"Num Topics\")\n",
    "plt.ylabel(\"Coherence score\")\n",
    "plt.legend((\"coherence_values\"), loc='best')\n",
    "plt.show()"
   ]
  },
  {
   "cell_type": "code",
   "execution_count": null,
   "metadata": {},
   "outputs": [],
   "source": [
    "# Print the coherence scores\n",
    "for m, cv in zip(x, coherence_values):\n",
    "    print(\"Num Topics =\", m, \" has Coherence Value of\", round(cv, 4))"
   ]
  },
  {
   "cell_type": "code",
   "execution_count": null,
   "metadata": {
    "scrolled": true
   },
   "outputs": [],
   "source": [
    "# Select the model and print the topics\n",
    "optimal_model = model_list[3]\n",
    "model_topics = optimal_model.show_topics(formatted=False)\n",
    "pprint(optimal_model.print_topics(num_words=20))"
   ]
  },
  {
   "cell_type": "markdown",
   "metadata": {},
   "source": [
    "__Finding the dominant topic in each sentence__"
   ]
  },
  {
   "cell_type": "code",
   "execution_count": 321,
   "metadata": {},
   "outputs": [],
   "source": [
    "pd.set_option('display.max_colwidth', -1)"
   ]
  },
  {
   "cell_type": "code",
   "execution_count": null,
   "metadata": {},
   "outputs": [],
   "source": [
    "ds = data.description.values.tolist()\n",
    "tag = data.tags.values.tolist()"
   ]
  },
  {
   "cell_type": "code",
   "execution_count": null,
   "metadata": {},
   "outputs": [],
   "source": [
    "data = data.reset_index()"
   ]
  },
  {
   "cell_type": "code",
   "execution_count": 317,
   "metadata": {
    "scrolled": true
   },
   "outputs": [],
   "source": [
    "def format_topics_sentences(ldamodel=tl_lda_model, corpus=tl_corpus, texts=tl):\n",
    "    # Init output\n",
    "    sent_topics_df = pd.DataFrame()\n",
    "\n",
    "    # Get main topic in each document\n",
    "    for i, row in enumerate(ldamodel[corpus]):\n",
    "        row = sorted(row, key=lambda x: (x[1]), reverse=True)\n",
    "        # Get the Dominant topic, Perc Contribution and Keywords for each document\n",
    "        for j, (topic_num, prop_topic) in enumerate(row):\n",
    "            if j == 0:  # => dominant topic\n",
    "                wp = ldamodel.show_topic(topic_num)\n",
    "                topic_keywords = \", \".join([word for word, prop in wp])\n",
    "                sent_topics_df = sent_topics_df.append(pd.Series([int(topic_num), round(prop_topic,4), topic_keywords]), ignore_index=True)\n",
    "            else:\n",
    "                break\n",
    "    sent_topics_df.columns = ['Dominant_Topic', 'Perc_Contribution', 'Topic_Keywords']\n",
    "\n",
    "    # Add original text to the end of the output\n",
    "    contents = pd.Series(texts)\n",
    "    sent_topics_df = pd.concat([sent_topics_df, contents], axis=1)\n",
    "    return(sent_topics_df)\n",
    "\n",
    "# # Format\n",
    "# df_dominant_topic_ds = df_topic_sents_keywords_ds.reset_index()\n",
    "# df_dominant_topic_ds.columns = ['Document_No', 'Dominant_Topic', 'Topic_Perc_Contrib', 'Keywords', 'Text']\n",
    "\n",
    "# df_dominant_topic_tag = df_topic_sents_keywords_ds.reset_index()\n",
    "# df_dominant_topic_tag.columns = ['Document_No', 'Dominant_Topic', 'Topic_Perc_Contrib', 'Keywords', 'Text']\n",
    "\n",
    "#add to data\n",
    "# data['dmt_ds'] = df_dominant_topic_ds['Dominant_Topic']\n",
    "# data['tpc_ds'] = df_dominant_topic_ds['Topic_Perc_Contrib']\n",
    "# data['kw_ds'] = df_dominant_topic_ds['Keywords']\n",
    "\n",
    "# data['dmt_tag'] = df_dominant_topic_tag['Dominant_Topic']\n",
    "# data['tpc_tag'] = df_dominant_topic_tag['Topic_Perc_Contrib']\n",
    "# data['kw_tag'] = df_dominant_topic_tag['Keywords']\n",
    "\n",
    "\n",
    "# Show\n",
    "#df_dominant_topic_ds.head(30)"
   ]
  },
  {
   "cell_type": "code",
   "execution_count": null,
   "metadata": {},
   "outputs": [],
   "source": [
    "# Format\n",
    "df_topic_sents_keywords_ds = format_topics_sentences(ldamodel = ds_lda_model, corpus=ds_corpus, texts=ds)\n",
    "df_dominant_topic_ds = df_topic_sents_keywords_ds.reset_index()\n",
    "df_dominant_topic_ds.columns = ['Document_No', 'Dominant_Topic', 'Topic_Perc_Contrib', 'Keywords', 'Text']\n",
    "df_dominant_topic_ds.head(30)"
   ]
  },
  {
   "cell_type": "code",
   "execution_count": null,
   "metadata": {
    "scrolled": false
   },
   "outputs": [],
   "source": [
    "# Format\n",
    "df_topic_sents_keywords_tag = format_topics_sentences(ldamodel = tag_lda_model, corpus=tag_corpus, texts=tag)\n",
    "df_dominant_topic_tag = df_topic_sents_keywords_tag.reset_index()\n",
    "df_dominant_topic_tag.columns = ['Document_No', 'Dominant_Topic', 'Topic_Perc_Contrib', 'Keywords', 'Text']\n",
    "df_dominant_topic_tag.iloc[21:40]"
   ]
  },
  {
   "cell_type": "code",
   "execution_count": 324,
   "metadata": {},
   "outputs": [
    {
     "data": {
      "text/html": [
       "<div>\n",
       "<style scoped>\n",
       "    .dataframe tbody tr th:only-of-type {\n",
       "        vertical-align: middle;\n",
       "    }\n",
       "\n",
       "    .dataframe tbody tr th {\n",
       "        vertical-align: top;\n",
       "    }\n",
       "\n",
       "    .dataframe thead th {\n",
       "        text-align: right;\n",
       "    }\n",
       "</style>\n",
       "<table border=\"1\" class=\"dataframe\">\n",
       "  <thead>\n",
       "    <tr style=\"text-align: right;\">\n",
       "      <th></th>\n",
       "      <th>Document_No</th>\n",
       "      <th>Dominant_Topic</th>\n",
       "      <th>Topic_Perc_Contrib</th>\n",
       "      <th>Keywords</th>\n",
       "      <th>Text</th>\n",
       "    </tr>\n",
       "  </thead>\n",
       "  <tbody>\n",
       "    <tr>\n",
       "      <td>0</td>\n",
       "      <td>0</td>\n",
       "      <td>6.0</td>\n",
       "      <td>0.7328</td>\n",
       "      <td>doll, wooden, gift, toy, montessori, baby, toddler, board, waldorf, set</td>\n",
       "      <td>St. Martin de Porres Dominican saint crochet amigurumi kokeshi doll, catholic, kids gift, Easter basket stuffer, baby toy, nursery decor</td>\n",
       "    </tr>\n",
       "    <tr>\n",
       "      <td>1</td>\n",
       "      <td>1</td>\n",
       "      <td>2.0</td>\n",
       "      <td>0.4472</td>\n",
       "      <td>baby, gym, gift, toy, wooden, play, rattle, teether, crochet, shower</td>\n",
       "      <td>Knitted kids Toy Umigurumi Deer - Knit baby toys - Cute animals- new year- Photo shoot props- Newborn photography accessories- READY TO SHIP</td>\n",
       "    </tr>\n",
       "    <tr>\n",
       "      <td>2</td>\n",
       "      <td>2</td>\n",
       "      <td>2.0</td>\n",
       "      <td>0.7621</td>\n",
       "      <td>baby, gym, gift, toy, wooden, play, rattle, teether, crochet, shower</td>\n",
       "      <td>Knitted newborn Toy gray rabbit - Knit baby bunny toys - Photo shoot props - Newborn photography accessories - Boy - Girl - READY TO SHIP</td>\n",
       "    </tr>\n",
       "    <tr>\n",
       "      <td>3</td>\n",
       "      <td>3</td>\n",
       "      <td>3.0</td>\n",
       "      <td>0.9506</td>\n",
       "      <td>stuff, animal, plush, crochet, gift, handmade, amigurumi, soft, doll, cat</td>\n",
       "      <td>Bat Crochet Bat Halloween bat Amigurumi plush bat vampire bat creepy monster Stuffed animals Handmade toy adult gift halloween decoration</td>\n",
       "    </tr>\n",
       "    <tr>\n",
       "      <td>4</td>\n",
       "      <td>4</td>\n",
       "      <td>2.0</td>\n",
       "      <td>0.5779</td>\n",
       "      <td>baby, gym, gift, toy, wooden, play, rattle, teether, crochet, shower</td>\n",
       "      <td>Crocheted Stroller Necklace, crochet maxi cosi pendant, baby gym, wood-gripping, heart, wooden beads, beautiful and homemade, baby gym</td>\n",
       "    </tr>\n",
       "    <tr>\n",
       "      <td>5</td>\n",
       "      <td>5</td>\n",
       "      <td>4.0</td>\n",
       "      <td>0.4760</td>\n",
       "      <td>game, play, food, feel, set, pretend, activity, kitchen, vintage, bag</td>\n",
       "      <td>Enchanted Forest Board Game 1994, Vintage Board Game, Children's Board Game,Vintage Children's Board Game, :)s***</td>\n",
       "    </tr>\n",
       "    <tr>\n",
       "      <td>6</td>\n",
       "      <td>6</td>\n",
       "      <td>7.0</td>\n",
       "      <td>0.4489</td>\n",
       "      <td>kid, activity, gift, toy, feel, wooden, car, wood, toddler, educational</td>\n",
       "      <td>Vintage Preschool Rainbow Works Puzzles Little Rabbits and Insects, Vintage Childs Puzzle, Babies Nursery Decor, Childs Room Decor, :)s*</td>\n",
       "    </tr>\n",
       "    <tr>\n",
       "      <td>7</td>\n",
       "      <td>7</td>\n",
       "      <td>3.0</td>\n",
       "      <td>0.8222</td>\n",
       "      <td>stuff, animal, plush, crochet, gift, handmade, amigurumi, soft, doll, cat</td>\n",
       "      <td>Handmade Knit Jellyfish Plushie</td>\n",
       "    </tr>\n",
       "    <tr>\n",
       "      <td>8</td>\n",
       "      <td>8</td>\n",
       "      <td>8.0</td>\n",
       "      <td>0.8251</td>\n",
       "      <td>puzzle, gift, wooden, name, personalize, vintage, set, kid, custom, girl</td>\n",
       "      <td>Colonial American history book for children of the Boston Tea Party. 1982 paperback with great pencil sketch illustrations.</td>\n",
       "    </tr>\n",
       "    <tr>\n",
       "      <td>9</td>\n",
       "      <td>9</td>\n",
       "      <td>5.0</td>\n",
       "      <td>0.4869</td>\n",
       "      <td>ball, mat, baby, crochet, pattern, montessori, activity, unicorn, fairy, dinosaur</td>\n",
       "      <td>FALL SUBSCRIPTION BOX</td>\n",
       "    </tr>\n",
       "  </tbody>\n",
       "</table>\n",
       "</div>"
      ],
      "text/plain": [
       "   Document_No  Dominant_Topic  Topic_Perc_Contrib  \\\n",
       "0  0            6.0             0.7328               \n",
       "1  1            2.0             0.4472               \n",
       "2  2            2.0             0.7621               \n",
       "3  3            3.0             0.9506               \n",
       "4  4            2.0             0.5779               \n",
       "5  5            4.0             0.4760               \n",
       "6  6            7.0             0.4489               \n",
       "7  7            3.0             0.8222               \n",
       "8  8            8.0             0.8251               \n",
       "9  9            5.0             0.4869               \n",
       "\n",
       "                                                                            Keywords  \\\n",
       "0  doll, wooden, gift, toy, montessori, baby, toddler, board, waldorf, set             \n",
       "1  baby, gym, gift, toy, wooden, play, rattle, teether, crochet, shower                \n",
       "2  baby, gym, gift, toy, wooden, play, rattle, teether, crochet, shower                \n",
       "3  stuff, animal, plush, crochet, gift, handmade, amigurumi, soft, doll, cat           \n",
       "4  baby, gym, gift, toy, wooden, play, rattle, teether, crochet, shower                \n",
       "5  game, play, food, feel, set, pretend, activity, kitchen, vintage, bag               \n",
       "6  kid, activity, gift, toy, feel, wooden, car, wood, toddler, educational             \n",
       "7  stuff, animal, plush, crochet, gift, handmade, amigurumi, soft, doll, cat           \n",
       "8  puzzle, gift, wooden, name, personalize, vintage, set, kid, custom, girl            \n",
       "9  ball, mat, baby, crochet, pattern, montessori, activity, unicorn, fairy, dinosaur   \n",
       "\n",
       "                                                                                                                                           Text  \n",
       "0  St. Martin de Porres Dominican saint crochet amigurumi kokeshi doll, catholic, kids gift, Easter basket stuffer, baby toy, nursery decor      \n",
       "1  Knitted kids Toy Umigurumi Deer - Knit baby toys - Cute animals- new year- Photo shoot props- Newborn photography accessories- READY TO SHIP  \n",
       "2  Knitted newborn Toy gray rabbit - Knit baby bunny toys - Photo shoot props - Newborn photography accessories - Boy - Girl - READY TO SHIP     \n",
       "3  Bat Crochet Bat Halloween bat Amigurumi plush bat vampire bat creepy monster Stuffed animals Handmade toy adult gift halloween decoration     \n",
       "4  Crocheted Stroller Necklace, crochet maxi cosi pendant, baby gym, wood-gripping, heart, wooden beads, beautiful and homemade, baby gym        \n",
       "5  Enchanted Forest Board Game 1994, Vintage Board Game, Children's Board Game,Vintage Children's Board Game, :)s***                             \n",
       "6  Vintage Preschool Rainbow Works Puzzles Little Rabbits and Insects, Vintage Childs Puzzle, Babies Nursery Decor, Childs Room Decor, :)s*      \n",
       "7  Handmade Knit Jellyfish Plushie                                                                                                               \n",
       "8  Colonial American history book for children of the Boston Tea Party. 1982 paperback with great pencil sketch illustrations.                   \n",
       "9  FALL SUBSCRIPTION BOX                                                                                                                         "
      ]
     },
     "execution_count": 324,
     "metadata": {},
     "output_type": "execute_result"
    }
   ],
   "source": [
    "# Format\n",
    "# df_topic_sents_keywords_tl = format_topics_sentences(ldamodel = tl_lda_model, corpus=tl_corpus, texts=tl)\n",
    "# df_dominant_topic_tl = df_topic_sents_keywords_tl.reset_index()\n",
    "# df_dominant_topic_tl.columns = ['Document_No', 'Dominant_Topic', 'Topic_Perc_Contrib', 'Keywords', 'Text']\n",
    "df_dominant_topic_tl.head(10)#.iloc[21:40]"
   ]
  },
  {
   "cell_type": "code",
   "execution_count": null,
   "metadata": {},
   "outputs": [],
   "source": [
    "#add to data\n",
    "data['dmt_ds'] = df_dominant_topic_ds['Dominant_Topic']\n",
    "data['tpc_ds'] = df_dominant_topic_ds['Topic_Perc_Contrib']\n",
    "data['kw_ds'] = df_dominant_topic_ds['Keywords']"
   ]
  },
  {
   "cell_type": "code",
   "execution_count": null,
   "metadata": {},
   "outputs": [],
   "source": [
    "# add to data\n",
    "data['dmt_tag'] = df_dominant_topic_tag['Dominant_Topic']\n",
    "data['tpc_tag'] = df_dominant_topic_tag['Topic_Perc_Contrib']\n",
    "data['kw_tag'] = df_dominant_topic_tag['Keywords']"
   ]
  },
  {
   "cell_type": "code",
   "execution_count": 657,
   "metadata": {},
   "outputs": [
    {
     "data": {
      "text/plain": [
       "(72666, 5)"
      ]
     },
     "execution_count": 657,
     "metadata": {},
     "output_type": "execute_result"
    }
   ],
   "source": [
    "df_dominant_topic_tag.shape"
   ]
  },
  {
   "cell_type": "code",
   "execution_count": null,
   "metadata": {},
   "outputs": [],
   "source": [
    "data.to_csv('result_v2.csv')"
   ]
  },
  {
   "cell_type": "markdown",
   "metadata": {},
   "source": [
    "__Find the most representative document for each topic__"
   ]
  },
  {
   "cell_type": "code",
   "execution_count": 764,
   "metadata": {
    "scrolled": false
   },
   "outputs": [
    {
     "data": {
      "text/html": [
       "<div>\n",
       "<style scoped>\n",
       "    .dataframe tbody tr th:only-of-type {\n",
       "        vertical-align: middle;\n",
       "    }\n",
       "\n",
       "    .dataframe tbody tr th {\n",
       "        vertical-align: top;\n",
       "    }\n",
       "\n",
       "    .dataframe thead th {\n",
       "        text-align: right;\n",
       "    }\n",
       "</style>\n",
       "<table border=\"1\" class=\"dataframe\">\n",
       "  <thead>\n",
       "    <tr style=\"text-align: right;\">\n",
       "      <th></th>\n",
       "      <th>Topic_Num</th>\n",
       "      <th>Topic_Perc_Contrib</th>\n",
       "      <th>Keywords</th>\n",
       "      <th>Tags</th>\n",
       "    </tr>\n",
       "  </thead>\n",
       "  <tbody>\n",
       "    <tr>\n",
       "      <td>0</td>\n",
       "      <td>0.0</td>\n",
       "      <td>0.9750</td>\n",
       "      <td>doll, gift, wooden, handmade, card, waldorf, toy, art, girl, vintage</td>\n",
       "      <td>Waldorf doll outfit,14 inch doll pants,Steiner doll pant,Miniland doll pants,White  doll pajamas,Waldorf Doll Clothes,stripe doll pants,cotton doll pajamas,wool doll pants,cotton doll pants,gift for children,waldorf baby doll,stripe doll pajamas</td>\n",
       "    </tr>\n",
       "    <tr>\n",
       "      <td>1</td>\n",
       "      <td>0.0</td>\n",
       "      <td>0.9743</td>\n",
       "      <td>doll, gift, wooden, handmade, card, waldorf, toy, art, girl, vintage</td>\n",
       "      <td>Floral doll pants,Waldorf doll outfit,Steiner doll clothes,Miniland doll pajama,14 inch Doll pants,Waldorf Doll Clothes,liberty fabric pants,doll accessory,cotton doll pants,wool doll pants,miniland doll outfit,gift for children,Bitty baby clothes</td>\n",
       "    </tr>\n",
       "    <tr>\n",
       "      <td>2</td>\n",
       "      <td>0.0</td>\n",
       "      <td>0.9736</td>\n",
       "      <td>doll, gift, wooden, handmade, card, waldorf, toy, art, girl, vintage</td>\n",
       "      <td>playing card,playing card holder,children card holder,senior card holder,canasta card holder,wooden card holder,rummy card holder,playing card rack,engraved card holder,custom card holder,adult card holder,vinyl card holder,flash card holder</td>\n",
       "    </tr>\n",
       "    <tr>\n",
       "      <td>3</td>\n",
       "      <td>1.0</td>\n",
       "      <td>0.9712</td>\n",
       "      <td>board, game, vintage, busy, baby, toddler, fox, montessori, sensory, toy</td>\n",
       "      <td>mystery game,13 dead end drive,vintage board game,childrens game,learning games,halloween board game,1990s board game,mystery board game,childrens board game,dead end board game,3d board game,milton bradley,board game</td>\n",
       "    </tr>\n",
       "    <tr>\n",
       "      <td>4</td>\n",
       "      <td>1.0</td>\n",
       "      <td>0.9712</td>\n",
       "      <td>board, game, vintage, busy, baby, toddler, fox, montessori, sensory, toy</td>\n",
       "      <td>childrens game,learning games,family game night,board game,vintage games,ben casey,ben casey game,hospital game,vintage board game,vintage board games,board games,board game complete,family board game</td>\n",
       "    </tr>\n",
       "    <tr>\n",
       "      <td>5</td>\n",
       "      <td>1.0</td>\n",
       "      <td>0.9712</td>\n",
       "      <td>board, game, vintage, busy, baby, toddler, fox, montessori, sensory, toy</td>\n",
       "      <td>vintage board games,board game,board games,games,childrens games,children board games,board game toys,horse racing board,horse racing game,horse board game,vintage horses,jockey board game,horse racing jockey</td>\n",
       "    </tr>\n",
       "    <tr>\n",
       "      <td>6</td>\n",
       "      <td>2.0</td>\n",
       "      <td>0.9768</td>\n",
       "      <td>toy, baby, car, wooden, gift, gym, play, montessori, chain, wood</td>\n",
       "      <td>Children's car necklace,Stroller necklace star,Children's car chain koala,Children's car chain stoffstern,Children's car chain with name,Stroller Chain Name,Stroller Chain Girl,Children's car chain pink,Children's car chain cloud,Children's car necklace grey,Children's car chain name girl,Children's car chain girl name,Children's car necklace white</td>\n",
       "    </tr>\n",
       "    <tr>\n",
       "      <td>7</td>\n",
       "      <td>2.0</td>\n",
       "      <td>0.9768</td>\n",
       "      <td>toy, baby, car, wooden, gift, gym, play, montessori, chain, wood</td>\n",
       "      <td>Children's car necklace,Stroller necklace star,Children's car chain koala,Children's car chain stoffstern,Children's car chain with name,Stroller Chain Name,Stroller Chain Girl,Children's car chain pink,Children's car chain cloud,Children's car necklace grey,Children's car chain name girl,Children's car chain girl name,Children's car necklace white</td>\n",
       "    </tr>\n",
       "    <tr>\n",
       "      <td>8</td>\n",
       "      <td>2.0</td>\n",
       "      <td>0.9768</td>\n",
       "      <td>toy, baby, car, wooden, gift, gym, play, montessori, chain, wood</td>\n",
       "      <td>Children's car necklace,Stroller necklace star,Children's car chain koala,Children's car chain stoffstern,Children's car chain with name,Stroller Chain Name,Stroller Chain Girl,Children's car chain pink,Children's car chain cloud,Children's car necklace grey,Children's car chain name girl,Children's car chain girl name,Children's car necklace white</td>\n",
       "    </tr>\n",
       "    <tr>\n",
       "      <td>9</td>\n",
       "      <td>3.0</td>\n",
       "      <td>0.9721</td>\n",
       "      <td>game, baby, montessori, gift, learn, toy, card, educational, memory, wood</td>\n",
       "      <td>KIDS CARD GAMES,CRAZY EIGHT GAME,OLD MAID GAME,VINTAGE CARD GAME,SNAP CARD GAME,HEARTS CARD GAME,RUMMY CARD GAME,BOXED CARD GAME SET,WORD MATCH GAME,WORD CARDS,KIDS WORD GAME,VINTAGE WORD MATCH,CHILD WORD LEARN</td>\n",
       "    </tr>\n",
       "    <tr>\n",
       "      <td>10</td>\n",
       "      <td>3.0</td>\n",
       "      <td>0.9720</td>\n",
       "      <td>game, baby, montessori, gift, learn, toy, card, educational, memory, wood</td>\n",
       "      <td>Flash Card Colors,Flash Card Numbers,Laminated Flashcard,Numbers and Colors,Learning Toy,Laminated Flash Card,Baby Shower Gift,Baby Gift Idea,Bright Flashcard Set,Toddler Gift Idea,Educational Toy Idea,Child Gift Idea,Laminate Flash Card</td>\n",
       "    </tr>\n",
       "    <tr>\n",
       "      <td>11</td>\n",
       "      <td>3.0</td>\n",
       "      <td>0.9703</td>\n",
       "      <td>game, baby, montessori, gift, learn, toy, card, educational, memory, wood</td>\n",
       "      <td>Educational Games,Educational Toys,Printable Games,Toddler Games,Early Learning,Childrens Games,Bilingual Kids Game,Animal Memory Game,Memory Card Game,Matching Card Game,Baby Language Game,English French Game,Preschool Learning</td>\n",
       "    </tr>\n",
       "    <tr>\n",
       "      <td>12</td>\n",
       "      <td>4.0</td>\n",
       "      <td>0.9750</td>\n",
       "      <td>gift, baby, stuff, animal, birthday, plush, toy, crochet, doll, easter</td>\n",
       "      <td>small puppy dog,crochet animals dog,crochet animal puppy,birthday gift puppy,grey puppy dog toys,amigurumi puppy,plush toy puppy,crochet stuffed dog,child soft toy puppy,little puppy gift,souvenir puppy dog,puppy birthday gift,dog gift for friend</td>\n",
       "    </tr>\n",
       "    <tr>\n",
       "      <td>13</td>\n",
       "      <td>4.0</td>\n",
       "      <td>0.9743</td>\n",
       "      <td>gift, baby, stuff, animal, birthday, plush, toy, crochet, doll, easter</td>\n",
       "      <td>mini animal plushies,child stuffed animal,small knit bunny,anime pink bunny,pink plush bunny,mini knit bunny,small bunny stuffie,knitted purpose,pink bunny plushy,knit pink bunny,plush pink bunny,bunny plushy,knitted pink plushy</td>\n",
       "    </tr>\n",
       "    <tr>\n",
       "      <td>14</td>\n",
       "      <td>4.0</td>\n",
       "      <td>0.9729</td>\n",
       "      <td>gift, baby, stuff, animal, birthday, plush, toy, crochet, doll, easter</td>\n",
       "      <td>Crochet elephant,Baby shower gift,Original birthday idea child,Nursery center piece,Baby room decor,Newborn gift,Amigurumi elephant,Jungle theme baby,Toddler girl toy,Kids boy toy,Hospital comfort gift sick kid,Stuffed animals and plushies,Collectible for elephant lover</td>\n",
       "    </tr>\n",
       "    <tr>\n",
       "      <td>15</td>\n",
       "      <td>5.0</td>\n",
       "      <td>0.9729</td>\n",
       "      <td>play, toy, set, pretend, bag, sensory, montessori, tea, vintage, gift</td>\n",
       "      <td>Ten Piece Baking Set,Pretend Kitchen Play,Make Believe Toys,Kitchen Baking Set,Kids Kitchen Set,Childrens Baking Set,Pretend Play Toys,Vintage Toys,Vintage Pretend Toys,Vintage Kitchen Kids,Kids Old Baking Sets,Toy Baking Set Old,Child's Baking Set</td>\n",
       "    </tr>\n",
       "    <tr>\n",
       "      <td>16</td>\n",
       "      <td>5.0</td>\n",
       "      <td>0.9721</td>\n",
       "      <td>play, toy, set, pretend, bag, sensory, montessori, tea, vintage, gift</td>\n",
       "      <td>miniature tea set,childs tea set,toy tea set,pretend toys,china tea set,small tea set,collectable tea set,home decor tea set,kids tea set,mini tea set,blue white,porcelain tea set</td>\n",
       "    </tr>\n",
       "    <tr>\n",
       "      <td>17</td>\n",
       "      <td>5.0</td>\n",
       "      <td>0.9721</td>\n",
       "      <td>play, toy, set, pretend, bag, sensory, montessori, tea, vintage, gift</td>\n",
       "      <td>Felt Bandage Set,Felt Band-Aide,Toy bandaid set,play bandaid kit,toy doctor kit,play doctor kit,toy bandage set,toy doctor bag,felt doctor bag,toy first aid kit,felt first aide kit,play bandaids,doll bandaids</td>\n",
       "    </tr>\n",
       "    <tr>\n",
       "      <td>18</td>\n",
       "      <td>6.0</td>\n",
       "      <td>0.9756</td>\n",
       "      <td>mobile, baby, crochet, gift, amigurumi, nursery, animal, crib, swing, room</td>\n",
       "      <td>chair bassinet swing,hanging chair swing,nursery chair swing,montesori seat swing,therapy round swing,outdoor home swing,long rope disc swing,wood rope kid swing,home garden hammock,indoor child swing,sensory chair swing,home party kid swing,toddler fabric swing</td>\n",
       "    </tr>\n",
       "    <tr>\n",
       "      <td>19</td>\n",
       "      <td>6.0</td>\n",
       "      <td>0.9729</td>\n",
       "      <td>mobile, baby, crochet, gift, amigurumi, nursery, animal, crib, swing, room</td>\n",
       "      <td>nursery mobile,baby crib mobile,cot mobile,baby girl mobile,hanging mobile,new baby gift,Forest baby mobile,Animal baby mobile,Woodland baby mobile,fox mobile,woodland mobile,felt baby mobile,rustic baby mobile</td>\n",
       "    </tr>\n",
       "    <tr>\n",
       "      <td>20</td>\n",
       "      <td>6.0</td>\n",
       "      <td>0.9721</td>\n",
       "      <td>mobile, baby, crochet, gift, amigurumi, nursery, animal, crib, swing, room</td>\n",
       "      <td>Hanging baby mobile,nursery mobile,baby cot decor,Hanging felt toys,baby felt garland,baby mobile kit,newborn gift,baby mobile,cot mobile,crib mobile,baby mobile felt,baby mobile girl,music mobile</td>\n",
       "    </tr>\n",
       "    <tr>\n",
       "      <td>21</td>\n",
       "      <td>7.0</td>\n",
       "      <td>0.9774</td>\n",
       "      <td>gift, wood, baby, wooden, birthday, boy, fairy, tooth, montessori, toddler</td>\n",
       "      <td>fathers keepsake,Custom Father Block,father day gift idea,cool father day gift,cool gifts for dad,unique gifts for dad,father gift ideas,best gift for father,father day gift son,popular fathers gift,father's day special,handmade items sale,perfect gift for dad</td>\n",
       "    </tr>\n",
       "    <tr>\n",
       "      <td>22</td>\n",
       "      <td>7.0</td>\n",
       "      <td>0.9768</td>\n",
       "      <td>gift, wood, baby, wooden, birthday, boy, fairy, tooth, montessori, toddler</td>\n",
       "      <td>fathers keepsake,Custom Father Block,father day gift idea,cool father day gift,father's unique gift,father to be gifts,unique gifts for dad,father gift ideas,best gift for father,father day gift son,popular fathers gift,father's day special,handmade items sale</td>\n",
       "    </tr>\n",
       "    <tr>\n",
       "      <td>23</td>\n",
       "      <td>7.0</td>\n",
       "      <td>0.9743</td>\n",
       "      <td>gift, wood, baby, wooden, birthday, boy, fairy, tooth, montessori, toddler</td>\n",
       "      <td>A son's first hero,Fathers Day Gift,Father's Day Block,gift ideas for dad,unique father's gift,best gifts for dad,presents for father,creative father gift,unique gift ideas,top fathers day gift,dad's day gifts,things for father's,gift idea father day</td>\n",
       "    </tr>\n",
       "    <tr>\n",
       "      <td>24</td>\n",
       "      <td>8.0</td>\n",
       "      <td>0.9703</td>\n",
       "      <td>ball, pillow, apron, puppet, animal, montessori, plush, gift, monster, craft</td>\n",
       "      <td>penlight theater,finger puppets,finger theater,dog finger puppet,finger theater for children,stuffed animal dog,soft tot dog,little plush dog,dog puppet for fingers,puppet theater,animal finger puppet,toy for fingers,petite plush doggy</td>\n",
       "    </tr>\n",
       "    <tr>\n",
       "      <td>25</td>\n",
       "      <td>8.0</td>\n",
       "      <td>0.9683</td>\n",
       "      <td>ball, pillow, apron, puppet, animal, montessori, plush, gift, monster, craft</td>\n",
       "      <td>Cuddle cushions,birth pillow,Give birth,Baptissis Pillow Names,Baptisbe wish name,Pillows of embroidered name,Cuddle cushions individualised,Kindergarten Pillow Name,Secscrine application,Bunny child bunnies,Travel pillows,Holiday cushions,Bunny bunny boy bunny plane</td>\n",
       "    </tr>\n",
       "    <tr>\n",
       "      <td>26</td>\n",
       "      <td>8.0</td>\n",
       "      <td>0.9683</td>\n",
       "      <td>ball, pillow, apron, puppet, animal, montessori, plush, gift, monster, craft</td>\n",
       "      <td>Cuddle cushions,birth pillow,Give birth,Baptissis Pillow Names,Baptisbe wish name,Pillows of embroidered name,Cuddle cushions individualised,Kindergarten Pillow Name,Secscrine application,Bunny child bunnies,Travel pillows,Holiday cushions,Bunny bunny boy bunny plane</td>\n",
       "    </tr>\n",
       "    <tr>\n",
       "      <td>27</td>\n",
       "      <td>9.0</td>\n",
       "      <td>0.9821</td>\n",
       "      <td>baby, gift, bear, rattle, box, teddy, birth, shower, music, girl</td>\n",
       "      <td>pink girl music box,pink butterfly musical cushion,butterfly music box,purple girl butterfly cushion,Baby room butterfly deco,Pink purple baby room decoration,pink heart baby musical gift,deco baby liberty butterfly,pink liberty music cushion,Music box liberty papillo,Gift baby girl liberty pink,custom liberty cushion,pink liberty butterfly cushion</td>\n",
       "    </tr>\n",
       "    <tr>\n",
       "      <td>28</td>\n",
       "      <td>9.0</td>\n",
       "      <td>0.9798</td>\n",
       "      <td>baby, gift, bear, rattle, box, teddy, birth, shower, music, girl</td>\n",
       "      <td>music box made in France,Baby musical gift,Custom baby cushion,Original baby room décor,baby music cushion,Deco turquoise baby's room,turquoise music box,Baby heart deco turquoise,turquoise music cushion,turquoise baby musical gift,turquoise baby music cushion,turquoise heart deco cushion,Franc turquoise music box</td>\n",
       "    </tr>\n",
       "    <tr>\n",
       "      <td>29</td>\n",
       "      <td>9.0</td>\n",
       "      <td>0.9736</td>\n",
       "      <td>baby, gift, bear, rattle, box, teddy, birth, shower, music, girl</td>\n",
       "      <td>my first handbag,new baby gift,its a girl gifts,baby shower gifts,baby toys,baby fabric gifts,cute baby gifts,original baby gifts,baby shower bags,childs first handbag,nursery gifts,gift for 3 year old,cute baby fabric</td>\n",
       "    </tr>\n",
       "    <tr>\n",
       "      <td>30</td>\n",
       "      <td>10.0</td>\n",
       "      <td>0.9762</td>\n",
       "      <td>book, busy, quiet, gift, toddler, toy, activity, baby, montessori, feel</td>\n",
       "      <td>Toddler baby book,Quiet Book Pages,Baby activity book,Quiet book for boy,Unique baby gift,Newborn baby gift,custom made book,Sensory book,Felt Quiet Book,baby book first year,Custom quiet book,Toddler busy book,Learning book game</td>\n",
       "    </tr>\n",
       "    <tr>\n",
       "      <td>31</td>\n",
       "      <td>10.0</td>\n",
       "      <td>0.9756</td>\n",
       "      <td>book, busy, quiet, gift, toddler, toy, activity, baby, montessori, feel</td>\n",
       "      <td>infant development,Develop toddler book,Develop fabric book,Infant busy book,Funny felt book,Special sensory book,motor soft book,First sensory book,special busy book,Smart felt book,Cloth activity book,Custom quiet book,Custom busy book</td>\n",
       "    </tr>\n",
       "    <tr>\n",
       "      <td>32</td>\n",
       "      <td>10.0</td>\n",
       "      <td>0.9756</td>\n",
       "      <td>book, busy, quiet, gift, toddler, toy, activity, baby, montessori, feel</td>\n",
       "      <td>Quiet Book,Toddler Quiet Book,Pages Busy Book,Baby Quiet Book,Boy Quiet Book,Girls Quiet Books,Felt Quiet Book,Toddler Sensory book,Travel Toddler Toys,sensory quiet book,montessori busy book,fabric activity book,first birthday gift</td>\n",
       "    </tr>\n",
       "    <tr>\n",
       "      <td>33</td>\n",
       "      <td>11.0</td>\n",
       "      <td>0.9743</td>\n",
       "      <td>block, baby, wooden, puzzle, wood, toy, gift, name, shower, decor</td>\n",
       "      <td>DIY block kit,DIY baby block kit,baby block,wood baby blocks,unfinished baby bloc,2 inch wooden blocks,baby boy nursery,baby shower activity,wood block,wooden block,wooden baby block,DIY baby blocks,baby girl nursery</td>\n",
       "    </tr>\n",
       "    <tr>\n",
       "      <td>34</td>\n",
       "      <td>11.0</td>\n",
       "      <td>0.9743</td>\n",
       "      <td>block, baby, wooden, puzzle, wood, toy, gift, name, shower, decor</td>\n",
       "      <td>DIY baby block kit,DIY block kit,baby block,wooden baby block,unfinished baby bloc,2 inch wooden blocks,baby girl nursery,baby shower activity,wood block,wooden block,wood baby blocks,DIY baby blocks,baby boy nursery</td>\n",
       "    </tr>\n",
       "    <tr>\n",
       "      <td>35</td>\n",
       "      <td>11.0</td>\n",
       "      <td>0.9743</td>\n",
       "      <td>block, baby, wooden, puzzle, wood, toy, gift, name, shower, decor</td>\n",
       "      <td>DIY block kit,DIY baby block kit,baby blocks,wood baby blocks,unfinished baby bloc,2 inch wooden blocks,baby boy nursery,baby girl nursery,baby shower activity,wood block,wooden block,wooden baby block,DIY baby block</td>\n",
       "    </tr>\n",
       "    <tr>\n",
       "      <td>36</td>\n",
       "      <td>12.0</td>\n",
       "      <td>0.9721</td>\n",
       "      <td>doll, handmade, cat, toy, gift, knit, crochet, bear, soft, unicorn</td>\n",
       "      <td>Unique gift cat,Souvenir toy cat,Cat bag,Cat lover gift,Knitted cat,Cat stuffed animal,Cat doll girl,Amigurumi cat,Cuddly toy cat,Children room decor,Knitted cat art doll,Crocheted gift cat,Funny cat toy</td>\n",
       "    </tr>\n",
       "    <tr>\n",
       "      <td>37</td>\n",
       "      <td>12.0</td>\n",
       "      <td>0.9712</td>\n",
       "      <td>doll, handmade, cat, toy, gift, knit, crochet, bear, soft, unicorn</td>\n",
       "      <td>Lego Table,Lego Building Table,Lego Bricks,Lego Base Plates,Childrens Lego table,childs play table,childrens lego,childrens table,Activity Table,Large Lego Table,Lego Storage Table,Toy Organizer,Girls Lego Table</td>\n",
       "    </tr>\n",
       "    <tr>\n",
       "      <td>38</td>\n",
       "      <td>12.0</td>\n",
       "      <td>0.9703</td>\n",
       "      <td>doll, handmade, cat, toy, gift, knit, crochet, bear, soft, unicorn</td>\n",
       "      <td>soft sculpture cat,stuffed black cat,one of a kind,handmade original,Handmade soft cat,Stuffed animals,vintage stuffed toys,sad cat doll,Halloween cat,cat clothed in linen,black cat decor,stuffed cat toy,child's stuffed toy</td>\n",
       "    </tr>\n",
       "    <tr>\n",
       "      <td>39</td>\n",
       "      <td>13.0</td>\n",
       "      <td>0.9712</td>\n",
       "      <td>chart, mask, gift, chore, party, costume, halloween, animal, dress, children</td>\n",
       "      <td>Kids Behavior Chart,Responsibility Chart,Chores Chart,Kids Chore Chart,Childs Chore Chart,Boys Chore Chart,Girls Chore Chart,Prints Chore Chart,Printable Chores,Printable Task Chore,Childs Chore List,Kids Chore List,Printable Task Chart</td>\n",
       "    </tr>\n",
       "    <tr>\n",
       "      <td>40</td>\n",
       "      <td>13.0</td>\n",
       "      <td>0.9712</td>\n",
       "      <td>chart, mask, gift, chore, party, costume, halloween, animal, dress, children</td>\n",
       "      <td>Kids Behavior Chart,Responsibility Chart,Chores Chart,Kids Chore Chart,Childs Chore Chart,Boys Chore Chart,Girls Chore Chart,Prints Chore Chart,Printable Chores,Printable Task Chore,Childs Chore List,Kids Chore List,Printable Task Chart</td>\n",
       "    </tr>\n",
       "    <tr>\n",
       "      <td>41</td>\n",
       "      <td>13.0</td>\n",
       "      <td>0.9712</td>\n",
       "      <td>chart, mask, gift, chore, party, costume, halloween, animal, dress, children</td>\n",
       "      <td>Kids Behavior Chart,Responsibility Chart,Chores Chart,Kids Chore Chart,Childs Chore Chart,Boys Chore Chart,Girls Chore Chart,Prints Chore Chart,Printable Chores,Printable Task Chore,Childs Chore List,Kids Chore List,Printable Task Chart</td>\n",
       "    </tr>\n",
       "    <tr>\n",
       "      <td>42</td>\n",
       "      <td>14.0</td>\n",
       "      <td>0.9703</td>\n",
       "      <td>puzzle, vintage, disney, jigsaw, school, game, wood, wooden, children, learn</td>\n",
       "      <td>children puzzle,pre school toy,preschool learning,preschool activities,preschool puzzle,toddler puzzles,animal theme puzzles,animal themed games,pre school puzzles,kindergarten puzzles,animal room decor,Puzzle pieces craft,SEE and SPELL Puzzle</td>\n",
       "    </tr>\n",
       "    <tr>\n",
       "      <td>43</td>\n",
       "      <td>14.0</td>\n",
       "      <td>0.9703</td>\n",
       "      <td>puzzle, vintage, disney, jigsaw, school, game, wood, wooden, children, learn</td>\n",
       "      <td>children puzzle,pre school toy,preschool learning,preschool activities,preschool puzzle,toddler puzzles,animal theme puzzles,animal themed games,pre school puzzles,kindergarten puzzles,animal room decor,Puzzle pieces craft,SEE and SPELL Puzzle</td>\n",
       "    </tr>\n",
       "    <tr>\n",
       "      <td>44</td>\n",
       "      <td>14.0</td>\n",
       "      <td>0.9683</td>\n",
       "      <td>puzzle, vintage, disney, jigsaw, school, game, wood, wooden, children, learn</td>\n",
       "      <td>Educational Poster,French poster,school printable,classroom poster,French teacher,French for children,French class decor,learn French words,French words poster,French wall  print,learning poster,vocabulary poster,school poster</td>\n",
       "    </tr>\n",
       "    <tr>\n",
       "      <td>45</td>\n",
       "      <td>15.0</td>\n",
       "      <td>0.9736</td>\n",
       "      <td>baby, wooden, toy, montessori, teether, gift, wood, natural, waldorf, teething</td>\n",
       "      <td>Montessori baby gift,Baby gift set,Baby shower gift,baby nursery decor,Wooden teether toy,Organic teether ring,Christmas baby gift,Fox teether,Crinkle tag blanket,Sheep print taggie,Organic teething toy,Sensory Blanket,Infant sheep blankie</td>\n",
       "    </tr>\n",
       "    <tr>\n",
       "      <td>46</td>\n",
       "      <td>15.0</td>\n",
       "      <td>0.9736</td>\n",
       "      <td>baby, wooden, toy, montessori, teether, gift, wood, natural, waldorf, teething</td>\n",
       "      <td>wooden easter eggs,rainbow wood toys,wooden teething toys,baby gift set,baby shower gift,eco friendly toys,waldorf wooden toys,montessori wood toys,baby teething toys,crochet teething toy,neutral baby toy,pretend play toys,kangaroo care</td>\n",
       "    </tr>\n",
       "    <tr>\n",
       "      <td>47</td>\n",
       "      <td>15.0</td>\n",
       "      <td>0.9729</td>\n",
       "      <td>baby, wooden, toy, montessori, teether, gift, wood, natural, waldorf, teething</td>\n",
       "      <td>montessori baby toys,wooden elephant,wooden teether,Baby girl teether,waldorf baby toy,new baby gift ideas,Crochet teething toy,cream peach yellow,baby shower chewing,organic baby toys,wooden teether toy,vegan infant animals,sensory toys</td>\n",
       "    </tr>\n",
       "    <tr>\n",
       "      <td>48</td>\n",
       "      <td>16.0</td>\n",
       "      <td>0.9750</td>\n",
       "      <td>food, play, feel, toy, kitchen, gift, crochet, pretend, bunny, montessori</td>\n",
       "      <td>Pretend Play Food,Pretend Play Garden,Fabric Play Food,Fleece Play Food,Felt Garden Food,Pumpkins Bananas,Waldorf Play Felt,Felt Play Food,Montessori Play Felt,Play Felt Vegetables,Play Garden Set,Toy Felt Food,Felt Pretend Garden</td>\n",
       "    </tr>\n",
       "    <tr>\n",
       "      <td>49</td>\n",
       "      <td>16.0</td>\n",
       "      <td>0.9743</td>\n",
       "      <td>food, play, feel, toy, kitchen, gift, crochet, pretend, bunny, montessori</td>\n",
       "      <td>wool felt food,felt food valentines,wool felt tea party,felt tea party cake,felt strawberry cake,wool felt strawberry,wool felt desserts,playfood desserts,pretend cakes,wool pretend cakes,pretend desserts,pretend pink cake,children's felt toy</td>\n",
       "    </tr>\n",
       "    <tr>\n",
       "      <td>50</td>\n",
       "      <td>16.0</td>\n",
       "      <td>0.9736</td>\n",
       "      <td>food, play, feel, toy, kitchen, gift, crochet, pretend, bunny, montessori</td>\n",
       "      <td>Donut Plush Toy,Crochet Food Toys,Donut Lover Gifts,Crochet Play Food,Amigurumi Play Food,Pretend Play Kitchen,Cute Handmade Gifts,Stuffed Donut Toys,Chocolate Donut Toy,Strawberry Vanilla,Birthday Cake Plush,Donut with Sprinkles,Childrens Play Food</td>\n",
       "    </tr>\n",
       "    <tr>\n",
       "      <td>51</td>\n",
       "      <td>17.0</td>\n",
       "      <td>0.9736</td>\n",
       "      <td>vintage, toy, animal, bear, plush, children, fisher_price, collectible, decor, collectable</td>\n",
       "      <td>Turtle toys rubber,Rubber turtle Russia,Russia rubber toys,Toys Russian rubber,Toys vintage rubber,USSR toys rubber,Rubber toys Russian,Russian toys vintage,Turtle rubber Soviet,Russian toys rubber,Toys children,Made in USSR,Made in Russia</td>\n",
       "    </tr>\n",
       "    <tr>\n",
       "      <td>52</td>\n",
       "      <td>17.0</td>\n",
       "      <td>0.9721</td>\n",
       "      <td>vintage, toy, animal, bear, plush, children, fisher_price, collectible, decor, collectable</td>\n",
       "      <td>Rubber toys Russia,Russian toys rubber,Soviet Union toys,USSR toys rubber,Gnome rubber Russia,Toys for children,Toys rubber Russia,Russian toys vintage,Soviet toys Russia,Rubber Gnome USSR,Made in Russia,Made in USSR,Made in Soviet Union</td>\n",
       "    </tr>\n",
       "    <tr>\n",
       "      <td>53</td>\n",
       "      <td>17.0</td>\n",
       "      <td>0.9712</td>\n",
       "      <td>vintage, toy, animal, bear, plush, children, fisher_price, collectible, decor, collectable</td>\n",
       "      <td>vintage hallmark,vintage christmas,christmas animal,collectable plush,childrens toys,plush animal toys,retro christmas,silverlining toys,jointed teddy bear,plush teddy bear,vintage teddy bear,white teddy bear,white plush bear</td>\n",
       "    </tr>\n",
       "    <tr>\n",
       "      <td>54</td>\n",
       "      <td>18.0</td>\n",
       "      <td>0.9756</td>\n",
       "      <td>doll, miniature, dollhouse, puppet, toy, vintage, baby, peg, girl, house</td>\n",
       "      <td>Human Childs hair,Long Hair male Doll,Long Hair Ken Doll,Twilight Edward,Long Hair Men,Long Hair Doll,Long Hair Men Doll,Human hair On Doll,Long Hair Guys,Long Hair,Long Hair Barbie,Christmas Doll,Male Doll</td>\n",
       "    </tr>\n",
       "    <tr>\n",
       "      <td>55</td>\n",
       "      <td>18.0</td>\n",
       "      <td>0.9756</td>\n",
       "      <td>doll, miniature, dollhouse, puppet, toy, vintage, baby, peg, girl, house</td>\n",
       "      <td>american girl top,american girl jeans,18 inch doll jeans,18 inch size jeans,18 inch doll top,18 inch size top,18 inch halloween,18 inch holiday top,large doll holiday,large doll halloween,large doll jeans,play doll clothes,childs doll clothes</td>\n",
       "    </tr>\n",
       "    <tr>\n",
       "      <td>56</td>\n",
       "      <td>18.0</td>\n",
       "      <td>0.9729</td>\n",
       "      <td>doll, miniature, dollhouse, puppet, toy, vintage, baby, peg, girl, house</td>\n",
       "      <td>ANTIQUE DOLL,VINTAGE DOLL,DOLL CLOTHES,VTG DOLL CLOTHES,ANTIQUE DOLL CLOTHES,MINIATURE TRUNK,MINI DOLL CLOTHES,MINI DOLL TRUNK,MINI CLOTHES TRUNK,ANTIQUE MINI TRUNK,DOLL CLOTHES TRUNK,ANTIQUE CHILDS TRUNK,CHILDS TRUNK</td>\n",
       "    </tr>\n",
       "    <tr>\n",
       "      <td>57</td>\n",
       "      <td>19.0</td>\n",
       "      <td>0.9728</td>\n",
       "      <td>feel, gift, christmas, story, color, montessori, board, horse, wood, waldorf</td>\n",
       "      <td>Nature floor study,Waldorf Montessori,Happy hopscotch,wood decals decal,flowers flower pack,fall room decor,children toy game,Autumn sticker wall,cute floor stickers,bundle flower hop,sensory path jump,classroom walk gift,sensory path</td>\n",
       "    </tr>\n",
       "    <tr>\n",
       "      <td>58</td>\n",
       "      <td>19.0</td>\n",
       "      <td>0.9721</td>\n",
       "      <td>feel, gift, christmas, story, color, montessori, board, horse, wood, waldorf</td>\n",
       "      <td>craft kit,activity kit,girls craft kit,girls activity kit,childs craft kit,childs activity kit,scarf craft kit,girls scarf kit,party activity kit,scarf kit,birthday activity,birthday gift,holiday gift</td>\n",
       "    </tr>\n",
       "    <tr>\n",
       "      <td>59</td>\n",
       "      <td>19.0</td>\n",
       "      <td>0.9712</td>\n",
       "      <td>feel, gift, christmas, story, color, montessori, board, horse, wood, waldorf</td>\n",
       "      <td>Felt Christmas tree,tree for toddlers,christmas tree kit,Felt tree decoration,tree kit for kids,Christmas ornaments,Felt tree ornaments,felt ornaments,baby christmas gift,toddler christmas,wall christmas tree,felt christmas toy,montessori materials</td>\n",
       "    </tr>\n",
       "  </tbody>\n",
       "</table>\n",
       "</div>"
      ],
      "text/plain": [
       "    Topic_Num  Topic_Perc_Contrib  \\\n",
       "0   0.0        0.9750               \n",
       "1   0.0        0.9743               \n",
       "2   0.0        0.9736               \n",
       "3   1.0        0.9712               \n",
       "4   1.0        0.9712               \n",
       "5   1.0        0.9712               \n",
       "6   2.0        0.9768               \n",
       "7   2.0        0.9768               \n",
       "8   2.0        0.9768               \n",
       "9   3.0        0.9721               \n",
       "10  3.0        0.9720               \n",
       "11  3.0        0.9703               \n",
       "12  4.0        0.9750               \n",
       "13  4.0        0.9743               \n",
       "14  4.0        0.9729               \n",
       "15  5.0        0.9729               \n",
       "16  5.0        0.9721               \n",
       "17  5.0        0.9721               \n",
       "18  6.0        0.9756               \n",
       "19  6.0        0.9729               \n",
       "20  6.0        0.9721               \n",
       "21  7.0        0.9774               \n",
       "22  7.0        0.9768               \n",
       "23  7.0        0.9743               \n",
       "24  8.0        0.9703               \n",
       "25  8.0        0.9683               \n",
       "26  8.0        0.9683               \n",
       "27  9.0        0.9821               \n",
       "28  9.0        0.9798               \n",
       "29  9.0        0.9736               \n",
       "30  10.0       0.9762               \n",
       "31  10.0       0.9756               \n",
       "32  10.0       0.9756               \n",
       "33  11.0       0.9743               \n",
       "34  11.0       0.9743               \n",
       "35  11.0       0.9743               \n",
       "36  12.0       0.9721               \n",
       "37  12.0       0.9712               \n",
       "38  12.0       0.9703               \n",
       "39  13.0       0.9712               \n",
       "40  13.0       0.9712               \n",
       "41  13.0       0.9712               \n",
       "42  14.0       0.9703               \n",
       "43  14.0       0.9703               \n",
       "44  14.0       0.9683               \n",
       "45  15.0       0.9736               \n",
       "46  15.0       0.9736               \n",
       "47  15.0       0.9729               \n",
       "48  16.0       0.9750               \n",
       "49  16.0       0.9743               \n",
       "50  16.0       0.9736               \n",
       "51  17.0       0.9736               \n",
       "52  17.0       0.9721               \n",
       "53  17.0       0.9712               \n",
       "54  18.0       0.9756               \n",
       "55  18.0       0.9756               \n",
       "56  18.0       0.9729               \n",
       "57  19.0       0.9728               \n",
       "58  19.0       0.9721               \n",
       "59  19.0       0.9712               \n",
       "\n",
       "                                                                                      Keywords  \\\n",
       "0   doll, gift, wooden, handmade, card, waldorf, toy, art, girl, vintage                         \n",
       "1   doll, gift, wooden, handmade, card, waldorf, toy, art, girl, vintage                         \n",
       "2   doll, gift, wooden, handmade, card, waldorf, toy, art, girl, vintage                         \n",
       "3   board, game, vintage, busy, baby, toddler, fox, montessori, sensory, toy                     \n",
       "4   board, game, vintage, busy, baby, toddler, fox, montessori, sensory, toy                     \n",
       "5   board, game, vintage, busy, baby, toddler, fox, montessori, sensory, toy                     \n",
       "6   toy, baby, car, wooden, gift, gym, play, montessori, chain, wood                             \n",
       "7   toy, baby, car, wooden, gift, gym, play, montessori, chain, wood                             \n",
       "8   toy, baby, car, wooden, gift, gym, play, montessori, chain, wood                             \n",
       "9   game, baby, montessori, gift, learn, toy, card, educational, memory, wood                    \n",
       "10  game, baby, montessori, gift, learn, toy, card, educational, memory, wood                    \n",
       "11  game, baby, montessori, gift, learn, toy, card, educational, memory, wood                    \n",
       "12  gift, baby, stuff, animal, birthday, plush, toy, crochet, doll, easter                       \n",
       "13  gift, baby, stuff, animal, birthday, plush, toy, crochet, doll, easter                       \n",
       "14  gift, baby, stuff, animal, birthday, plush, toy, crochet, doll, easter                       \n",
       "15  play, toy, set, pretend, bag, sensory, montessori, tea, vintage, gift                        \n",
       "16  play, toy, set, pretend, bag, sensory, montessori, tea, vintage, gift                        \n",
       "17  play, toy, set, pretend, bag, sensory, montessori, tea, vintage, gift                        \n",
       "18  mobile, baby, crochet, gift, amigurumi, nursery, animal, crib, swing, room                   \n",
       "19  mobile, baby, crochet, gift, amigurumi, nursery, animal, crib, swing, room                   \n",
       "20  mobile, baby, crochet, gift, amigurumi, nursery, animal, crib, swing, room                   \n",
       "21  gift, wood, baby, wooden, birthday, boy, fairy, tooth, montessori, toddler                   \n",
       "22  gift, wood, baby, wooden, birthday, boy, fairy, tooth, montessori, toddler                   \n",
       "23  gift, wood, baby, wooden, birthday, boy, fairy, tooth, montessori, toddler                   \n",
       "24  ball, pillow, apron, puppet, animal, montessori, plush, gift, monster, craft                 \n",
       "25  ball, pillow, apron, puppet, animal, montessori, plush, gift, monster, craft                 \n",
       "26  ball, pillow, apron, puppet, animal, montessori, plush, gift, monster, craft                 \n",
       "27  baby, gift, bear, rattle, box, teddy, birth, shower, music, girl                             \n",
       "28  baby, gift, bear, rattle, box, teddy, birth, shower, music, girl                             \n",
       "29  baby, gift, bear, rattle, box, teddy, birth, shower, music, girl                             \n",
       "30  book, busy, quiet, gift, toddler, toy, activity, baby, montessori, feel                      \n",
       "31  book, busy, quiet, gift, toddler, toy, activity, baby, montessori, feel                      \n",
       "32  book, busy, quiet, gift, toddler, toy, activity, baby, montessori, feel                      \n",
       "33  block, baby, wooden, puzzle, wood, toy, gift, name, shower, decor                            \n",
       "34  block, baby, wooden, puzzle, wood, toy, gift, name, shower, decor                            \n",
       "35  block, baby, wooden, puzzle, wood, toy, gift, name, shower, decor                            \n",
       "36  doll, handmade, cat, toy, gift, knit, crochet, bear, soft, unicorn                           \n",
       "37  doll, handmade, cat, toy, gift, knit, crochet, bear, soft, unicorn                           \n",
       "38  doll, handmade, cat, toy, gift, knit, crochet, bear, soft, unicorn                           \n",
       "39  chart, mask, gift, chore, party, costume, halloween, animal, dress, children                 \n",
       "40  chart, mask, gift, chore, party, costume, halloween, animal, dress, children                 \n",
       "41  chart, mask, gift, chore, party, costume, halloween, animal, dress, children                 \n",
       "42  puzzle, vintage, disney, jigsaw, school, game, wood, wooden, children, learn                 \n",
       "43  puzzle, vintage, disney, jigsaw, school, game, wood, wooden, children, learn                 \n",
       "44  puzzle, vintage, disney, jigsaw, school, game, wood, wooden, children, learn                 \n",
       "45  baby, wooden, toy, montessori, teether, gift, wood, natural, waldorf, teething               \n",
       "46  baby, wooden, toy, montessori, teether, gift, wood, natural, waldorf, teething               \n",
       "47  baby, wooden, toy, montessori, teether, gift, wood, natural, waldorf, teething               \n",
       "48  food, play, feel, toy, kitchen, gift, crochet, pretend, bunny, montessori                    \n",
       "49  food, play, feel, toy, kitchen, gift, crochet, pretend, bunny, montessori                    \n",
       "50  food, play, feel, toy, kitchen, gift, crochet, pretend, bunny, montessori                    \n",
       "51  vintage, toy, animal, bear, plush, children, fisher_price, collectible, decor, collectable   \n",
       "52  vintage, toy, animal, bear, plush, children, fisher_price, collectible, decor, collectable   \n",
       "53  vintage, toy, animal, bear, plush, children, fisher_price, collectible, decor, collectable   \n",
       "54  doll, miniature, dollhouse, puppet, toy, vintage, baby, peg, girl, house                     \n",
       "55  doll, miniature, dollhouse, puppet, toy, vintage, baby, peg, girl, house                     \n",
       "56  doll, miniature, dollhouse, puppet, toy, vintage, baby, peg, girl, house                     \n",
       "57  feel, gift, christmas, story, color, montessori, board, horse, wood, waldorf                 \n",
       "58  feel, gift, christmas, story, color, montessori, board, horse, wood, waldorf                 \n",
       "59  feel, gift, christmas, story, color, montessori, board, horse, wood, waldorf                 \n",
       "\n",
       "                                                                                                                                                                                                                                                                                                                                                              Tags  \n",
       "0   Waldorf doll outfit,14 inch doll pants,Steiner doll pant,Miniland doll pants,White  doll pajamas,Waldorf Doll Clothes,stripe doll pants,cotton doll pajamas,wool doll pants,cotton doll pants,gift for children,waldorf baby doll,stripe doll pajamas                                                                                                           \n",
       "1   Floral doll pants,Waldorf doll outfit,Steiner doll clothes,Miniland doll pajama,14 inch Doll pants,Waldorf Doll Clothes,liberty fabric pants,doll accessory,cotton doll pants,wool doll pants,miniland doll outfit,gift for children,Bitty baby clothes                                                                                                         \n",
       "2   playing card,playing card holder,children card holder,senior card holder,canasta card holder,wooden card holder,rummy card holder,playing card rack,engraved card holder,custom card holder,adult card holder,vinyl card holder,flash card holder                                                                                                               \n",
       "3   mystery game,13 dead end drive,vintage board game,childrens game,learning games,halloween board game,1990s board game,mystery board game,childrens board game,dead end board game,3d board game,milton bradley,board game                                                                                                                                       \n",
       "4   childrens game,learning games,family game night,board game,vintage games,ben casey,ben casey game,hospital game,vintage board game,vintage board games,board games,board game complete,family board game                                                                                                                                                        \n",
       "5   vintage board games,board game,board games,games,childrens games,children board games,board game toys,horse racing board,horse racing game,horse board game,vintage horses,jockey board game,horse racing jockey                                                                                                                                                \n",
       "6   Children's car necklace,Stroller necklace star,Children's car chain koala,Children's car chain stoffstern,Children's car chain with name,Stroller Chain Name,Stroller Chain Girl,Children's car chain pink,Children's car chain cloud,Children's car necklace grey,Children's car chain name girl,Children's car chain girl name,Children's car necklace white  \n",
       "7   Children's car necklace,Stroller necklace star,Children's car chain koala,Children's car chain stoffstern,Children's car chain with name,Stroller Chain Name,Stroller Chain Girl,Children's car chain pink,Children's car chain cloud,Children's car necklace grey,Children's car chain name girl,Children's car chain girl name,Children's car necklace white  \n",
       "8   Children's car necklace,Stroller necklace star,Children's car chain koala,Children's car chain stoffstern,Children's car chain with name,Stroller Chain Name,Stroller Chain Girl,Children's car chain pink,Children's car chain cloud,Children's car necklace grey,Children's car chain name girl,Children's car chain girl name,Children's car necklace white  \n",
       "9   KIDS CARD GAMES,CRAZY EIGHT GAME,OLD MAID GAME,VINTAGE CARD GAME,SNAP CARD GAME,HEARTS CARD GAME,RUMMY CARD GAME,BOXED CARD GAME SET,WORD MATCH GAME,WORD CARDS,KIDS WORD GAME,VINTAGE WORD MATCH,CHILD WORD LEARN                                                                                                                                              \n",
       "10  Flash Card Colors,Flash Card Numbers,Laminated Flashcard,Numbers and Colors,Learning Toy,Laminated Flash Card,Baby Shower Gift,Baby Gift Idea,Bright Flashcard Set,Toddler Gift Idea,Educational Toy Idea,Child Gift Idea,Laminate Flash Card                                                                                                                   \n",
       "11  Educational Games,Educational Toys,Printable Games,Toddler Games,Early Learning,Childrens Games,Bilingual Kids Game,Animal Memory Game,Memory Card Game,Matching Card Game,Baby Language Game,English French Game,Preschool Learning                                                                                                                            \n",
       "12  small puppy dog,crochet animals dog,crochet animal puppy,birthday gift puppy,grey puppy dog toys,amigurumi puppy,plush toy puppy,crochet stuffed dog,child soft toy puppy,little puppy gift,souvenir puppy dog,puppy birthday gift,dog gift for friend                                                                                                          \n",
       "13  mini animal plushies,child stuffed animal,small knit bunny,anime pink bunny,pink plush bunny,mini knit bunny,small bunny stuffie,knitted purpose,pink bunny plushy,knit pink bunny,plush pink bunny,bunny plushy,knitted pink plushy                                                                                                                            \n",
       "14  Crochet elephant,Baby shower gift,Original birthday idea child,Nursery center piece,Baby room decor,Newborn gift,Amigurumi elephant,Jungle theme baby,Toddler girl toy,Kids boy toy,Hospital comfort gift sick kid,Stuffed animals and plushies,Collectible for elephant lover                                                                                  \n",
       "15  Ten Piece Baking Set,Pretend Kitchen Play,Make Believe Toys,Kitchen Baking Set,Kids Kitchen Set,Childrens Baking Set,Pretend Play Toys,Vintage Toys,Vintage Pretend Toys,Vintage Kitchen Kids,Kids Old Baking Sets,Toy Baking Set Old,Child's Baking Set                                                                                                        \n",
       "16  miniature tea set,childs tea set,toy tea set,pretend toys,china tea set,small tea set,collectable tea set,home decor tea set,kids tea set,mini tea set,blue white,porcelain tea set                                                                                                                                                                             \n",
       "17  Felt Bandage Set,Felt Band-Aide,Toy bandaid set,play bandaid kit,toy doctor kit,play doctor kit,toy bandage set,toy doctor bag,felt doctor bag,toy first aid kit,felt first aide kit,play bandaids,doll bandaids                                                                                                                                                \n",
       "18  chair bassinet swing,hanging chair swing,nursery chair swing,montesori seat swing,therapy round swing,outdoor home swing,long rope disc swing,wood rope kid swing,home garden hammock,indoor child swing,sensory chair swing,home party kid swing,toddler fabric swing                                                                                          \n",
       "19  nursery mobile,baby crib mobile,cot mobile,baby girl mobile,hanging mobile,new baby gift,Forest baby mobile,Animal baby mobile,Woodland baby mobile,fox mobile,woodland mobile,felt baby mobile,rustic baby mobile                                                                                                                                              \n",
       "20  Hanging baby mobile,nursery mobile,baby cot decor,Hanging felt toys,baby felt garland,baby mobile kit,newborn gift,baby mobile,cot mobile,crib mobile,baby mobile felt,baby mobile girl,music mobile                                                                                                                                                            \n",
       "21  fathers keepsake,Custom Father Block,father day gift idea,cool father day gift,cool gifts for dad,unique gifts for dad,father gift ideas,best gift for father,father day gift son,popular fathers gift,father's day special,handmade items sale,perfect gift for dad                                                                                            \n",
       "22  fathers keepsake,Custom Father Block,father day gift idea,cool father day gift,father's unique gift,father to be gifts,unique gifts for dad,father gift ideas,best gift for father,father day gift son,popular fathers gift,father's day special,handmade items sale                                                                                            \n",
       "23  A son's first hero,Fathers Day Gift,Father's Day Block,gift ideas for dad,unique father's gift,best gifts for dad,presents for father,creative father gift,unique gift ideas,top fathers day gift,dad's day gifts,things for father's,gift idea father day                                                                                                      \n",
       "24  penlight theater,finger puppets,finger theater,dog finger puppet,finger theater for children,stuffed animal dog,soft tot dog,little plush dog,dog puppet for fingers,puppet theater,animal finger puppet,toy for fingers,petite plush doggy                                                                                                                     \n",
       "25  Cuddle cushions,birth pillow,Give birth,Baptissis Pillow Names,Baptisbe wish name,Pillows of embroidered name,Cuddle cushions individualised,Kindergarten Pillow Name,Secscrine application,Bunny child bunnies,Travel pillows,Holiday cushions,Bunny bunny boy bunny plane                                                                                     \n",
       "26  Cuddle cushions,birth pillow,Give birth,Baptissis Pillow Names,Baptisbe wish name,Pillows of embroidered name,Cuddle cushions individualised,Kindergarten Pillow Name,Secscrine application,Bunny child bunnies,Travel pillows,Holiday cushions,Bunny bunny boy bunny plane                                                                                     \n",
       "27  pink girl music box,pink butterfly musical cushion,butterfly music box,purple girl butterfly cushion,Baby room butterfly deco,Pink purple baby room decoration,pink heart baby musical gift,deco baby liberty butterfly,pink liberty music cushion,Music box liberty papillo,Gift baby girl liberty pink,custom liberty cushion,pink liberty butterfly cushion  \n",
       "28  music box made in France,Baby musical gift,Custom baby cushion,Original baby room décor,baby music cushion,Deco turquoise baby's room,turquoise music box,Baby heart deco turquoise,turquoise music cushion,turquoise baby musical gift,turquoise baby music cushion,turquoise heart deco cushion,Franc turquoise music box                                     \n",
       "29  my first handbag,new baby gift,its a girl gifts,baby shower gifts,baby toys,baby fabric gifts,cute baby gifts,original baby gifts,baby shower bags,childs first handbag,nursery gifts,gift for 3 year old,cute baby fabric                                                                                                                                      \n",
       "30  Toddler baby book,Quiet Book Pages,Baby activity book,Quiet book for boy,Unique baby gift,Newborn baby gift,custom made book,Sensory book,Felt Quiet Book,baby book first year,Custom quiet book,Toddler busy book,Learning book game                                                                                                                           \n",
       "31  infant development,Develop toddler book,Develop fabric book,Infant busy book,Funny felt book,Special sensory book,motor soft book,First sensory book,special busy book,Smart felt book,Cloth activity book,Custom quiet book,Custom busy book                                                                                                                   \n",
       "32  Quiet Book,Toddler Quiet Book,Pages Busy Book,Baby Quiet Book,Boy Quiet Book,Girls Quiet Books,Felt Quiet Book,Toddler Sensory book,Travel Toddler Toys,sensory quiet book,montessori busy book,fabric activity book,first birthday gift                                                                                                                        \n",
       "33  DIY block kit,DIY baby block kit,baby block,wood baby blocks,unfinished baby bloc,2 inch wooden blocks,baby boy nursery,baby shower activity,wood block,wooden block,wooden baby block,DIY baby blocks,baby girl nursery                                                                                                                                        \n",
       "34  DIY baby block kit,DIY block kit,baby block,wooden baby block,unfinished baby bloc,2 inch wooden blocks,baby girl nursery,baby shower activity,wood block,wooden block,wood baby blocks,DIY baby blocks,baby boy nursery                                                                                                                                        \n",
       "35  DIY block kit,DIY baby block kit,baby blocks,wood baby blocks,unfinished baby bloc,2 inch wooden blocks,baby boy nursery,baby girl nursery,baby shower activity,wood block,wooden block,wooden baby block,DIY baby block                                                                                                                                        \n",
       "36  Unique gift cat,Souvenir toy cat,Cat bag,Cat lover gift,Knitted cat,Cat stuffed animal,Cat doll girl,Amigurumi cat,Cuddly toy cat,Children room decor,Knitted cat art doll,Crocheted gift cat,Funny cat toy                                                                                                                                                     \n",
       "37  Lego Table,Lego Building Table,Lego Bricks,Lego Base Plates,Childrens Lego table,childs play table,childrens lego,childrens table,Activity Table,Large Lego Table,Lego Storage Table,Toy Organizer,Girls Lego Table                                                                                                                                             \n",
       "38  soft sculpture cat,stuffed black cat,one of a kind,handmade original,Handmade soft cat,Stuffed animals,vintage stuffed toys,sad cat doll,Halloween cat,cat clothed in linen,black cat decor,stuffed cat toy,child's stuffed toy                                                                                                                                 \n",
       "39  Kids Behavior Chart,Responsibility Chart,Chores Chart,Kids Chore Chart,Childs Chore Chart,Boys Chore Chart,Girls Chore Chart,Prints Chore Chart,Printable Chores,Printable Task Chore,Childs Chore List,Kids Chore List,Printable Task Chart                                                                                                                    \n",
       "40  Kids Behavior Chart,Responsibility Chart,Chores Chart,Kids Chore Chart,Childs Chore Chart,Boys Chore Chart,Girls Chore Chart,Prints Chore Chart,Printable Chores,Printable Task Chore,Childs Chore List,Kids Chore List,Printable Task Chart                                                                                                                    \n",
       "41  Kids Behavior Chart,Responsibility Chart,Chores Chart,Kids Chore Chart,Childs Chore Chart,Boys Chore Chart,Girls Chore Chart,Prints Chore Chart,Printable Chores,Printable Task Chore,Childs Chore List,Kids Chore List,Printable Task Chart                                                                                                                    \n",
       "42  children puzzle,pre school toy,preschool learning,preschool activities,preschool puzzle,toddler puzzles,animal theme puzzles,animal themed games,pre school puzzles,kindergarten puzzles,animal room decor,Puzzle pieces craft,SEE and SPELL Puzzle                                                                                                             \n",
       "43  children puzzle,pre school toy,preschool learning,preschool activities,preschool puzzle,toddler puzzles,animal theme puzzles,animal themed games,pre school puzzles,kindergarten puzzles,animal room decor,Puzzle pieces craft,SEE and SPELL Puzzle                                                                                                             \n",
       "44  Educational Poster,French poster,school printable,classroom poster,French teacher,French for children,French class decor,learn French words,French words poster,French wall  print,learning poster,vocabulary poster,school poster                                                                                                                              \n",
       "45  Montessori baby gift,Baby gift set,Baby shower gift,baby nursery decor,Wooden teether toy,Organic teether ring,Christmas baby gift,Fox teether,Crinkle tag blanket,Sheep print taggie,Organic teething toy,Sensory Blanket,Infant sheep blankie                                                                                                                 \n",
       "46  wooden easter eggs,rainbow wood toys,wooden teething toys,baby gift set,baby shower gift,eco friendly toys,waldorf wooden toys,montessori wood toys,baby teething toys,crochet teething toy,neutral baby toy,pretend play toys,kangaroo care                                                                                                                    \n",
       "47  montessori baby toys,wooden elephant,wooden teether,Baby girl teether,waldorf baby toy,new baby gift ideas,Crochet teething toy,cream peach yellow,baby shower chewing,organic baby toys,wooden teether toy,vegan infant animals,sensory toys                                                                                                                   \n",
       "48  Pretend Play Food,Pretend Play Garden,Fabric Play Food,Fleece Play Food,Felt Garden Food,Pumpkins Bananas,Waldorf Play Felt,Felt Play Food,Montessori Play Felt,Play Felt Vegetables,Play Garden Set,Toy Felt Food,Felt Pretend Garden                                                                                                                          \n",
       "49  wool felt food,felt food valentines,wool felt tea party,felt tea party cake,felt strawberry cake,wool felt strawberry,wool felt desserts,playfood desserts,pretend cakes,wool pretend cakes,pretend desserts,pretend pink cake,children's felt toy                                                                                                              \n",
       "50  Donut Plush Toy,Crochet Food Toys,Donut Lover Gifts,Crochet Play Food,Amigurumi Play Food,Pretend Play Kitchen,Cute Handmade Gifts,Stuffed Donut Toys,Chocolate Donut Toy,Strawberry Vanilla,Birthday Cake Plush,Donut with Sprinkles,Childrens Play Food                                                                                                       \n",
       "51  Turtle toys rubber,Rubber turtle Russia,Russia rubber toys,Toys Russian rubber,Toys vintage rubber,USSR toys rubber,Rubber toys Russian,Russian toys vintage,Turtle rubber Soviet,Russian toys rubber,Toys children,Made in USSR,Made in Russia                                                                                                                 \n",
       "52  Rubber toys Russia,Russian toys rubber,Soviet Union toys,USSR toys rubber,Gnome rubber Russia,Toys for children,Toys rubber Russia,Russian toys vintage,Soviet toys Russia,Rubber Gnome USSR,Made in Russia,Made in USSR,Made in Soviet Union                                                                                                                   \n",
       "53  vintage hallmark,vintage christmas,christmas animal,collectable plush,childrens toys,plush animal toys,retro christmas,silverlining toys,jointed teddy bear,plush teddy bear,vintage teddy bear,white teddy bear,white plush bear                                                                                                                               \n",
       "54  Human Childs hair,Long Hair male Doll,Long Hair Ken Doll,Twilight Edward,Long Hair Men,Long Hair Doll,Long Hair Men Doll,Human hair On Doll,Long Hair Guys,Long Hair,Long Hair Barbie,Christmas Doll,Male Doll                                                                                                                                                  \n",
       "55  american girl top,american girl jeans,18 inch doll jeans,18 inch size jeans,18 inch doll top,18 inch size top,18 inch halloween,18 inch holiday top,large doll holiday,large doll halloween,large doll jeans,play doll clothes,childs doll clothes                                                                                                              \n",
       "56  ANTIQUE DOLL,VINTAGE DOLL,DOLL CLOTHES,VTG DOLL CLOTHES,ANTIQUE DOLL CLOTHES,MINIATURE TRUNK,MINI DOLL CLOTHES,MINI DOLL TRUNK,MINI CLOTHES TRUNK,ANTIQUE MINI TRUNK,DOLL CLOTHES TRUNK,ANTIQUE CHILDS TRUNK,CHILDS TRUNK                                                                                                                                       \n",
       "57  Nature floor study,Waldorf Montessori,Happy hopscotch,wood decals decal,flowers flower pack,fall room decor,children toy game,Autumn sticker wall,cute floor stickers,bundle flower hop,sensory path jump,classroom walk gift,sensory path                                                                                                                      \n",
       "58  craft kit,activity kit,girls craft kit,girls activity kit,childs craft kit,childs activity kit,scarf craft kit,girls scarf kit,party activity kit,scarf kit,birthday activity,birthday gift,holiday gift                                                                                                                                                        \n",
       "59  Felt Christmas tree,tree for toddlers,christmas tree kit,Felt tree decoration,tree kit for kids,Christmas ornaments,Felt tree ornaments,felt ornaments,baby christmas gift,toddler christmas,wall christmas tree,felt christmas toy,montessori materials                                                                                                        "
      ]
     },
     "execution_count": 764,
     "metadata": {},
     "output_type": "execute_result"
    }
   ],
   "source": [
    "# Group top 5 sentences under each topic\n",
    "sent_topics_sorteddf_mallet = pd.DataFrame()\n",
    "\n",
    "sent_topics_outdf_grpd = df_topic_sents_keywords_tag.groupby('Dominant_Topic')\n",
    "\n",
    "for i, grp in sent_topics_outdf_grpd:\n",
    "    sent_topics_sorteddf_mallet = pd.concat([sent_topics_sorteddf_mallet, \n",
    "                                             grp.sort_values(['Perc_Contribution'], ascending=[0]).head(3)], \n",
    "                                            axis=0)\n",
    "\n",
    "# Reset Index    \n",
    "sent_topics_sorteddf_mallet.reset_index(drop=True, inplace=True)\n",
    "\n",
    "# Format\n",
    "sent_topics_sorteddf_mallet.columns = ['Topic_Num', \"Topic_Perc_Contrib\", \"Keywords\", \"Tags\"]\n",
    "\n",
    "# Show\n",
    "sent_topics_sorteddf_mallet#.head(30)"
   ]
  },
  {
   "cell_type": "markdown",
   "metadata": {},
   "source": [
    "__Topic distribution across documents__"
   ]
  },
  {
   "cell_type": "code",
   "execution_count": 763,
   "metadata": {},
   "outputs": [
    {
     "data": {
      "text/html": [
       "<div>\n",
       "<style scoped>\n",
       "    .dataframe tbody tr th:only-of-type {\n",
       "        vertical-align: middle;\n",
       "    }\n",
       "\n",
       "    .dataframe tbody tr th {\n",
       "        vertical-align: top;\n",
       "    }\n",
       "\n",
       "    .dataframe thead th {\n",
       "        text-align: right;\n",
       "    }\n",
       "</style>\n",
       "<table border=\"1\" class=\"dataframe\">\n",
       "  <thead>\n",
       "    <tr style=\"text-align: right;\">\n",
       "      <th></th>\n",
       "      <th>Dominant_Topic</th>\n",
       "      <th>Topic_Keywords</th>\n",
       "      <th>Num_Documents</th>\n",
       "      <th>Perc_Documents</th>\n",
       "    </tr>\n",
       "  </thead>\n",
       "  <tbody>\n",
       "    <tr>\n",
       "      <td>0.0</td>\n",
       "      <td>11.0</td>\n",
       "      <td>block, baby, wooden, puzzle, wood, toy, gift, name, shower, decor</td>\n",
       "      <td>3041.0</td>\n",
       "      <td>0.0443</td>\n",
       "    </tr>\n",
       "    <tr>\n",
       "      <td>1.0</td>\n",
       "      <td>4.0</td>\n",
       "      <td>gift, baby, stuff, animal, birthday, plush, toy, crochet, doll, easter</td>\n",
       "      <td>1557.0</td>\n",
       "      <td>0.0227</td>\n",
       "    </tr>\n",
       "    <tr>\n",
       "      <td>2.0</td>\n",
       "      <td>4.0</td>\n",
       "      <td>gift, baby, stuff, animal, birthday, plush, toy, crochet, doll, easter</td>\n",
       "      <td>2731.0</td>\n",
       "      <td>0.0398</td>\n",
       "    </tr>\n",
       "    <tr>\n",
       "      <td>3.0</td>\n",
       "      <td>13.0</td>\n",
       "      <td>chart, mask, gift, chore, party, costume, halloween, animal, dress, children</td>\n",
       "      <td>2918.0</td>\n",
       "      <td>0.0425</td>\n",
       "    </tr>\n",
       "    <tr>\n",
       "      <td>4.0</td>\n",
       "      <td>2.0</td>\n",
       "      <td>toy, baby, car, wooden, gift, gym, play, montessori, chain, wood</td>\n",
       "      <td>7541.0</td>\n",
       "      <td>0.1099</td>\n",
       "    </tr>\n",
       "    <tr>\n",
       "      <td>5.0</td>\n",
       "      <td>1.0</td>\n",
       "      <td>board, game, vintage, busy, baby, toddler, fox, montessori, sensory, toy</td>\n",
       "      <td>3612.0</td>\n",
       "      <td>0.0527</td>\n",
       "    </tr>\n",
       "    <tr>\n",
       "      <td>6.0</td>\n",
       "      <td>14.0</td>\n",
       "      <td>puzzle, vintage, disney, jigsaw, school, game, wood, wooden, children, learn</td>\n",
       "      <td>2328.0</td>\n",
       "      <td>0.0339</td>\n",
       "    </tr>\n",
       "    <tr>\n",
       "      <td>7.0</td>\n",
       "      <td>4.0</td>\n",
       "      <td>gift, baby, stuff, animal, birthday, plush, toy, crochet, doll, easter</td>\n",
       "      <td>2646.0</td>\n",
       "      <td>0.0386</td>\n",
       "    </tr>\n",
       "    <tr>\n",
       "      <td>8.0</td>\n",
       "      <td>5.0</td>\n",
       "      <td>play, toy, set, pretend, bag, sensory, montessori, tea, vintage, gift</td>\n",
       "      <td>1990.0</td>\n",
       "      <td>0.0290</td>\n",
       "    </tr>\n",
       "    <tr>\n",
       "      <td>9.0</td>\n",
       "      <td>5.0</td>\n",
       "      <td>play, toy, set, pretend, bag, sensory, montessori, tea, vintage, gift</td>\n",
       "      <td>5338.0</td>\n",
       "      <td>0.0778</td>\n",
       "    </tr>\n",
       "  </tbody>\n",
       "</table>\n",
       "</div>"
      ],
      "text/plain": [
       "     Dominant_Topic  \\\n",
       "0.0  11.0             \n",
       "1.0  4.0              \n",
       "2.0  4.0              \n",
       "3.0  13.0             \n",
       "4.0  2.0              \n",
       "5.0  1.0              \n",
       "6.0  14.0             \n",
       "7.0  4.0              \n",
       "8.0  5.0              \n",
       "9.0  5.0              \n",
       "\n",
       "                                                                   Topic_Keywords  \\\n",
       "0.0  block, baby, wooden, puzzle, wood, toy, gift, name, shower, decor              \n",
       "1.0  gift, baby, stuff, animal, birthday, plush, toy, crochet, doll, easter         \n",
       "2.0  gift, baby, stuff, animal, birthday, plush, toy, crochet, doll, easter         \n",
       "3.0  chart, mask, gift, chore, party, costume, halloween, animal, dress, children   \n",
       "4.0  toy, baby, car, wooden, gift, gym, play, montessori, chain, wood               \n",
       "5.0  board, game, vintage, busy, baby, toddler, fox, montessori, sensory, toy       \n",
       "6.0  puzzle, vintage, disney, jigsaw, school, game, wood, wooden, children, learn   \n",
       "7.0  gift, baby, stuff, animal, birthday, plush, toy, crochet, doll, easter         \n",
       "8.0  play, toy, set, pretend, bag, sensory, montessori, tea, vintage, gift          \n",
       "9.0  play, toy, set, pretend, bag, sensory, montessori, tea, vintage, gift          \n",
       "\n",
       "     Num_Documents  Perc_Documents  \n",
       "0.0  3041.0         0.0443          \n",
       "1.0  1557.0         0.0227          \n",
       "2.0  2731.0         0.0398          \n",
       "3.0  2918.0         0.0425          \n",
       "4.0  7541.0         0.1099          \n",
       "5.0  3612.0         0.0527          \n",
       "6.0  2328.0         0.0339          \n",
       "7.0  2646.0         0.0386          \n",
       "8.0  1990.0         0.0290          \n",
       "9.0  5338.0         0.0778          "
      ]
     },
     "execution_count": 763,
     "metadata": {},
     "output_type": "execute_result"
    }
   ],
   "source": [
    "# Number of Documents for Each Topic\n",
    "topic_counts = df_topic_sents_keywords_tag['Dominant_Topic'].value_counts()\n",
    "\n",
    "# Percentage of Documents for Each Topic\n",
    "topic_contribution = round(topic_counts/topic_counts.sum(), 4)\n",
    "\n",
    "# Topic Number and Keywords\n",
    "topic_num_keywords = df_topic_sents_keywords_tag[['Dominant_Topic', 'Topic_Keywords']]\n",
    "\n",
    "# Concatenate Column wise\n",
    "df_dominant_topics = pd.concat([topic_num_keywords, topic_counts, topic_contribution], axis=1)\n",
    "\n",
    "# Change Column names\n",
    "df_dominant_topics.columns = ['Dominant_Topic', 'Topic_Keywords', 'Num_Documents', 'Perc_Documents']\n",
    "\n",
    "# Show\n",
    "df_dominant_topics.head(10)"
   ]
  },
  {
   "cell_type": "code",
   "execution_count": null,
   "metadata": {},
   "outputs": [],
   "source": [
    "# example\n",
    "#>>> other_texts = [ ['computer', 'time', 'graph'], ['survey', 'response', 'eps'], ['human', 'system', 'computer']]\n",
    "# other_corpus = [common_dictionary.doc2bow(text) for text in other_texts]\n",
    "# unseen_doc = other_corpus[0]\n",
    "# vector = lda[unseen_doc] \n",
    "\n",
    "test = [['busy', 'engage', 'gift', 'puzzle']]\n",
    "\n",
    "id2word_test = corpora.Dictionary(test)\n",
    "\n",
    "# Create Corpus\n",
    "\n",
    "# Term Document Frequency\n",
    "corpus_test = [id2word_test.doc2bow(text) for text in test]\n",
    "\n",
    "print(corpus_test[0])\n",
    "topics = sorted(optimal_model[corpus_test],\n",
    "                key=lambda \n",
    "                x:x[1],\n",
    "                reverse=True)\n",
    "print(topics)"
   ]
  }
 ],
 "metadata": {
  "kernelspec": {
   "display_name": "Python 3",
   "language": "python",
   "name": "python3"
  },
  "language_info": {
   "codemirror_mode": {
    "name": "ipython",
    "version": 3
   },
   "file_extension": ".py",
   "mimetype": "text/x-python",
   "name": "python",
   "nbconvert_exporter": "python",
   "pygments_lexer": "ipython3",
   "version": "3.7.4"
  }
 },
 "nbformat": 4,
 "nbformat_minor": 2
}

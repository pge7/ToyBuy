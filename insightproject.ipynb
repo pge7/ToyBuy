{
 "cells": [
  {
   "cell_type": "code",
   "execution_count": null,
   "metadata": {},
   "outputs": [],
   "source": [
    "import os, json\n",
    "import pandas as pd\n",
    "import numpy as np\n",
    "import gzip\n",
    "from collections import Counter\n",
    "from PIL import Image\n",
    "import requests\n",
    "from io import BytesIO\n",
    "import math"
   ]
  },
  {
   "cell_type": "code",
   "execution_count": null,
   "metadata": {},
   "outputs": [],
   "source": [
    "def parse(path):\n",
    "    g = gzip.open(path, 'r')\n",
    "    for l in g:\n",
    "        yield eval(l)\n",
    "\n",
    "def getDF(path):\n",
    "    i = 0\n",
    "    d = {}\n",
    "    for f in parse(path):\n",
    "        d[i] = f\n",
    "        i = i+1\n",
    "    return pd.DataFrame.from_dict(d, orient = 'index')\n",
    "\n",
    "def preprocessing(df):\n",
    "    df['categories']= df.categories.apply(lambda x: x[0])\n",
    "    return df\n",
    "\n",
    "def removeCate(df, lis):\n",
    "    for l in lis:\n",
    "        df = df.loc[df.categories.apply(lambda x: l not in x), :]\n",
    "    return df\n",
    "\n",
    "def filterCate(df, lis):\n",
    "    for l in lis:\n",
    "        col = 'category_'+l\n",
    "        df = df.loc[df[col] == 1, :]\n",
    "    return df\n",
    "\n",
    "def basicInfo(df):\n",
    "    return df.shape, df.columns, df.isnull().sum(axis = 0), df.apply(lambda x: x.dtype, axis = 0)\n",
    "\n",
    "def subSet(df, num, num_most_common):\n",
    "    sub = df.loc[df.categories.apply(lambda x: len(x) == num), :]\n",
    "    return Counter([i for j in sub.categories for i in j]).most_common(num_most_common)\n",
    "\n",
    "def binaryCate(df, lis):\n",
    "    for i in lis:\n",
    "        df['category_' + i] = df.categories.apply(lambda x: 1 if i in x else 0)\n",
    "    return df\n",
    "\n",
    "def downloadPicSimple(df, path):\n",
    "    asins = []\n",
    "    classes = []\n",
    "    result = pd.DataFrame()\n",
    "    for i in range(df.shape[0]):\n",
    "        url = df.iloc[i, 5]\n",
    "        if pd.isna(url):\n",
    "            continue\n",
    "        try:\n",
    "            response = requests.get(url)\n",
    "            img = Image.open(BytesIO(response.content))\n",
    "            if img.mode == 'P':\n",
    "                img = img.convert('RGB')\n",
    "            asin = df.iloc[i,0]\n",
    "            cate = \",\".join(df.iloc[i,7])\n",
    "            img.save(path+asin+'_'+cate+'.jpg')\n",
    "            asins.append(asin)\n",
    "            classes.append(cate)\n",
    "        except OSError:\n",
    "            continue\n",
    "    result['asin'] = asins\n",
    "    result['class'] = classes\n",
    "    return result\n",
    "\n",
    "def downloadPic(df, path, label, num_per_category = 10000000):\n",
    "    asins = []\n",
    "    classes = []\n",
    "    result = pd.DataFrame()\n",
    "    flag = False\n",
    "    for i in range(df.shape[0]):\n",
    "        if i == num_per_category:\n",
    "            break\n",
    "        url = df.iloc[i, 5]\n",
    "        if pd.isna(url):\n",
    "            continue\n",
    "        try:\n",
    "            response = requests.get(url)\n",
    "            img = Image.open(BytesIO(response.content))\n",
    "            if flag != True:\n",
    "                if img.mode == 'P':\n",
    "                    img = img.convert('RGB')\n",
    "                asin = df.iloc[i,0]\n",
    "                cate = \",\".join(df.iloc[i,7])\n",
    "                img.save(path+asin+'_'+cate+'.jpg')\n",
    "                asins.append(asin)\n",
    "                classes.append(label)\n",
    "        except OSError:\n",
    "            flag = True\n",
    "            continue\n",
    "#         asin = df.iloc[i,0]\n",
    "#         img.save(path+asin+'.jpg')\n",
    "#         asins.append(asin)\n",
    "#         classes.append(label)\n",
    "        if flag == True:\n",
    "            flag = False\n",
    "    result['asin'] = asins\n",
    "    result['class'] = classes\n",
    "    return result\n",
    "        \n",
    "def downLoadCategories(df, lis, path, num_per_category):\n",
    "    labels = pd.DataFrame({'asin':[], 'class': []})\n",
    "    for l in lis:\n",
    "        temp = df.loc[df.categories.apply(lambda x: l in x), :]\n",
    "        d = downloadPic(temp, path, l, num_per_category)\n",
    "        labels = labels.append(d)\n",
    "        \n",
    "    return labels#.to_csv('labels.csv')\n",
    "        \n",
    "def testProduct(df, asin_num):\n",
    "    list1 = df.loc[df.asin==asin_num,:]\n",
    "    return list1.categories.tolist(), list1.reviewTime"
   ]
  },
  {
   "cell_type": "code",
   "execution_count": null,
   "metadata": {},
   "outputs": [],
   "source": [
    "review = getDF(\"meta_Toys_and_Games.json.gz\")\n",
    "review = preprocessing(review)\n",
    "review = removeCate(review, ['Grown-Up Toys'])"
   ]
  },
  {
   "cell_type": "code",
   "execution_count": null,
   "metadata": {},
   "outputs": [],
   "source": [
    "reviews = pd.read_json('reviews_Toys_and_Games.json', lines = True)"
   ]
  },
  {
   "cell_type": "code",
   "execution_count": null,
   "metadata": {},
   "outputs": [],
   "source": [
    "#small1 = review.iloc[0:10, :] #small2 = reviews.iloc[0:10, :] #df = pd.merge(small1, small2, how='left', on='asin', validate=\"one_to_many\")#small1 = small1.merge(small2, left_on = 'asin', right_on = 'asin')\n",
    "merged = pd.merge(review, reviews, how='left', on=['asin'])"
   ]
  },
  {
   "cell_type": "code",
   "execution_count": null,
   "metadata": {},
   "outputs": [],
   "source": [
    "df = review.copy()\n",
    "df = preprocessing(df)\n",
    "df = removeCate(df, ['Grown-Up Toys'])"
   ]
  },
  {
   "cell_type": "code",
   "execution_count": null,
   "metadata": {},
   "outputs": [],
   "source": [
    "def productInfo(df, asin_num = '0131358936'):\n",
    "    try:\n",
    "        subset = df.loc['asin' == asin_num, :]\n",
    "        review_num = len(Counter(subset.reviewText))\n",
    "    except KeyError:\n",
    "        pass\n",
    "    return df.isnull().sum(axis = 0), df.shape"
   ]
  },
  {
   "cell_type": "code",
   "execution_count": null,
   "metadata": {},
   "outputs": [],
   "source": [
    "def showImg(df, row, col1, col2):\n",
    "    url = df.iloc[row, col1]\n",
    "    review = df.iloc[row, col2]\n",
    "    response = requests.get(url)\n",
    "    img = Image.open(BytesIO(response.content))\n",
    "    if img.mode == 'P':\n",
    "        img = img.convert('RGB')\n",
    "    return img, review\n",
    "# img, comment = showImg(temp1, 100, 5, 12)\n",
    "# print(comment)\n",
    "# img"
   ]
  },
  {
   "cell_type": "code",
   "execution_count": null,
   "metadata": {},
   "outputs": [],
   "source": [
    "cleaned = merged.copy()\n",
    "def filtered(df, removelist):\n",
    "    for l in removelist:\n",
    "        df = df.loc[pd.notnull(df[l]), :]\n",
    "    return df\n",
    "\n",
    "cleaned = filtered(cleaned, ['title', 'price', 'reviewerID', 'description']) # reviewID represent the number of missing reviews"
   ]
  },
  {
   "cell_type": "code",
   "execution_count": null,
   "metadata": {},
   "outputs": [],
   "source": [
    "productInfo(cleaned, '0131358936')"
   ]
  },
  {
   "cell_type": "code",
   "execution_count": null,
   "metadata": {},
   "outputs": [],
   "source": [
    "# how many different products and how many different categories\n",
    "len(cleaned.asin.unique()), cleaned.apply(lambda x: x.dtype)"
   ]
  },
  {
   "cell_type": "code",
   "execution_count": null,
   "metadata": {},
   "outputs": [],
   "source": [
    "def fillNAs(df, lis):\n",
    "    for l in lis:\n",
    "        df[l] = df[l].fillna('unknown')\n",
    "    return df\n",
    "cleaned = fillNAs(cleaned, ['salesRank', 'brand', 'related', 'reviewerID', 'reviewerName'])"
   ]
  },
  {
   "cell_type": "code",
   "execution_count": null,
   "metadata": {},
   "outputs": [],
   "source": [
    "# eda: how many categories\n",
    "#binaryCate(df, lis)\n",
    "#total categories\n",
    "cleaned.isnull().sum(axis = 0)"
   ]
  },
  {
   "cell_type": "code",
   "execution_count": null,
   "metadata": {},
   "outputs": [],
   "source": [
    "user_gr10 = list(dict(Counter(cleaned.asin).most_common(34000)).values())\n",
    "key_gr10 = list(dict(Counter(cleaned.asin).most_common(34000)).keys())\n",
    "df_gr10 = cleaned.loc[cleaned.asin.apply(lambda x: x in key_gr10), :]"
   ]
  },
  {
   "cell_type": "code",
   "execution_count": null,
   "metadata": {},
   "outputs": [],
   "source": [
    "from "
   ]
  },
  {
   "cell_type": "code",
   "execution_count": null,
   "metadata": {},
   "outputs": [],
   "source": [
    "cleaned_train = cleaned.loc[0: math.floor(0.7 * cleaned.shape[0]), :]\n",
    "cleaned_test = cleaned.loc[math.floor(0.7 * cleaned.shape[0]): -1, :]\n"
   ]
  },
  {
   "cell_type": "code",
   "execution_count": null,
   "metadata": {},
   "outputs": [],
   "source": [
    "cleaned_1st.loc[cleaned_1st.asin == 'B000W3XEQM', 'price']"
   ]
  },
  {
   "cell_type": "code",
   "execution_count": null,
   "metadata": {},
   "outputs": [],
   "source": [
    "cleaned.loc[:, ['reviewerID', 'overall']].groupby('reviewerID').agg('mean').sort"
   ]
  },
  {
   "cell_type": "code",
   "execution_count": null,
   "metadata": {},
   "outputs": [],
   "source": [
    "temp = merged.dropna()"
   ]
  },
  {
   "cell_type": "code",
   "execution_count": null,
   "metadata": {},
   "outputs": [],
   "source": [
    "temp.shape, len(Counter(temp.asin))"
   ]
  },
  {
   "cell_type": "code",
   "execution_count": null,
   "metadata": {},
   "outputs": [],
   "source": [
    "most_common3 = list(dict(subSet(df, 3, 30)).keys())"
   ]
  },
  {
   "cell_type": "code",
   "execution_count": null,
   "metadata": {},
   "outputs": [],
   "source": [
    "temp1 = temp.loc[temp.reviewText.str.contains('inexpensive'), :]"
   ]
  },
  {
   "cell_type": "code",
   "execution_count": null,
   "metadata": {},
   "outputs": [],
   "source": [
    "temp1.shape, len(Counter(temp1.asin))"
   ]
  },
  {
   "cell_type": "code",
   "execution_count": null,
   "metadata": {},
   "outputs": [],
   "source": [
    "temp1.loc[0,12]"
   ]
  },
  {
   "cell_type": "code",
   "execution_count": null,
   "metadata": {},
   "outputs": [],
   "source": [
    "allpics = downloadPicSimple(df, './picall/')"
   ]
  },
  {
   "cell_type": "code",
   "execution_count": null,
   "metadata": {},
   "outputs": [],
   "source": [
    "labels = downLoadCategories(df, most_common3, './picall/', 5)"
   ]
  },
  {
   "cell_type": "code",
   "execution_count": null,
   "metadata": {},
   "outputs": [],
   "source": [
    "labels.to_csv('labels.csv')"
   ]
  },
  {
   "cell_type": "code",
   "execution_count": null,
   "metadata": {},
   "outputs": [],
   "source": [
    "#testProduct(reviews, '0735335192')\n",
    "reviews.loc[reviews.asin =='0000191639', 'reviewTime']"
   ]
  },
  {
   "cell_type": "code",
   "execution_count": null,
   "metadata": {},
   "outputs": [],
   "source": [
    "keep_list = ['Learning & Education', 'Early Development Toys', 'Sorting & Stacking', 'Pretend Play', 'Building Toys'\\\n",
    "            'Toy Sports', 'Trains & Accessories', 'Kitchen Toys', 'Stacking Blocks', 'Beauty & Fashion','Tricycles, Scooters & Wagons'\\\n",
    "            ]\n",
    "games = df.loc[df.categories.apply(lambda x: 'Games' in x), :]\n",
    "puzzle = df.loc[df.categories.apply(lambda x: 'Jigsaw Puzzles' in x), :]\n",
    "education = df.loc[df.categories.apply(lambda x: keep_list[7] in x), :]\n",
    "#puzzle.iloc[0, 5]\n",
    "education.iloc[100,5]"
   ]
  },
  {
   "cell_type": "code",
   "execution_count": null,
   "metadata": {},
   "outputs": [],
   "source": [
    "import requests\n",
    "response = requests.get('https://openapi.etsy.com/v2/users/etsystore?api_key=')"
   ]
  },
  {
   "cell_type": "code",
   "execution_count": null,
   "metadata": {},
   "outputs": [],
   "source": [
    "#response = requests.get('https://openapi.etsy.com/v2/listings/696105354.json?api_key=h3fhkkwc15jzoo7rp8laituj?')\n",
    "#response = requests.get('https://openapi.etsy.com/v2/listings/696105354.json?api_key=h3fhkkwc15jzoo7rp8laituj?')\n",
    "response = requests.get('https://openapi.etsy.com/v2/listings/active?api_key=&keywords=toys&limit=100&offset=50000&includes=Images,Shop,User,inventory')"
   ]
  },
  {
   "cell_type": "code",
   "execution_count": null,
   "metadata": {},
   "outputs": [],
   "source": [
    "print(response.status_code)"
   ]
  },
  {
   "cell_type": "code",
   "execution_count": null,
   "metadata": {},
   "outputs": [],
   "source": [
    "\n",
    "# print(response.json())\n",
    "result = response.json()    "
   ]
  },
  {
   "cell_type": "code",
   "execution_count": null,
   "metadata": {},
   "outputs": [],
   "source": [
    "results[0]"
   ]
  },
  {
   "cell_type": "code",
   "execution_count": null,
   "metadata": {},
   "outputs": [],
   "source": [
    "results = result['results']\n",
    "data = pd.DataFrame()\n",
    "for i in range(len(results)):\n",
    "    temp = results[i]\n",
    "    for k, v in temp.items():  \n",
    "        if isinstance(v, list) and len(v) != 0 and isinstance(v[0], dict):\n",
    "            img = v[0]\n",
    "            for k1, v1 in img.items():\n",
    "                data[k1] = v1\n",
    "        elif isinstance(v, list):\n",
    "            if len(v) == 0:\n",
    "                data[k] = None\n",
    "            else:\n",
    "                print()\n",
    "                data.loc[i, k] = [v]\n",
    "        elif isinstance(v, dict):\n",
    "            for k1, v1 in img.items():\n",
    "                if isinstance(v1, list):\n",
    "                    data[k1] = [v1]\n",
    "                else:\n",
    "                    data[k1] = v1\n",
    "        else:\n",
    "            print(v)\n",
    "            data.loc[i, k] = v"
   ]
  },
  {
   "cell_type": "code",
   "execution_count": null,
   "metadata": {},
   "outputs": [],
   "source": [
    "d = pd.DataFrame()\n",
    "d['1'] = [[]]"
   ]
  }
 ],
 "metadata": {
  "kernelspec": {
   "display_name": "Python 3",
   "language": "python",
   "name": "python3"
  },
  "language_info": {
   "codemirror_mode": {
    "name": "ipython",
    "version": 3
   },
   "file_extension": ".py",
   "mimetype": "text/x-python",
   "name": "python",
   "nbconvert_exporter": "python",
   "pygments_lexer": "ipython3",
   "version": "3.7.3"
  }
 },
 "nbformat": 4,
 "nbformat_minor": 2
}

{
 "cells": [
  {
   "cell_type": "code",
   "execution_count": 17,
   "metadata": {},
   "outputs": [],
   "source": [
    "import os, json\n",
    "import pandas as pd\n",
    "import numpy as np\n",
    "import gzip\n",
    "from collections import Counter\n",
    "from PIL import Image\n",
    "import requests\n",
    "from io import BytesIO\n",
    "import math"
   ]
  },
  {
   "cell_type": "code",
   "execution_count": 2,
   "metadata": {},
   "outputs": [],
   "source": [
    "def parse(path):\n",
    "    g = gzip.open(path, 'r')\n",
    "    for l in g:\n",
    "        yield eval(l)\n",
    "\n",
    "def getDF(path):\n",
    "    i = 0\n",
    "    d = {}\n",
    "    for f in parse(path):\n",
    "        d[i] = f\n",
    "        i = i+1\n",
    "    return pd.DataFrame.from_dict(d, orient = 'index')\n",
    "\n",
    "def preprocessing(df):\n",
    "    df['categories']= df.categories.apply(lambda x: x[0])\n",
    "    return df\n",
    "\n",
    "def removeCate(df, lis):\n",
    "    for l in lis:\n",
    "        df = df.loc[df.categories.apply(lambda x: l not in x), :]\n",
    "    return df\n",
    "\n",
    "def filterCate(df, lis):\n",
    "    for l in lis:\n",
    "        col = 'category_'+l\n",
    "        df = df.loc[df[col] == 1, :]\n",
    "    return df\n",
    "\n",
    "def basicInfo(df):\n",
    "    return df.shape, df.columns, df.isnull().sum(axis = 0), df.apply(lambda x: x.dtype, axis = 0)\n",
    "\n",
    "def subSet(df, num, num_most_common):\n",
    "    sub = df.loc[df.categories.apply(lambda x: len(x) == num), :]\n",
    "    return Counter([i for j in sub.categories for i in j]).most_common(num_most_common)\n",
    "\n",
    "def binaryCate(df, lis):\n",
    "    for i in lis:\n",
    "        df['category_' + i] = df.categories.apply(lambda x: 1 if i in x else 0)\n",
    "    return df\n",
    "\n",
    "def downloadPicSimple(df, path):\n",
    "    asins = []\n",
    "    classes = []\n",
    "    result = pd.DataFrame()\n",
    "    for i in range(df.shape[0]):\n",
    "        url = df.iloc[i, 5]\n",
    "        if pd.isna(url):\n",
    "            continue\n",
    "        try:\n",
    "            response = requests.get(url)\n",
    "            img = Image.open(BytesIO(response.content))\n",
    "            if img.mode == 'P':\n",
    "                img = img.convert('RGB')\n",
    "            asin = df.iloc[i,0]\n",
    "            cate = \",\".join(df.iloc[i,7])\n",
    "            img.save(path+asin+'_'+cate+'.jpg')\n",
    "            asins.append(asin)\n",
    "            classes.append(cate)\n",
    "        except OSError:\n",
    "            continue\n",
    "    result['asin'] = asins\n",
    "    result['class'] = classes\n",
    "    return result\n",
    "\n",
    "def downloadPic(df, path, label, num_per_category = 10000000):\n",
    "    asins = []\n",
    "    classes = []\n",
    "    result = pd.DataFrame()\n",
    "    flag = False\n",
    "    for i in range(df.shape[0]):\n",
    "        if i == num_per_category:\n",
    "            break\n",
    "        url = df.iloc[i, 5]\n",
    "        if pd.isna(url):\n",
    "            continue\n",
    "        try:\n",
    "            response = requests.get(url)\n",
    "            img = Image.open(BytesIO(response.content))\n",
    "            if flag != True:\n",
    "                if img.mode == 'P':\n",
    "                    img = img.convert('RGB')\n",
    "                asin = df.iloc[i,0]\n",
    "                cate = \",\".join(df.iloc[i,7])\n",
    "                img.save(path+asin+'_'+cate+'.jpg')\n",
    "                asins.append(asin)\n",
    "                classes.append(label)\n",
    "        except OSError:\n",
    "            flag = True\n",
    "            continue\n",
    "#         asin = df.iloc[i,0]\n",
    "#         img.save(path+asin+'.jpg')\n",
    "#         asins.append(asin)\n",
    "#         classes.append(label)\n",
    "        if flag == True:\n",
    "            flag = False\n",
    "    result['asin'] = asins\n",
    "    result['class'] = classes\n",
    "    return result\n",
    "        \n",
    "def downLoadCategories(df, lis, path, num_per_category):\n",
    "    labels = pd.DataFrame({'asin':[], 'class': []})\n",
    "    for l in lis:\n",
    "        temp = df.loc[df.categories.apply(lambda x: l in x), :]\n",
    "        d = downloadPic(temp, path, l, num_per_category)\n",
    "        labels = labels.append(d)\n",
    "        \n",
    "    return labels#.to_csv('labels.csv')\n",
    "        \n",
    "def testProduct(df, asin_num):\n",
    "    list1 = df.loc[df.asin==asin_num,:]\n",
    "    return list1.categories.tolist(), list1.reviewTime"
   ]
  },
  {
   "cell_type": "code",
   "execution_count": 3,
   "metadata": {},
   "outputs": [],
   "source": [
    "review = getDF(\"meta_Toys_and_Games.json.gz\")\n",
    "review = preprocessing(review)\n",
    "review = removeCate(review, ['Grown-Up Toys'])"
   ]
  },
  {
   "cell_type": "code",
   "execution_count": 4,
   "metadata": {},
   "outputs": [],
   "source": [
    "reviews = pd.read_json('reviews_Toys_and_Games.json', lines = True)"
   ]
  },
  {
   "cell_type": "code",
   "execution_count": 8,
   "metadata": {},
   "outputs": [],
   "source": [
    "#small1 = review.iloc[0:10, :] #small2 = reviews.iloc[0:10, :] #df = pd.merge(small1, small2, how='left', on='asin', validate=\"one_to_many\")#small1 = small1.merge(small2, left_on = 'asin', right_on = 'asin')\n",
    "merged = pd.merge(review, reviews, how='left', on=['asin'])"
   ]
  },
  {
   "cell_type": "code",
   "execution_count": null,
   "metadata": {},
   "outputs": [],
   "source": [
    "df = review.copy()\n",
    "df = preprocessing(df)\n",
    "df = removeCate(df, ['Grown-Up Toys'])"
   ]
  },
  {
   "cell_type": "code",
   "execution_count": 9,
   "metadata": {},
   "outputs": [],
   "source": [
    "def productInfo(df, asin_num = '0131358936'):\n",
    "    try:\n",
    "        subset = df.loc['asin' == asin_num, :]\n",
    "        review_num = len(Counter(subset.reviewText))\n",
    "    except KeyError:\n",
    "        pass\n",
    "    return df.isnull().sum(axis = 0), df.shape"
   ]
  },
  {
   "cell_type": "code",
   "execution_count": 10,
   "metadata": {},
   "outputs": [],
   "source": [
    "def showImg(df, row, col1, col2):\n",
    "    url = df.iloc[row, col1]\n",
    "    review = df.iloc[row, col2]\n",
    "    response = requests.get(url)\n",
    "    img = Image.open(BytesIO(response.content))\n",
    "    if img.mode == 'P':\n",
    "        img = img.convert('RGB')\n",
    "    return img, review\n",
    "# img, comment = showImg(temp1, 100, 5, 12)\n",
    "# print(comment)\n",
    "# img"
   ]
  },
  {
   "cell_type": "code",
   "execution_count": 11,
   "metadata": {},
   "outputs": [],
   "source": [
    "cleaned = merged.copy()\n",
    "def filtered(df, removelist):\n",
    "    for l in removelist:\n",
    "        df = df.loc[pd.notnull(df[l]), :]\n",
    "    return df\n",
    "\n",
    "cleaned = filtered(cleaned, ['title', 'price', 'reviewerID', 'description']) # reviewID represent the number of missing reviews"
   ]
  },
  {
   "cell_type": "code",
   "execution_count": 12,
   "metadata": {},
   "outputs": [
    {
     "data": {
      "text/plain": [
       "(asin                   0\n",
       " description            0\n",
       " title                  0\n",
       " price                  0\n",
       " salesRank          41764\n",
       " imUrl                  0\n",
       " brand             259647\n",
       " categories             0\n",
       " related            23840\n",
       " reviewerID             0\n",
       " reviewerName       11277\n",
       " helpful                0\n",
       " reviewText             0\n",
       " overall                0\n",
       " summary                0\n",
       " unixReviewTime         0\n",
       " reviewTime             0\n",
       " dtype: int64, (1812934, 17))"
      ]
     },
     "execution_count": 12,
     "metadata": {},
     "output_type": "execute_result"
    }
   ],
   "source": [
    "productInfo(cleaned, '0131358936')"
   ]
  },
  {
   "cell_type": "code",
   "execution_count": 18,
   "metadata": {},
   "outputs": [
    {
     "data": {
      "text/plain": [
       "(214049, asin              object\n",
       " description       object\n",
       " title             object\n",
       " price             object\n",
       " salesRank         object\n",
       " imUrl             object\n",
       " brand             object\n",
       " categories        object\n",
       " related           object\n",
       " reviewerID        object\n",
       " reviewerName      object\n",
       " helpful           object\n",
       " reviewText        object\n",
       " overall           object\n",
       " summary           object\n",
       " unixReviewTime    object\n",
       " reviewTime        object\n",
       " dtype: object)"
      ]
     },
     "execution_count": 18,
     "metadata": {},
     "output_type": "execute_result"
    }
   ],
   "source": [
    "# how many different products and how many different categories\n",
    "len(cleaned.asin.unique()), cleaned.apply(lambda x: x.dtype)"
   ]
  },
  {
   "cell_type": "code",
   "execution_count": 13,
   "metadata": {},
   "outputs": [],
   "source": [
    "def fillNAs(df, lis):\n",
    "    for l in lis:\n",
    "        df[l] = df[l].fillna('unknown')\n",
    "    return df\n",
    "cleaned = fillNAs(cleaned, ['salesRank', 'brand', 'related', 'reviewerID', 'reviewerName'])"
   ]
  },
  {
   "cell_type": "code",
   "execution_count": 43,
   "metadata": {},
   "outputs": [
    {
     "data": {
      "text/plain": [
       "asin              0\n",
       "description       0\n",
       "title             0\n",
       "price             0\n",
       "salesRank         0\n",
       "imUrl             0\n",
       "brand             0\n",
       "categories        0\n",
       "related           0\n",
       "reviewerID        0\n",
       "reviewerName      0\n",
       "helpful           0\n",
       "reviewText        0\n",
       "overall           0\n",
       "summary           0\n",
       "unixReviewTime    0\n",
       "reviewTime        0\n",
       "dtype: int64"
      ]
     },
     "execution_count": 43,
     "metadata": {},
     "output_type": "execute_result"
    }
   ],
   "source": [
    "# eda: how many categories\n",
    "#binaryCate(df, lis)\n",
    "#total categories\n",
    "cleaned.isnull().sum(axis = 0)"
   ]
  },
  {
   "cell_type": "code",
   "execution_count": 132,
   "metadata": {},
   "outputs": [],
   "source": [
    "user_gr10 = list(dict(Counter(cleaned.asin).most_common(34000)).values())\n",
    "key_gr10 = list(dict(Counter(cleaned.asin).most_common(34000)).keys())\n",
    "df_gr10 = cleaned.loc[cleaned.asin.apply(lambda x: x in key_gr10), :]"
   ]
  },
  {
   "cell_type": "code",
   "execution_count": null,
   "metadata": {},
   "outputs": [],
   "source": [
    "from "
   ]
  },
  {
   "cell_type": "code",
   "execution_count": 34,
   "metadata": {},
   "outputs": [
    {
     "name": "stderr",
     "output_type": "stream",
     "text": [
      "C:\\Users\\yulier\\Anaconda3\\envs\\insight\\lib\\site-packages\\pandas\\core\\generic.py:5208: SettingWithCopyWarning: \n",
      "A value is trying to be set on a copy of a slice from a DataFrame.\n",
      "Try using .loc[row_indexer,col_indexer] = value instead\n",
      "\n",
      "See the caveats in the documentation: http://pandas.pydata.org/pandas-docs/stable/user_guide/indexing.html#returning-a-view-versus-a-copy\n",
      "  self[name] = value\n"
     ]
    }
   ],
   "source": [
    "cleaned_train = cleaned.loc[0: math.floor(0.7 * cleaned.shape[0]), :]\n",
    "cleaned_test = cleaned.loc[math.floor(0.7 * cleaned.shape[0]): -1, :]\n"
   ]
  },
  {
   "cell_type": "code",
   "execution_count": 48,
   "metadata": {},
   "outputs": [
    {
     "data": {
      "text/plain": [
       "622197    13.93\n",
       "622198    13.93\n",
       "622199    13.93\n",
       "622200    13.93\n",
       "622201    13.93\n",
       "          ...  \n",
       "623891    13.93\n",
       "623892    13.93\n",
       "623893    13.93\n",
       "623894    13.93\n",
       "623895    13.93\n",
       "Name: price, Length: 1699, dtype: float64"
      ]
     },
     "execution_count": 48,
     "metadata": {},
     "output_type": "execute_result"
    }
   ],
   "source": [
    "cleaned_1st.loc[cleaned_1st.asin == 'B000W3XEQM', 'price']"
   ]
  },
  {
   "cell_type": "code",
   "execution_count": 16,
   "metadata": {},
   "outputs": [
    {
     "data": {
      "text/html": [
       "<div>\n",
       "<style scoped>\n",
       "    .dataframe tbody tr th:only-of-type {\n",
       "        vertical-align: middle;\n",
       "    }\n",
       "\n",
       "    .dataframe tbody tr th {\n",
       "        vertical-align: top;\n",
       "    }\n",
       "\n",
       "    .dataframe thead th {\n",
       "        text-align: right;\n",
       "    }\n",
       "</style>\n",
       "<table border=\"1\" class=\"dataframe\">\n",
       "  <thead>\n",
       "    <tr style=\"text-align: right;\">\n",
       "      <th></th>\n",
       "      <th>overall</th>\n",
       "    </tr>\n",
       "    <tr>\n",
       "      <th>reviewerID</th>\n",
       "      <th></th>\n",
       "    </tr>\n",
       "  </thead>\n",
       "  <tbody>\n",
       "    <tr>\n",
       "      <td>A0001528BGUBOEVR6T5U</td>\n",
       "      <td>5.0</td>\n",
       "    </tr>\n",
       "    <tr>\n",
       "      <td>A00018041RRVMCICCAP79</td>\n",
       "      <td>5.0</td>\n",
       "    </tr>\n",
       "    <tr>\n",
       "      <td>A00033963SSKB1BG7AL7C</td>\n",
       "      <td>1.0</td>\n",
       "    </tr>\n",
       "    <tr>\n",
       "      <td>A0004308GGXSGC3XLKV9</td>\n",
       "      <td>5.0</td>\n",
       "    </tr>\n",
       "    <tr>\n",
       "      <td>A00053701B3QMPT0WJYFN</td>\n",
       "      <td>4.5</td>\n",
       "    </tr>\n",
       "    <tr>\n",
       "      <td>...</td>\n",
       "      <td>...</td>\n",
       "    </tr>\n",
       "    <tr>\n",
       "      <td>AZZZOVIBXHGDR</td>\n",
       "      <td>4.0</td>\n",
       "    </tr>\n",
       "    <tr>\n",
       "      <td>AZZZRGMYLGFLM</td>\n",
       "      <td>5.0</td>\n",
       "    </tr>\n",
       "    <tr>\n",
       "      <td>AZZZU2TD7Q3ET</td>\n",
       "      <td>5.0</td>\n",
       "    </tr>\n",
       "    <tr>\n",
       "      <td>AZZZYAYJQSDOJ</td>\n",
       "      <td>4.5</td>\n",
       "    </tr>\n",
       "    <tr>\n",
       "      <td>AZZZZS5Z6MEWC</td>\n",
       "      <td>5.0</td>\n",
       "    </tr>\n",
       "  </tbody>\n",
       "</table>\n",
       "<p>1115858 rows × 1 columns</p>\n",
       "</div>"
      ],
      "text/plain": [
       "                       overall\n",
       "reviewerID                    \n",
       "A0001528BGUBOEVR6T5U       5.0\n",
       "A00018041RRVMCICCAP79      5.0\n",
       "A00033963SSKB1BG7AL7C      1.0\n",
       "A0004308GGXSGC3XLKV9       5.0\n",
       "A00053701B3QMPT0WJYFN      4.5\n",
       "...                        ...\n",
       "AZZZOVIBXHGDR              4.0\n",
       "AZZZRGMYLGFLM              5.0\n",
       "AZZZU2TD7Q3ET              5.0\n",
       "AZZZYAYJQSDOJ              4.5\n",
       "AZZZZS5Z6MEWC              5.0\n",
       "\n",
       "[1115858 rows x 1 columns]"
      ]
     },
     "execution_count": 16,
     "metadata": {},
     "output_type": "execute_result"
    }
   ],
   "source": [
    "cleaned.loc[:, ['reviewerID', 'overall']].groupby('reviewerID').agg('mean').sort"
   ]
  },
  {
   "cell_type": "code",
   "execution_count": null,
   "metadata": {},
   "outputs": [],
   "source": [
    "temp = merged.dropna()"
   ]
  },
  {
   "cell_type": "code",
   "execution_count": null,
   "metadata": {},
   "outputs": [],
   "source": [
    "temp.shape, len(Counter(temp.asin))"
   ]
  },
  {
   "cell_type": "code",
   "execution_count": null,
   "metadata": {},
   "outputs": [],
   "source": [
    "most_common3 = list(dict(subSet(df, 3, 30)).keys())"
   ]
  },
  {
   "cell_type": "code",
   "execution_count": null,
   "metadata": {},
   "outputs": [],
   "source": [
    "temp1 = temp.loc[temp.reviewText.str.contains('inexpensive'), :]"
   ]
  },
  {
   "cell_type": "code",
   "execution_count": null,
   "metadata": {},
   "outputs": [],
   "source": [
    "temp1.shape, len(Counter(temp1.asin))"
   ]
  },
  {
   "cell_type": "code",
   "execution_count": null,
   "metadata": {},
   "outputs": [],
   "source": [
    "temp1.loc[0,12]"
   ]
  },
  {
   "cell_type": "code",
   "execution_count": null,
   "metadata": {},
   "outputs": [],
   "source": [
    "allpics = downloadPicSimple(df, './picall/')"
   ]
  },
  {
   "cell_type": "code",
   "execution_count": null,
   "metadata": {},
   "outputs": [],
   "source": [
    "labels = downLoadCategories(df, most_common3, './picall/', 5)"
   ]
  },
  {
   "cell_type": "code",
   "execution_count": null,
   "metadata": {},
   "outputs": [],
   "source": [
    "labels.to_csv('labels.csv')"
   ]
  },
  {
   "cell_type": "code",
   "execution_count": null,
   "metadata": {},
   "outputs": [],
   "source": [
    "#testProduct(reviews, '0735335192')\n",
    "reviews.loc[reviews.asin =='0000191639', 'reviewTime']"
   ]
  },
  {
   "cell_type": "code",
   "execution_count": null,
   "metadata": {},
   "outputs": [],
   "source": [
    "keep_list = ['Learning & Education', 'Early Development Toys', 'Sorting & Stacking', 'Pretend Play', 'Building Toys'\\\n",
    "            'Toy Sports', 'Trains & Accessories', 'Kitchen Toys', 'Stacking Blocks', 'Beauty & Fashion','Tricycles, Scooters & Wagons'\\\n",
    "            ]\n",
    "games = df.loc[df.categories.apply(lambda x: 'Games' in x), :]\n",
    "puzzle = df.loc[df.categories.apply(lambda x: 'Jigsaw Puzzles' in x), :]\n",
    "education = df.loc[df.categories.apply(lambda x: keep_list[7] in x), :]\n",
    "#puzzle.iloc[0, 5]\n",
    "education.iloc[100,5]"
   ]
  },
  {
   "cell_type": "code",
   "execution_count": 58,
   "metadata": {},
   "outputs": [],
   "source": [
    "import requests\n",
    "response = requests.get('https://openapi.etsy.com/v2/users/etsystore?api_key=h3fhkkwc15jzoo7rp8laituj')"
   ]
  },
  {
   "cell_type": "code",
   "execution_count": 130,
   "metadata": {},
   "outputs": [],
   "source": [
    "#response = requests.get('https://openapi.etsy.com/v2/listings/696105354.json?api_key=h3fhkkwc15jzoo7rp8laituj?')\n",
    "#response = requests.get('https://openapi.etsy.com/v2/listings/696105354.json?api_key=h3fhkkwc15jzoo7rp8laituj?')\n",
    "response = requests.get('https://openapi.etsy.com/v2/listings/active?api_key=h3fhkkwc15jzoo7rp8laituj&keywords=toys&limit=100&offset=50000&includes=Images,Shop,User,inventory')"
   ]
  },
  {
   "cell_type": "code",
   "execution_count": 131,
   "metadata": {},
   "outputs": [
    {
     "name": "stdout",
     "output_type": "stream",
     "text": [
      "200\n"
     ]
    }
   ],
   "source": [
    "print(response.status_code)"
   ]
  },
  {
   "cell_type": "code",
   "execution_count": 132,
   "metadata": {},
   "outputs": [],
   "source": [
    "\n",
    "# print(response.json())\n",
    "result = response.json()    "
   ]
  },
  {
   "cell_type": "code",
   "execution_count": 141,
   "metadata": {},
   "outputs": [
    {
     "data": {
      "text/plain": [
       "{'listing_id': 635346229,\n",
       " 'state': 'active',\n",
       " 'user_id': 55345573,\n",
       " 'category_id': 69166491,\n",
       " 'title': 'Custom Christmas Elf Cheerleader Sweater Clothing Photo Prop',\n",
       " 'description': 'Item is NOT for children or pets & cannot be made to fit children or pets.\\n\\nItems fit the popular Christmas Elf and some items fit 12 inch dolls as well. \\n\\nFlat rate shipping for all orders placed at the same time.  No matter how many \\nitems you purchase your shipping stays the same!\\n\\nItem is slip on no velcro is needed or used to make these items.\\nMost items you must have removed the stitches holding the hands \\ntogether in order to dress your elf.\\n\\nI sell year round except for a break after Christmas so you can plan &  prepare\\naccordingly.  \\n\\nPlease remember items are custom made unless stated otherwise.  Pre-made\\nitems can be found in the ready to ship & sale sections of my store.\\n\\nProcessing time is needed for custom work & is shown in the listing.\\nExpect a few business days to two weeks Jan-Sept & 1-3 weeks Oct - November.  \\nDecember 1st I will remove all custom items and only in stock items will be shown \\nfor purchase and they will ship within a day or two of purchase.\\n\\nIf you order a custom item and a in stock item on the same order they\\nwill be shipped together in one shipment.  You can put ready to ship items\\non one order and custom made items on another order if you like in order to\\nreceive ready made items sooner.\\n\\nOrders made in November & December during the busiest time of year I\\nhighly recommend Priority Mail shipping.\\n\\n*  Priority Mail is a shipping service NOT Rush Service. \\n\\nSeller is not responsible for the delivery time of the USPS.  \\n\\nSeller proudly ships on time every time!\\n\\nPlease ask all questions before purchase.',\n",
       " 'creation_tsz': 1568767182,\n",
       " 'ending_tsz': 1579311582,\n",
       " 'original_creation_tsz': 1533921027,\n",
       " 'last_modified_tsz': 1568770635,\n",
       " 'price': '8.00',\n",
       " 'currency_code': 'USD',\n",
       " 'quantity': 3,\n",
       " 'sku': [],\n",
       " 'tags': ['Elf Doll Prop',\n",
       "  'Elf Clothing',\n",
       "  'Doll Clothes',\n",
       "  'christmas gift',\n",
       "  'Christmas Prop',\n",
       "  'Custom Elf Sweater',\n",
       "  'Elf Shirt',\n",
       "  'Photo Prop',\n",
       "  'Doll Clothing',\n",
       "  'Elf Doll Sweater',\n",
       "  'cheerleader',\n",
       "  'Doll Shelf Clothing',\n",
       "  'Christmas elf'],\n",
       " 'category_path': ['Toys', 'Doll Clothes', 'Shirts'],\n",
       " 'category_path_ids': [69150393, 68889468, 69166491],\n",
       " 'materials': ['stabilizer', 'embroidery thread', 'fleece'],\n",
       " 'shop_section_id': 21055968,\n",
       " 'featured_rank': None,\n",
       " 'state_tsz': 1568767115,\n",
       " 'url': 'https://www.etsy.com/listing/635346229/custom-christmas-elf-cheerleader-sweater?utm_source=buybaby&utm_medium=api&utm_campaign=api',\n",
       " 'views': 23,\n",
       " 'num_favorers': 2,\n",
       " 'shipping_template_id': None,\n",
       " 'processing_min': 5,\n",
       " 'processing_max': 15,\n",
       " 'who_made': 'i_did',\n",
       " 'is_supply': 'false',\n",
       " 'when_made': 'made_to_order',\n",
       " 'item_weight': None,\n",
       " 'item_weight_unit': 'oz',\n",
       " 'item_length': None,\n",
       " 'item_width': None,\n",
       " 'item_height': None,\n",
       " 'item_dimensions_unit': 'in',\n",
       " 'is_private': False,\n",
       " 'recipient': None,\n",
       " 'occasion': None,\n",
       " 'style': None,\n",
       " 'non_taxable': False,\n",
       " 'is_customizable': False,\n",
       " 'is_digital': False,\n",
       " 'file_data': '',\n",
       " 'should_auto_renew': False,\n",
       " 'language': 'en-US',\n",
       " 'has_variations': False,\n",
       " 'taxonomy_id': 1597,\n",
       " 'taxonomy_path': ['Toys & Games',\n",
       "  'Toys',\n",
       "  'Dolls & Action Figures',\n",
       "  'Doll Clothing',\n",
       "  'Shirts'],\n",
       " 'used_manufacturer': False,\n",
       " 'Images': [{'listing_image_id': 1632849059,\n",
       "   'hex_code': '729E9F',\n",
       "   'red': 114,\n",
       "   'green': 158,\n",
       "   'blue': 159,\n",
       "   'hue': 181,\n",
       "   'saturation': 28,\n",
       "   'brightness': 62,\n",
       "   'is_black_and_white': False,\n",
       "   'creation_tsz': 1533921028,\n",
       "   'listing_id': 635346229,\n",
       "   'rank': 1,\n",
       "   'url_75x75': 'https://i.etsystatic.com/10190960/d/il/3c45cb/1632849059/il_75x75.1632849059_aqej.jpg?version=0',\n",
       "   'url_170x135': 'https://i.etsystatic.com/10190960/d/il/3c45cb/1632849059/il_170x135.1632849059_aqej.jpg?version=0',\n",
       "   'url_570xN': 'https://i.etsystatic.com/10190960/r/il/3c45cb/1632849059/il_570xN.1632849059_aqej.jpg',\n",
       "   'url_fullxfull': 'https://i.etsystatic.com/10190960/r/il/3c45cb/1632849059/il_fullxfull.1632849059_aqej.jpg',\n",
       "   'full_height': 2551,\n",
       "   'full_width': 2816}],\n",
       " 'Shop': {'shop_id': 10190960,\n",
       "  'shop_name': 'ElfandMoreStore',\n",
       "  'user_id': 55345573,\n",
       "  'creation_tsz': 1414637593,\n",
       "  'title': 'Elf and More Store',\n",
       "  'announcement': 'Welcome to my store!\\r\\n\\r\\nThis store is devoted to Elf and Doll sweaters and\\r\\nphoto props.\\r\\n\\r\\nMy store is growing I add new items regularly please\\r\\nkeep checking back and don&#39;t forget to join my Facebook\\r\\npage to share photo&#39;s and ideas of your Elves wearing my\\r\\ncreations :)\\r\\n\\r\\nhttps://www.facebook.com/groups/1500368200267157/\\r\\n\\r\\n',\n",
       "  'currency_code': 'USD',\n",
       "  'is_vacation': False,\n",
       "  'vacation_message': 'Elf & More Store is now closed till January 2019!\\r\\n\\r\\nI&#39;m processing all orders to ship on or before their estimated ship date\\r\\nthat should be shown on your receipt.\\r\\n\\r\\nI ship all orders out USPS by the service you chose at checkout either First Class for $3.75 or Priority Mail if you upgraded to that faster service.   Etsy will send a message to let you know when you&#39;re order has shipped or you can check your order page to see if it has shipped or when the estimated ship date is.  \\r\\n\\r\\nYou can also visit Your Orders to see the USPS tracking information once your order has shipped.  \\r\\n\\r\\nI hope you have a Merry Christmas and a Happy New Year!\\r\\n\\r\\nPlease check back frequently during the year and plan & shop ahead I have lots of more great new items planned for 2019!  ',\n",
       "  'sale_message': 'Thank you for your purchase!\\r\\n\\r\\nPlease visit my Facebook page and share photo&#39;s of your Elf\\r\\nwearing my items.  I&#39;m hoping my customers can help each other\\r\\nwith sharing ideas and ways to use the Elves.\\r\\n\\r\\nhttps://www.facebook.com/groups/1500368200267157/\\r\\n\\r\\nYou&#39;ll receive a notice to let you know what day your order ships out.\\r\\n\\r\\nThanks so much!\\r\\nLisa\\r\\n\\r\\n',\n",
       "  'digital_sale_message': None,\n",
       "  'last_updated_tsz': 1568910898,\n",
       "  'listing_active_count': 752,\n",
       "  'digital_listing_count': 0,\n",
       "  'login_name': 'elfandmorestore',\n",
       "  'accepts_custom_requests': True,\n",
       "  'policy_welcome': 'Welcome!\\r\\n\\r\\nI&#39;m building my shop with great props for the Christmas Elf. \\r\\n\\r\\nPlease favorite my shop and stop back by I will keep adding items\\r\\nthroughout the year.',\n",
       "  'policy_payment': 'Paypal, Direct Checkout or Money Order',\n",
       "  'policy_shipping': 'I ship as quickly as I can.  Shipping time can vary depending on the number of orders ahead of you.  Typically a few business days to a week up to 2-3 weeks max at very busy times(Oct-Dec).  I always get your order out as quickly as I can.\\r\\n\\r\\nPlease visit my Facebook page for Elf Ideas and post YOUR Elf photo&#39;s to share with others.... I&#39;d love to see my customers helping each other with Elf Ideas!',\n",
       "  'policy_refunds': 'No refunds no exceptions.\\r\\n\\r\\nBuyer must contact seller withing 3 days of receiving\\r\\nif there is a defect and have in the mail back to seller\\r\\nwithing 7 days in order to receive a replacement.\\r\\n\\r\\nIf I&#39;ve made an error I will accept your return  \\r\\nor repair or replace as needed.  I will correct\\r\\nany error I&#39;ve made.\\r\\n\\r\\nI do not cancel orders.\\r\\n\\r\\nIf you&#39;ve made an error I will work with you \\r\\nto assist you as best I can.',\n",
       "  'policy_additional': 'All orders shipped by Paypal payment will ship to the address given on the Paypal payment per Paypal rules.\\r\\n\\r\\nAll orders paid by credit or debit card etc through Direct Checkout on Etsy will ship to the address given on the payment.  Please make sure your address is correct.  Seller accepts no responsibility of errors made on your part.  If you make a mistake and do not have your address correct on your payments.  I cannot alter your address after purchase.',\n",
       "  'policy_seller_info': '',\n",
       "  'policy_updated_tsz': 1546321765,\n",
       "  'policy_has_private_receipt_info': True,\n",
       "  'vacation_autoreply': 'Elf & More Store is now closed till January 2019!\\r\\n\\r\\nI&#39;m processing all orders to ship on or before their estimated ship date\\r\\nthat should be shown on your receipt.\\r\\n\\r\\nI ship all orders out USPS by the service you chose at checkout either First Class for $3.75 or Priority Mail if you upgraded to that faster service.   Etsy will send a message to let you know when you&#39;re order has shipped or you can check your order page to see if it has shipped or when the estimated ship date is.\\r\\n\\r\\nYou can also visit Your Orders to see the USPS tracking information once your order has shipped.  \\r\\n\\r\\nI hope you have a Merry Christmas and a Happy New Year!\\r\\n\\r\\nPlease check back frequently during the year and plan & shop ahead I have lots of more great new items planned for 2019!  ',\n",
       "  'url': 'https://www.etsy.com/shop/ElfandMoreStore?utm_source=buybaby&utm_medium=api&utm_campaign=api',\n",
       "  'image_url_760x100': 'https://i.etsystatic.com/iusb/83038e/14515627/iusb_760x100.14515627_j37y.jpg?version=0',\n",
       "  'num_favorers': 727,\n",
       "  'languages': ['en-US'],\n",
       "  'upcoming_local_event_id': None,\n",
       "  'icon_url_fullxfull': None,\n",
       "  'is_using_structured_policies': False,\n",
       "  'has_onboarded_structured_policies': False,\n",
       "  'has_unstructured_policies': True,\n",
       "  'custom_shops_state': 3,\n",
       "  'include_dispute_form_link': False,\n",
       "  'is_direct_checkout_onboarded': True,\n",
       "  'policy_privacy': None,\n",
       "  'is_calculated_eligible': True,\n",
       "  'is_opted_in_to_buyer_promise': True,\n",
       "  'is_shop_us_based': True},\n",
       " 'User': {'user_id': 55345573,\n",
       "  'login_name': 'elfandmorestore',\n",
       "  'creation_tsz': 1414585910,\n",
       "  'user_pub_key': {'key': '-----BEGIN PUBLIC KEY-----\\nMIICIjANBgkqhkiG9w0BAQEFAAOCAg8AMIICCgKCAgEA0uWxGXB+jTupLLpQscEM\\nvHd7iHmkr46Sz2zXlQlGH0W6wjCtf3UKpSBLEFW5K+pdd3XFQIt0HUJ5koORcmWD\\n05XBz0qPYEd5/QLczlPTywsxezPsxkQAdL5yYz+Ol0FNQjVtBKIKWR5zKF+bPnZ0\\nDW5gJT0FWVQgkQMNgfuPCZQgeWqTVJp5RjcMH4QLRozvh/C6RJp/llVVmsOWJvmV\\ntzNHHkbO37GWXJ3Gl7IjJ+HfDyrwayEaBpiChKq+Ydi++EI81BkIMC2/HmBKFowA\\nfthtl7VkutqUFgfk0fuC2N3Q8wV49BjIf696q3QQlcAPfrZTnlC1eZjg6qwwdO9q\\n4t0r7NUH4KrT9jMfDbp2UiGqnElW1f3/0wm163JlfnWPDei9c9xaZU6gaUoP8psl\\nnzHI2Ue1pkwq6hOsIwxsMivVS7QA10RK8LVyr0LMXxztxQj82BjgA+iNBgAEGRSQ\\nfQJi0+x5RPbnEgFph505XxbP0H1wYcLSrP3607sIhA/cIREyPmBb4GXZ90Mm7thh\\nDi2EwjHqsUliRxUNlNhWJSb2yLD+No6wqP6xWrlDpzV1Z0hjgYVV/h3u+QkiYRSX\\nO62b4Mwau2eOU8inm7Bz7pNL2/36K9aAJ4BtYsKOFwn5J9uV93zRGHZfrKLxSy2C\\n17tkaY6NqxBv2el3MiaWnkECAwEAAQ==\\n-----END PUBLIC KEY-----\\n',\n",
       "   'key_id': 34838759277},\n",
       "  'referred_by_user_id': None,\n",
       "  'feedback_info': {'count': 884, 'score': 99}},\n",
       " 'error_messages': ['Access denied on association inventory']}"
      ]
     },
     "execution_count": 141,
     "metadata": {},
     "output_type": "execute_result"
    }
   ],
   "source": [
    "results[0]"
   ]
  },
  {
   "cell_type": "code",
   "execution_count": 220,
   "metadata": {},
   "outputs": [
    {
     "name": "stdout",
     "output_type": "stream",
     "text": [
      "635346229\n",
      "active\n",
      "55345573\n",
      "69166491\n",
      "Custom Christmas Elf Cheerleader Sweater Clothing Photo Prop\n",
      "Item is NOT for children or pets & cannot be made to fit children or pets.\n",
      "\n",
      "Items fit the popular Christmas Elf and some items fit 12 inch dolls as well. \n",
      "\n",
      "Flat rate shipping for all orders placed at the same time.  No matter how many \n",
      "items you purchase your shipping stays the same!\n",
      "\n",
      "Item is slip on no velcro is needed or used to make these items.\n",
      "Most items you must have removed the stitches holding the hands \n",
      "together in order to dress your elf.\n",
      "\n",
      "I sell year round except for a break after Christmas so you can plan &  prepare\n",
      "accordingly.  \n",
      "\n",
      "Please remember items are custom made unless stated otherwise.  Pre-made\n",
      "items can be found in the ready to ship & sale sections of my store.\n",
      "\n",
      "Processing time is needed for custom work & is shown in the listing.\n",
      "Expect a few business days to two weeks Jan-Sept & 1-3 weeks Oct - November.  \n",
      "December 1st I will remove all custom items and only in stock items will be shown \n",
      "for purchase and they will ship within a day or two of purchase.\n",
      "\n",
      "If you order a custom item and a in stock item on the same order they\n",
      "will be shipped together in one shipment.  You can put ready to ship items\n",
      "on one order and custom made items on another order if you like in order to\n",
      "receive ready made items sooner.\n",
      "\n",
      "Orders made in November & December during the busiest time of year I\n",
      "highly recommend Priority Mail shipping.\n",
      "\n",
      "*  Priority Mail is a shipping service NOT Rush Service. \n",
      "\n",
      "Seller is not responsible for the delivery time of the USPS.  \n",
      "\n",
      "Seller proudly ships on time every time!\n",
      "\n",
      "Please ask all questions before purchase.\n",
      "1568767182\n",
      "1579311582\n",
      "1533921027\n",
      "1568770635\n",
      "8.00\n",
      "USD\n",
      "3\n",
      "<class 'list'>\n"
     ]
    },
    {
     "ename": "ValueError",
     "evalue": "Must have equal len keys and value when setting with an ndarray",
     "output_type": "error",
     "traceback": [
      "\u001b[1;31m---------------------------------------------------------------------------\u001b[0m",
      "\u001b[1;31mValueError\u001b[0m                                Traceback (most recent call last)",
      "\u001b[1;32m<ipython-input-220-fd8c21a7a4a1>\u001b[0m in \u001b[0;36m<module>\u001b[1;34m\u001b[0m\n\u001b[0;32m     13\u001b[0m             \u001b[1;32melse\u001b[0m\u001b[1;33m:\u001b[0m\u001b[1;33m\u001b[0m\u001b[1;33m\u001b[0m\u001b[0m\n\u001b[0;32m     14\u001b[0m                 \u001b[0mprint\u001b[0m\u001b[1;33m(\u001b[0m\u001b[0mtype\u001b[0m\u001b[1;33m(\u001b[0m\u001b[1;33m[\u001b[0m\u001b[0mv\u001b[0m\u001b[1;33m]\u001b[0m\u001b[1;33m)\u001b[0m\u001b[1;33m)\u001b[0m\u001b[1;33m\u001b[0m\u001b[1;33m\u001b[0m\u001b[0m\n\u001b[1;32m---> 15\u001b[1;33m                 \u001b[0mdata\u001b[0m\u001b[1;33m.\u001b[0m\u001b[0mloc\u001b[0m\u001b[1;33m[\u001b[0m\u001b[0mi\u001b[0m\u001b[1;33m,\u001b[0m \u001b[0mk\u001b[0m\u001b[1;33m]\u001b[0m \u001b[1;33m=\u001b[0m \u001b[1;33m[\u001b[0m\u001b[0mv\u001b[0m\u001b[1;33m]\u001b[0m\u001b[1;33m\u001b[0m\u001b[1;33m\u001b[0m\u001b[0m\n\u001b[0m\u001b[0;32m     16\u001b[0m         \u001b[1;32melif\u001b[0m \u001b[0misinstance\u001b[0m\u001b[1;33m(\u001b[0m\u001b[0mv\u001b[0m\u001b[1;33m,\u001b[0m \u001b[0mdict\u001b[0m\u001b[1;33m)\u001b[0m\u001b[1;33m:\u001b[0m\u001b[1;33m\u001b[0m\u001b[1;33m\u001b[0m\u001b[0m\n\u001b[0;32m     17\u001b[0m             \u001b[1;32mfor\u001b[0m \u001b[0mk1\u001b[0m\u001b[1;33m,\u001b[0m \u001b[0mv1\u001b[0m \u001b[1;32min\u001b[0m \u001b[0mimg\u001b[0m\u001b[1;33m.\u001b[0m\u001b[0mitems\u001b[0m\u001b[1;33m(\u001b[0m\u001b[1;33m)\u001b[0m\u001b[1;33m:\u001b[0m\u001b[1;33m\u001b[0m\u001b[1;33m\u001b[0m\u001b[0m\n",
      "\u001b[1;32m~\\Anaconda3\\envs\\insight\\lib\\site-packages\\pandas\\core\\indexing.py\u001b[0m in \u001b[0;36m__setitem__\u001b[1;34m(self, key, value)\u001b[0m\n\u001b[0;32m    203\u001b[0m             \u001b[0mkey\u001b[0m \u001b[1;33m=\u001b[0m \u001b[0mcom\u001b[0m\u001b[1;33m.\u001b[0m\u001b[0mapply_if_callable\u001b[0m\u001b[1;33m(\u001b[0m\u001b[0mkey\u001b[0m\u001b[1;33m,\u001b[0m \u001b[0mself\u001b[0m\u001b[1;33m.\u001b[0m\u001b[0mobj\u001b[0m\u001b[1;33m)\u001b[0m\u001b[1;33m\u001b[0m\u001b[1;33m\u001b[0m\u001b[0m\n\u001b[0;32m    204\u001b[0m         \u001b[0mindexer\u001b[0m \u001b[1;33m=\u001b[0m \u001b[0mself\u001b[0m\u001b[1;33m.\u001b[0m\u001b[0m_get_setitem_indexer\u001b[0m\u001b[1;33m(\u001b[0m\u001b[0mkey\u001b[0m\u001b[1;33m)\u001b[0m\u001b[1;33m\u001b[0m\u001b[1;33m\u001b[0m\u001b[0m\n\u001b[1;32m--> 205\u001b[1;33m         \u001b[0mself\u001b[0m\u001b[1;33m.\u001b[0m\u001b[0m_setitem_with_indexer\u001b[0m\u001b[1;33m(\u001b[0m\u001b[0mindexer\u001b[0m\u001b[1;33m,\u001b[0m \u001b[0mvalue\u001b[0m\u001b[1;33m)\u001b[0m\u001b[1;33m\u001b[0m\u001b[1;33m\u001b[0m\u001b[0m\n\u001b[0m\u001b[0;32m    206\u001b[0m \u001b[1;33m\u001b[0m\u001b[0m\n\u001b[0;32m    207\u001b[0m     \u001b[1;32mdef\u001b[0m \u001b[0m_validate_key\u001b[0m\u001b[1;33m(\u001b[0m\u001b[0mself\u001b[0m\u001b[1;33m,\u001b[0m \u001b[0mkey\u001b[0m\u001b[1;33m,\u001b[0m \u001b[0maxis\u001b[0m\u001b[1;33m:\u001b[0m \u001b[0mint\u001b[0m\u001b[1;33m)\u001b[0m\u001b[1;33m:\u001b[0m\u001b[1;33m\u001b[0m\u001b[1;33m\u001b[0m\u001b[0m\n",
      "\u001b[1;32m~\\Anaconda3\\envs\\insight\\lib\\site-packages\\pandas\\core\\indexing.py\u001b[0m in \u001b[0;36m_setitem_with_indexer\u001b[1;34m(self, indexer, value)\u001b[0m\n\u001b[0;32m    379\u001b[0m                             \u001b[0mindexer\u001b[0m\u001b[1;33m,\u001b[0m \u001b[0mself\u001b[0m\u001b[1;33m.\u001b[0m\u001b[0mobj\u001b[0m\u001b[1;33m.\u001b[0m\u001b[0maxes\u001b[0m\u001b[1;33m\u001b[0m\u001b[1;33m\u001b[0m\u001b[0m\n\u001b[0;32m    380\u001b[0m                         )\n\u001b[1;32m--> 381\u001b[1;33m                         \u001b[0mself\u001b[0m\u001b[1;33m.\u001b[0m\u001b[0m_setitem_with_indexer\u001b[0m\u001b[1;33m(\u001b[0m\u001b[0mnew_indexer\u001b[0m\u001b[1;33m,\u001b[0m \u001b[0mvalue\u001b[0m\u001b[1;33m)\u001b[0m\u001b[1;33m\u001b[0m\u001b[1;33m\u001b[0m\u001b[0m\n\u001b[0m\u001b[0;32m    382\u001b[0m \u001b[1;33m\u001b[0m\u001b[0m\n\u001b[0;32m    383\u001b[0m                         \u001b[1;32mreturn\u001b[0m \u001b[0mself\u001b[0m\u001b[1;33m.\u001b[0m\u001b[0mobj\u001b[0m\u001b[1;33m\u001b[0m\u001b[1;33m\u001b[0m\u001b[0m\n",
      "\u001b[1;32m~\\Anaconda3\\envs\\insight\\lib\\site-packages\\pandas\\core\\indexing.py\u001b[0m in \u001b[0;36m_setitem_with_indexer\u001b[1;34m(self, indexer, value)\u001b[0m\n\u001b[0;32m    525\u001b[0m                     \u001b[1;32mif\u001b[0m \u001b[0mlen\u001b[0m\u001b[1;33m(\u001b[0m\u001b[0mlabels\u001b[0m\u001b[1;33m)\u001b[0m \u001b[1;33m!=\u001b[0m \u001b[0mvalue\u001b[0m\u001b[1;33m.\u001b[0m\u001b[0mshape\u001b[0m\u001b[1;33m[\u001b[0m\u001b[1;36m1\u001b[0m\u001b[1;33m]\u001b[0m\u001b[1;33m:\u001b[0m\u001b[1;33m\u001b[0m\u001b[1;33m\u001b[0m\u001b[0m\n\u001b[0;32m    526\u001b[0m                         raise ValueError(\n\u001b[1;32m--> 527\u001b[1;33m                             \u001b[1;34m\"Must have equal len keys and value \"\u001b[0m\u001b[1;33m\u001b[0m\u001b[1;33m\u001b[0m\u001b[0m\n\u001b[0m\u001b[0;32m    528\u001b[0m                             \u001b[1;34m\"when setting with an ndarray\"\u001b[0m\u001b[1;33m\u001b[0m\u001b[1;33m\u001b[0m\u001b[0m\n\u001b[0;32m    529\u001b[0m                         )\n",
      "\u001b[1;31mValueError\u001b[0m: Must have equal len keys and value when setting with an ndarray"
     ]
    }
   ],
   "source": [
    "results = result['results']\n",
    "data = pd.DataFrame()\n",
    "for i in range(len(results)):\n",
    "    temp = results[i]\n",
    "    for k, v in temp.items():  \n",
    "        if isinstance(v, list) and len(v) != 0 and isinstance(v[0], dict):\n",
    "            img = v[0]\n",
    "            for k1, v1 in img.items():\n",
    "                data[k1] = v1\n",
    "        elif isinstance(v, list):\n",
    "            if len(v) == 0:\n",
    "                data[k] = None\n",
    "            else:\n",
    "                print()\n",
    "                data.loc[i, k] = [v]\n",
    "        elif isinstance(v, dict):\n",
    "            for k1, v1 in img.items():\n",
    "                if isinstance(v1, list):\n",
    "                    data[k1] = [v1]\n",
    "                else:\n",
    "                    data[k1] = v1\n",
    "        else:\n",
    "            print(v)\n",
    "            data.loc[i, k] = v"
   ]
  },
  {
   "cell_type": "code",
   "execution_count": 206,
   "metadata": {},
   "outputs": [],
   "source": [
    "d = pd.DataFrame()\n",
    "d['1'] = [[]]"
   ]
  },
  {
   "cell_type": "code",
   "execution_count": 207,
   "metadata": {},
   "outputs": [
    {
     "data": {
      "text/html": [
       "<div>\n",
       "<style scoped>\n",
       "    .dataframe tbody tr th:only-of-type {\n",
       "        vertical-align: middle;\n",
       "    }\n",
       "\n",
       "    .dataframe tbody tr th {\n",
       "        vertical-align: top;\n",
       "    }\n",
       "\n",
       "    .dataframe thead th {\n",
       "        text-align: right;\n",
       "    }\n",
       "</style>\n",
       "<table border=\"1\" class=\"dataframe\">\n",
       "  <thead>\n",
       "    <tr style=\"text-align: right;\">\n",
       "      <th></th>\n",
       "      <th>1</th>\n",
       "    </tr>\n",
       "  </thead>\n",
       "  <tbody>\n",
       "    <tr>\n",
       "      <td>0</td>\n",
       "      <td>[]</td>\n",
       "    </tr>\n",
       "  </tbody>\n",
       "</table>\n",
       "</div>"
      ],
      "text/plain": [
       "    1\n",
       "0  []"
      ]
     },
     "execution_count": 207,
     "metadata": {},
     "output_type": "execute_result"
    }
   ],
   "source": [
    "d"
   ]
  },
  {
   "cell_type": "code",
   "execution_count": null,
   "metadata": {},
   "outputs": [],
   "source": []
  }
 ],
 "metadata": {
  "kernelspec": {
   "display_name": "Python 3",
   "language": "python",
   "name": "python3"
  },
  "language_info": {
   "codemirror_mode": {
    "name": "ipython",
    "version": 3
   },
   "file_extension": ".py",
   "mimetype": "text/x-python",
   "name": "python",
   "nbconvert_exporter": "python",
   "pygments_lexer": "ipython3",
   "version": "3.7.4"
  }
 },
 "nbformat": 4,
 "nbformat_minor": 2
}
